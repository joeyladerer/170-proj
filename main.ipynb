{
 "cells": [
  {
   "cell_type": "code",
   "execution_count": 1,
   "metadata": {},
   "outputs": [
    {
     "name": "stdout",
     "output_type": "stream",
     "text": [
      "Requirement already satisfied: networkx in c:\\users\\brand\\appdata\\local\\packages\\pythonsoftwarefoundation.python.3.9_qbz5n2kfra8p0\\localcache\\local-packages\\python39\\site-packages (2.8.8)\n",
      "Note: you may need to restart the kernel to use updated packages.\n"
     ]
    },
    {
     "name": "stderr",
     "output_type": "stream",
     "text": [
      "WARNING: You are using pip version 21.3.1; however, version 22.3.1 is available.\n",
      "You should consider upgrading via the 'C:\\Users\\brand\\AppData\\Local\\Microsoft\\WindowsApps\\PythonSoftwareFoundation.Python.3.9_qbz5n2kfra8p0\\python.exe -m pip install --upgrade pip' command.\n"
     ]
    },
    {
     "name": "stdout",
     "output_type": "stream",
     "text": [
      "Requirement already satisfied: numpy in c:\\users\\brand\\appdata\\local\\packages\\pythonsoftwarefoundation.python.3.9_qbz5n2kfra8p0\\localcache\\local-packages\\python39\\site-packages (1.21.4)\n",
      "Note: you may need to restart the kernel to use updated packages.\n"
     ]
    },
    {
     "name": "stderr",
     "output_type": "stream",
     "text": [
      "WARNING: You are using pip version 21.3.1; however, version 22.3.1 is available.\n",
      "You should consider upgrading via the 'C:\\Users\\brand\\AppData\\Local\\Microsoft\\WindowsApps\\PythonSoftwareFoundation.Python.3.9_qbz5n2kfra8p0\\python.exe -m pip install --upgrade pip' command.\n"
     ]
    },
    {
     "name": "stdout",
     "output_type": "stream",
     "text": [
      "Requirement already satisfied: tqdm in c:\\users\\brand\\appdata\\local\\packages\\pythonsoftwarefoundation.python.3.9_qbz5n2kfra8p0\\localcache\\local-packages\\python39\\site-packages (4.64.1)\n",
      "Requirement already satisfied: colorama in c:\\users\\brand\\appdata\\local\\packages\\pythonsoftwarefoundation.python.3.9_qbz5n2kfra8p0\\localcache\\local-packages\\python39\\site-packages (from tqdm) (0.4.5)\n",
      "Note: you may need to restart the kernel to use updated packages.\n"
     ]
    },
    {
     "name": "stderr",
     "output_type": "stream",
     "text": [
      "WARNING: You are using pip version 21.3.1; however, version 22.3.1 is available.\n",
      "You should consider upgrading via the 'C:\\Users\\brand\\AppData\\Local\\Microsoft\\WindowsApps\\PythonSoftwareFoundation.Python.3.9_qbz5n2kfra8p0\\python.exe -m pip install --upgrade pip' command.\n"
     ]
    },
    {
     "name": "stdout",
     "output_type": "stream",
     "text": [
      "Requirement already satisfied: matplotlib in c:\\users\\brand\\appdata\\local\\packages\\pythonsoftwarefoundation.python.3.9_qbz5n2kfra8p0\\localcache\\local-packages\\python39\\site-packages (3.5.0)\n",
      "Requirement already satisfied: fonttools>=4.22.0 in c:\\users\\brand\\appdata\\local\\packages\\pythonsoftwarefoundation.python.3.9_qbz5n2kfra8p0\\localcache\\local-packages\\python39\\site-packages (from matplotlib) (4.28.2)\n",
      "Requirement already satisfied: kiwisolver>=1.0.1 in c:\\users\\brand\\appdata\\local\\packages\\pythonsoftwarefoundation.python.3.9_qbz5n2kfra8p0\\localcache\\local-packages\\python39\\site-packages (from matplotlib) (1.3.2)\n",
      "Requirement already satisfied: numpy>=1.17 in c:\\users\\brand\\appdata\\local\\packages\\pythonsoftwarefoundation.python.3.9_qbz5n2kfra8p0\\localcache\\local-packages\\python39\\site-packages (from matplotlib) (1.21.4)\n",
      "Requirement already satisfied: setuptools-scm>=4 in c:\\users\\brand\\appdata\\local\\packages\\pythonsoftwarefoundation.python.3.9_qbz5n2kfra8p0\\localcache\\local-packages\\python39\\site-packages (from matplotlib) (6.3.2)\n",
      "Requirement already satisfied: packaging>=20.0 in c:\\users\\brand\\appdata\\local\\packages\\pythonsoftwarefoundation.python.3.9_qbz5n2kfra8p0\\localcache\\local-packages\\python39\\site-packages (from matplotlib) (21.3)\n",
      "Requirement already satisfied: python-dateutil>=2.7 in c:\\users\\brand\\appdata\\local\\packages\\pythonsoftwarefoundation.python.3.9_qbz5n2kfra8p0\\localcache\\local-packages\\python39\\site-packages (from matplotlib) (2.8.2)\n",
      "Requirement already satisfied: pillow>=6.2.0 in c:\\users\\brand\\appdata\\local\\packages\\pythonsoftwarefoundation.python.3.9_qbz5n2kfra8p0\\localcache\\local-packages\\python39\\site-packages (from matplotlib) (8.4.0)\n",
      "Requirement already satisfied: cycler>=0.10 in c:\\users\\brand\\appdata\\local\\packages\\pythonsoftwarefoundation.python.3.9_qbz5n2kfra8p0\\localcache\\local-packages\\python39\\site-packages (from matplotlib) (0.11.0)\n",
      "Requirement already satisfied: pyparsing>=2.2.1 in c:\\users\\brand\\appdata\\local\\packages\\pythonsoftwarefoundation.python.3.9_qbz5n2kfra8p0\\localcache\\local-packages\\python39\\site-packages (from matplotlib) (3.0.6)\n",
      "Requirement already satisfied: six>=1.5 in c:\\users\\brand\\appdata\\local\\packages\\pythonsoftwarefoundation.python.3.9_qbz5n2kfra8p0\\localcache\\local-packages\\python39\\site-packages (from python-dateutil>=2.7->matplotlib) (1.16.0)\n",
      "Requirement already satisfied: tomli>=1.0.0 in c:\\users\\brand\\appdata\\local\\packages\\pythonsoftwarefoundation.python.3.9_qbz5n2kfra8p0\\localcache\\local-packages\\python39\\site-packages (from setuptools-scm>=4->matplotlib) (1.2.2)\n",
      "Requirement already satisfied: setuptools in c:\\program files\\windowsapps\\pythonsoftwarefoundation.python.3.9_3.9.3568.0_x64__qbz5n2kfra8p0\\lib\\site-packages (from setuptools-scm>=4->matplotlib) (58.1.0)\n",
      "Note: you may need to restart the kernel to use updated packages.\n"
     ]
    },
    {
     "name": "stderr",
     "output_type": "stream",
     "text": [
      "WARNING: You are using pip version 21.3.1; however, version 22.3.1 is available.\n",
      "You should consider upgrading via the 'C:\\Users\\brand\\AppData\\Local\\Microsoft\\WindowsApps\\PythonSoftwareFoundation.Python.3.9_qbz5n2kfra8p0\\python.exe -m pip install --upgrade pip' command.\n"
     ]
    }
   ],
   "source": [
    "# Install packages\n",
    "%pip install networkx\n",
    "%pip install numpy\n",
    "%pip install tqdm\n",
    "%pip install matplotlib"
   ]
  },
  {
   "cell_type": "code",
   "execution_count": 2,
   "metadata": {},
   "outputs": [
    {
     "name": "stderr",
     "output_type": "stream",
     "text": [
      "C:\\Users\\brand\\AppData\\Local\\Packages\\PythonSoftwareFoundation.Python.3.9_qbz5n2kfra8p0\\LocalCache\\local-packages\\Python39\\site-packages\\tqdm\\auto.py:22: TqdmWarning: IProgress not found. Please update jupyter and ipywidgets. See https://ipywidgets.readthedocs.io/en/stable/user_install.html\n",
      "  from .autonotebook import tqdm as notebook_tqdm\n"
     ]
    }
   ],
   "source": [
    "# The starter code is short and simple, take a look!\n",
    "from starter import *"
   ]
  },
  {
   "cell_type": "markdown",
   "metadata": {},
   "source": [
    "# Phase 1 - Create Inputs"
   ]
  },
  {
   "cell_type": "code",
   "execution_count": null,
   "metadata": {},
   "outputs": [],
   "source": [
    "# Add edges with G.add_edge(u, v, weight=w)\n",
    "# Idea: consider making the inputs with a solution in mind, \n",
    "# such that you know the solution when the outputs are released\n",
    "\n",
    "def small(G: nx.Graph):\n",
    "    # TODO add edges to complete the small input\n",
    "    pass\n",
    "    \n",
    "def medium(G: nx.Graph):\n",
    "    # TODO add edges to complete the medium input\n",
    "    pass\n",
    "    \n",
    "def large(G: nx.Graph):\n",
    "    # TODO add edges to complete the large input\n",
    "    pass"
   ]
  },
  {
   "cell_type": "code",
   "execution_count": null,
   "metadata": {},
   "outputs": [],
   "source": [
    "G = nx.empty_graph(N_SMALL)\n",
    "small(G)\n",
    "write_input(G, 'small.in')\n",
    "\n",
    "G = nx.empty_graph(N_MEDIUM)\n",
    "medium(G)\n",
    "write_input(G, 'medium.in')\n",
    "\n",
    "G = nx.empty_graph(N_LARGE)\n",
    "large(G)\n",
    "write_input(G, 'large.in')"
   ]
  },
  {
   "cell_type": "markdown",
   "metadata": {},
   "source": [
    "# Phase 2 - Implement your Solver"
   ]
  },
  {
   "cell_type": "code",
   "execution_count": 3,
   "metadata": {},
   "outputs": [],
   "source": [
    "import random\n",
    "# G = read_input('/Users/bryceharrell/Desktop/170/170-proj/inputs/small1.in')\n",
    "# print(random.sample(G.nodes, 10))\n",
    "# teamCount = random.randint(1, len(G.nodes) // 5)\n",
    "# print(teamCount)\n",
    "# teamSize = len(G.nodes) // teamCount\n",
    "# print(teamSize)\n",
    "\n",
    "\n"
   ]
  },
  {
   "cell_type": "code",
   "execution_count": 4,
   "metadata": {},
   "outputs": [],
   "source": [
    "import copy\n",
    "def removeNodes(List, toRemove):\n",
    "    for node in toRemove:\n",
    "        List.remove(node)\n",
    "    return List\n",
    "        \n",
    "\n",
    "def randomTeamSample(G, teamCount):\n",
    "    nodes = copy.copy(list(G))\n",
    "    #teamCount = random.randint(1, len(nodes) // 6)\n",
    "    #print(\"Team Count: \" + str(teamCount))\n",
    "    teamSize = len(nodes) // teamCount\n",
    "    #print(\"Team Size: \" + str(teamSize))\n",
    "    for teamNum in range(1, teamCount + 1):\n",
    "        verts = random.sample(nodes, teamSize)\n",
    "        nodes = removeNodes(nodes, verts)\n",
    "        for v in verts:\n",
    "            G.nodes[v]['team'] = teamNum\n",
    "    \n",
    "    for remainingNode in nodes:\n",
    "        G.nodes[remainingNode]['team'] = random.randint(1, teamCount)\n",
    "    \n",
    "    return G\n",
    "\n",
    "def getNeighbors(G, currentTeamCount):\n",
    "    neighbors = []\n",
    "    \n",
    "\n",
    "    for v in G.nodes():\n",
    "        otherVert = random.sample(G.nodes(), 1)\n",
    "        if (v != otherVert):\n",
    "            copyG = copy.copy(G)\n",
    "            team1 = copyG.nodes[v]['team']\n",
    "            team2 = copyG.nodes[otherVert[0]]['team']\n",
    "            copyG.nodes[v]['team'] = team2\n",
    "            copyG.nodes[otherVert[0]]['team'] = team1\n",
    "            #print(\"Swapping \" + str(v) + \"from team \" + str(team1) + \" with \" + str(otherVert) + \" from team \" + str(team2))\n",
    "        neighbors.append(copyG)\n",
    "\n",
    "    if (currentTeamCount > 1):\n",
    "        oneLess = randomTeamSample(G, currentTeamCount - 1)\n",
    "        for v in oneLess.nodes():\n",
    "            otherVert = random.sample(oneLess.nodes(), 1)\n",
    "            if (v != otherVert):\n",
    "                copyG = copy.copy(oneLess)\n",
    "                team1 = copyG.nodes[v]['team']\n",
    "                team2 = copyG.nodes[otherVert[0]]['team']\n",
    "                copyG.nodes[v]['team'] = team2\n",
    "                copyG.nodes[otherVert[0]]['team'] = team1\n",
    "                #print(\"Swapping \" + str(v) + \"from team \" + str(team1) + \" with \" + str(otherVert) + \" from team \" + str(team2))\n",
    "            neighbors.append(copyG)\n",
    "\n",
    "    oneMore = randomTeamSample(G, currentTeamCount + 1)\n",
    "    for v in oneMore.nodes():\n",
    "        otherVert = random.sample(oneMore.nodes(), 1)\n",
    "        if (v != otherVert):\n",
    "            copyG = copy.copy(oneMore)\n",
    "            team1 = copyG.nodes[v]['team']\n",
    "            team2 = copyG.nodes[otherVert[0]]['team']\n",
    "            copyG.nodes[v]['team'] = team2\n",
    "            copyG.nodes[otherVert[0]]['team'] = team1\n",
    "            #print(\"Swapping \" + str(v) + \"from team \" + str(team1) + \" with \" + str(otherVert) + \" from team \" + str(team2))\n",
    "        neighbors.append(copyG)\n",
    "    #print(len(neighbors))\n",
    "    return neighbors\n",
    "\n",
    "def getTeamCount(G):\n",
    "    teams = set()\n",
    "    for v in G.nodes:\n",
    "        if (G.nodes[v]['team'] not in teams):\n",
    "            teams.add(G.nodes[v]['team'])\n",
    "    return len(teams)\n",
    "\n",
    "    \n"
   ]
  },
  {
   "cell_type": "code",
   "execution_count": 5,
   "metadata": {},
   "outputs": [],
   "source": [
    "# randomTeamSample(G, 10)\n",
    "# neighbors = getNeighbors(G, 10)\n",
    "#for n in neighbors:\n",
    "    #print(getTeamCount(n))\n",
    "\n",
    "#getTeamCount(G)\n",
    "#validate_output(G)\n",
    "#visualize(G)\n",
    "#score(G)"
   ]
  },
  {
   "cell_type": "code",
   "execution_count": 16,
   "metadata": {},
   "outputs": [],
   "source": [
    "\n",
    "def simulated_annealing(G, k):\n",
    "    initialTemp = 100\n",
    "    finalTemp = 1\n",
    "    alpha = 20\n",
    "    scores = []\n",
    "\n",
    "    currentTemp = initialTemp\n",
    "\n",
    "\n",
    "    # define the starting solution as a random assignment of penguins to teams\n",
    "    currentTeamCount = random.randint(1, 10)\n",
    "    # currentTeamCount = random.randint(1, len(G.nodes) // 6)\n",
    "    current_solution = randomTeamSample(G, currentTeamCount)\n",
    "    \n",
    "    \n",
    "\n",
    "    while currentTemp > finalTemp:\n",
    "        # choose a random solution from the neighborhood of the current solution\n",
    "        # print(\"Current Team Count: \" + str(currentTeamCount))\n",
    "        neighbors = getNeighbors(current_solution, currentTeamCount)\n",
    "        next_solution = random.sample(neighbors, 1)\n",
    "        # print(next_solution == current_solution)\n",
    "        next_solution = next_solution[0]\n",
    "        nextTeamCount = getTeamCount(next_solution)\n",
    "        # print(\"Next Team Count: \" + str(nextTeamCount))\n",
    "\n",
    "\n",
    "\n",
    "        # evaluate the cost of the new solution\n",
    "        current_cost = score(current_solution)\n",
    "        # print(\"Current Cost: \" + str(current_cost))\n",
    "        next_cost = score(next_solution)\n",
    "        # print(\"Next Cost: \" + str(next_cost))\n",
    "        scores.append(current_cost)\n",
    "\n",
    "        # accept the new solution if it has a lower cost\n",
    "        if next_cost < current_cost:\n",
    "            current_solution = next_solution\n",
    "            currentTeamCount = nextTeamCount\n",
    "        else:\n",
    "            # print(\"Running else\")\n",
    "            # accept the new solution with probability exp(-ΔE / kT)\n",
    "            p = np.exp(-(next_cost - current_cost) / (k * currentTemp))\n",
    "            if random.uniform(0, 1) < p:\n",
    "                current_solution = next_solution\n",
    "                currentTeamCount = nextTeamCount\n",
    "        currentTemp -= alpha\n",
    "\n",
    "    # return the approximate solution found by the algorithm\n",
    "    # print(current_cost)\n",
    "    # print(min(scores))\n",
    "    # print(getTeamCount(current_solution))\n",
    "\n",
    "\n",
    "\n",
    "\n",
    "\n",
    "\n",
    "def solve(G: nx.Graph):\n",
    "    # TODO implement this function with your solver\n",
    "    # Assign a team to v with G.nodes[v]['team'] = team_id\n",
    "    # Access the team of v with team_id = G.nodes[v]['team']\n",
    "    # create a graph from the input data\n",
    "\n",
    "\n",
    "    # define the temperature schedule and the constant k\n",
    "    T = [100, 10, 1, 0.1, 0.01, 0.001]\n",
    "    k = 1\n",
    "\n",
    "    # find the approximate solution to the problem\n",
    "    simulated_annealing(G, k)\n",
    "\n",
    "\n",
    "    pass"
   ]
  },
  {
   "cell_type": "code",
   "execution_count": 17,
   "metadata": {},
   "outputs": [
    {
     "name": "stderr",
     "output_type": "stream",
     "text": [
      "C:\\Users\\brand\\AppData\\Local\\Temp\\ipykernel_7596\\797937519.py:30: DeprecationWarning: Sampling from a set deprecated\n",
      "since Python 3.9 and will be removed in a subsequent version.\n",
      "  otherVert = random.sample(G.nodes(), 1)\n",
      "C:\\Users\\brand\\AppData\\Local\\Temp\\ipykernel_7596\\797937519.py:43: DeprecationWarning: Sampling from a set deprecated\n",
      "since Python 3.9 and will be removed in a subsequent version.\n",
      "  otherVert = random.sample(oneLess.nodes(), 1)\n",
      "C:\\Users\\brand\\AppData\\Local\\Temp\\ipykernel_7596\\797937519.py:55: DeprecationWarning: Sampling from a set deprecated\n",
      "since Python 3.9 and will be removed in a subsequent version.\n",
      "  otherVert = random.sample(oneMore.nodes(), 1)\n"
     ]
    },
    {
     "data": {
      "image/png": "[encoded data removed]",
      "text/plain": [
       "<Figure size 640x480 with 1 Axes>"
      ]
     },
     "metadata": {},
     "output_type": "display_data"
    },
    {
     "data": {
      "text/plain": [
       "409812.5061018658"
      ]
     },
     "execution_count": 17,
     "metadata": {},
     "output_type": "execute_result"
    }
   ],
   "source": [
    "G = read_input('./inputs/small1.in')\n",
    "solve(G)\n",
    "validate_output(G)\n",
    "visualize(G)\n",
    "score(G)"
   ]
  },
  {
   "cell_type": "code",
   "execution_count": 18,
   "metadata": {},
   "outputs": [
    {
     "name": "stdout",
     "output_type": "stream",
     "text": [
      "./inputs/small1.in: cost 2346620.579480672\n"
     ]
    },
    {
     "name": "stderr",
     "output_type": "stream",
     "text": [
      "C:\\Users\\brand\\AppData\\Local\\Temp\\ipykernel_7596\\797937519.py:30: DeprecationWarning: Sampling from a set deprecated\n",
      "since Python 3.9 and will be removed in a subsequent version.\n",
      "  otherVert = random.sample(G.nodes(), 1)\n",
      "C:\\Users\\brand\\AppData\\Local\\Temp\\ipykernel_7596\\797937519.py:43: DeprecationWarning: Sampling from a set deprecated\n",
      "since Python 3.9 and will be removed in a subsequent version.\n",
      "  otherVert = random.sample(oneLess.nodes(), 1)\n",
      "C:\\Users\\brand\\AppData\\Local\\Temp\\ipykernel_7596\\797937519.py:55: DeprecationWarning: Sampling from a set deprecated\n",
      "since Python 3.9 and will be removed in a subsequent version.\n",
      "  otherVert = random.sample(oneMore.nodes(), 1)\n"
     ]
    }
   ],
   "source": [
    "run(solve, './inputs/small1.in', './outputs/small1.out', overwrite=True)"
   ]
  },
  {
   "cell_type": "code",
   "execution_count": 19,
   "metadata": {},
   "outputs": [
    {
     "name": "stderr",
     "output_type": "stream",
     "text": [
      "  0%|          | 0/780 [00:00<?, ?it/s]C:\\Users\\brand\\AppData\\Local\\Temp\\ipykernel_7596\\797937519.py:30: DeprecationWarning: Sampling from a set deprecated\n",
      "since Python 3.9 and will be removed in a subsequent version.\n",
      "  otherVert = random.sample(G.nodes(), 1)\n",
      "C:\\Users\\brand\\AppData\\Local\\Temp\\ipykernel_7596\\797937519.py:43: DeprecationWarning: Sampling from a set deprecated\n",
      "since Python 3.9 and will be removed in a subsequent version.\n",
      "  otherVert = random.sample(oneLess.nodes(), 1)\n",
      "C:\\Users\\brand\\AppData\\Local\\Temp\\ipykernel_7596\\797937519.py:55: DeprecationWarning: Sampling from a set deprecated\n",
      "since Python 3.9 and will be removed in a subsequent version.\n",
      "  otherVert = random.sample(oneMore.nodes(), 1)\n",
      "  0%|          | 1/780 [00:00<04:20,  2.99it/s]"
     ]
    },
    {
     "name": "stdout",
     "output_type": "stream",
     "text": [
      "inputs\\large1.in: cost 3.831008000716577e+24\n"
     ]
    },
    {
     "name": "stderr",
     "output_type": "stream",
     "text": [
      "  0%|          | 2/780 [00:00<05:28,  2.37it/s]"
     ]
    },
    {
     "name": "stdout",
     "output_type": "stream",
     "text": [
      "inputs\\large10.in: cost 1.236279959951699e+36\n"
     ]
    },
    {
     "name": "stderr",
     "output_type": "stream",
     "text": [
      "  0%|          | 3/780 [00:01<05:11,  2.50it/s]"
     ]
    },
    {
     "name": "stdout",
     "output_type": "stream",
     "text": [
      "inputs\\large100.in: cost 5.118122037182254e+28\n"
     ]
    },
    {
     "name": "stderr",
     "output_type": "stream",
     "text": [
      "  1%|          | 4/780 [00:01<05:12,  2.48it/s]"
     ]
    },
    {
     "name": "stdout",
     "output_type": "stream",
     "text": [
      "inputs\\large101.in: cost 1465227890.1285932\n"
     ]
    },
    {
     "name": "stderr",
     "output_type": "stream",
     "text": [
      "  1%|          | 5/780 [00:02<05:18,  2.43it/s]"
     ]
    },
    {
     "name": "stdout",
     "output_type": "stream",
     "text": [
      "inputs\\large102.in: cost 2.7585134545231705e+35\n"
     ]
    },
    {
     "name": "stderr",
     "output_type": "stream",
     "text": [
      "  1%|          | 6/780 [00:02<05:00,  2.57it/s]"
     ]
    },
    {
     "name": "stdout",
     "output_type": "stream",
     "text": [
      "inputs\\large103.in: cost 1465211082.1285932\n"
     ]
    },
    {
     "name": "stderr",
     "output_type": "stream",
     "text": [
      "  1%|          | 7/780 [00:02<04:48,  2.68it/s]"
     ]
    },
    {
     "name": "stdout",
     "output_type": "stream",
     "text": [
      "inputs\\large104.in: cost 1.6948892444103337e+30\n"
     ]
    },
    {
     "name": "stderr",
     "output_type": "stream",
     "text": [
      "  1%|          | 8/780 [00:03<04:48,  2.67it/s]"
     ]
    },
    {
     "name": "stdout",
     "output_type": "stream",
     "text": [
      "inputs\\large105.in: cost 1.7392749415205015e+20\n"
     ]
    },
    {
     "name": "stderr",
     "output_type": "stream",
     "text": [
      "  1%|          | 9/780 [00:03<04:23,  2.93it/s]"
     ]
    },
    {
     "name": "stdout",
     "output_type": "stream",
     "text": [
      "inputs\\large106.in: cost 101470.44943837206\n"
     ]
    },
    {
     "name": "stderr",
     "output_type": "stream",
     "text": [
      "  1%|▏         | 10/780 [00:03<04:39,  2.75it/s]"
     ]
    },
    {
     "name": "stdout",
     "output_type": "stream",
     "text": [
      "inputs\\large107.in: cost 6.155075488793533e+34\n"
     ]
    },
    {
     "name": "stderr",
     "output_type": "stream",
     "text": [
      "  1%|▏         | 11/780 [00:04<04:15,  3.01it/s]"
     ]
    },
    {
     "name": "stdout",
     "output_type": "stream",
     "text": [
      "inputs\\large108.in: cost 393133429721405.5\n"
     ]
    },
    {
     "name": "stderr",
     "output_type": "stream",
     "text": [
      "  2%|▏         | 12/780 [00:04<04:28,  2.86it/s]"
     ]
    },
    {
     "name": "stdout",
     "output_type": "stream",
     "text": [
      "inputs\\large109.in: cost 3.880846962436207e+19\n"
     ]
    },
    {
     "name": "stderr",
     "output_type": "stream",
     "text": [
      "  2%|▏         | 13/780 [00:04<04:28,  2.86it/s]"
     ]
    },
    {
     "name": "stdout",
     "output_type": "stream",
     "text": [
      "inputs\\large11.in: cost 48516568541.97903\n"
     ]
    },
    {
     "name": "stderr",
     "output_type": "stream",
     "text": [
      "  2%|▏         | 14/780 [00:05<04:16,  2.99it/s]"
     ]
    },
    {
     "name": "stdout",
     "output_type": "stream",
     "text": [
      "inputs\\large110.in: cost 9971578.31606508\n"
     ]
    },
    {
     "name": "stderr",
     "output_type": "stream",
     "text": [
      "  2%|▏         | 15/780 [00:05<04:34,  2.79it/s]"
     ]
    },
    {
     "name": "stdout",
     "output_type": "stream",
     "text": [
      "inputs\\large111.in: cost 1.0148003881138887e+35\n"
     ]
    },
    {
     "name": "stderr",
     "output_type": "stream",
     "text": [
      "  2%|▏         | 16/780 [00:05<04:33,  2.79it/s]"
     ]
    },
    {
     "name": "stdout",
     "output_type": "stream",
     "text": [
      "inputs\\large112.in: cost 1.301879120512798e+16\n"
     ]
    },
    {
     "name": "stderr",
     "output_type": "stream",
     "text": [
      "  2%|▏         | 17/780 [00:06<04:30,  2.82it/s]"
     ]
    },
    {
     "name": "stdout",
     "output_type": "stream",
     "text": [
      "inputs\\large113.in: cost 2.3538526683702055e+19\n"
     ]
    },
    {
     "name": "stderr",
     "output_type": "stream",
     "text": [
      "  2%|▏         | 18/780 [00:06<04:42,  2.70it/s]"
     ]
    },
    {
     "name": "stdout",
     "output_type": "stream",
     "text": [
      "inputs\\large114.in: cost 1.236279959951699e+36\n"
     ]
    },
    {
     "name": "stderr",
     "output_type": "stream",
     "text": [
      "  2%|▏         | 19/780 [00:06<04:18,  2.94it/s]"
     ]
    },
    {
     "name": "stdout",
     "output_type": "stream",
     "text": [
      "inputs\\large115.in: cost 131881587249.84764\n"
     ]
    },
    {
     "name": "stderr",
     "output_type": "stream",
     "text": [
      "  3%|▎         | 20/780 [00:07<04:21,  2.91it/s]"
     ]
    },
    {
     "name": "stdout",
     "output_type": "stream",
     "text": [
      "inputs\\large116.in: cost 5.834617425275749e+16\n"
     ]
    },
    {
     "name": "stderr",
     "output_type": "stream",
     "text": [
      "  3%|▎         | 21/780 [00:07<04:06,  3.08it/s]"
     ]
    },
    {
     "name": "stdout",
     "output_type": "stream",
     "text": [
      "inputs\\large117.in: cost 4.7278394682293466e+20\n"
     ]
    },
    {
     "name": "stderr",
     "output_type": "stream",
     "text": [
      "  3%|▎         | 22/780 [00:07<04:07,  3.06it/s]"
     ]
    },
    {
     "name": "stdout",
     "output_type": "stream",
     "text": [
      "inputs\\large118.in: cost 5.834617425281025e+16\n"
     ]
    },
    {
     "name": "stderr",
     "output_type": "stream",
     "text": [
      "  3%|▎         | 23/780 [00:08<04:27,  2.83it/s]"
     ]
    },
    {
     "name": "stdout",
     "output_type": "stream",
     "text": [
      "inputs\\large119.in: cost 3.10429793570192e+28\n"
     ]
    },
    {
     "name": "stderr",
     "output_type": "stream",
     "text": [
      "  3%|▎         | 24/780 [00:08<04:25,  2.85it/s]"
     ]
    },
    {
     "name": "stdout",
     "output_type": "stream",
     "text": [
      "inputs\\large12.in: cost 2.1188706471076388e+21\n"
     ]
    },
    {
     "name": "stderr",
     "output_type": "stream",
     "text": [
      "  3%|▎         | 25/780 [00:08<04:08,  3.04it/s]"
     ]
    },
    {
     "name": "stdout",
     "output_type": "stream",
     "text": [
      "inputs\\large120.in: cost 3.4485635021385364e+26\n"
     ]
    },
    {
     "name": "stderr",
     "output_type": "stream",
     "text": [
      "  3%|▎         | 26/780 [00:09<04:25,  2.84it/s]"
     ]
    },
    {
     "name": "stdout",
     "output_type": "stream",
     "text": [
      "inputs\\large121.in: cost 1.739274941520501e+20\n"
     ]
    },
    {
     "name": "stderr",
     "output_type": "stream",
     "text": [
      "  3%|▎         | 27/780 [00:09<04:14,  2.96it/s]"
     ]
    },
    {
     "name": "stdout",
     "output_type": "stream",
     "text": [
      "inputs\\large122.in: cost 542478.1891324173\n"
     ]
    },
    {
     "name": "stderr",
     "output_type": "stream",
     "text": [
      "  4%|▎         | 28/780 [00:09<04:32,  2.76it/s]"
     ]
    },
    {
     "name": "stdout",
     "output_type": "stream",
     "text": [
      "inputs\\large123.in: cost 3.4042760499317406e+31\n"
     ]
    },
    {
     "name": "stderr",
     "output_type": "stream",
     "text": [
      "  4%|▎         | 29/780 [00:10<04:23,  2.84it/s]"
     ]
    },
    {
     "name": "stdout",
     "output_type": "stream",
     "text": [
      "inputs\\large124.in: cost 2.54816291780264e+27\n"
     ]
    },
    {
     "name": "stderr",
     "output_type": "stream",
     "text": [
      "  4%|▍         | 30/780 [00:10<04:04,  3.06it/s]"
     ]
    },
    {
     "name": "stdout",
     "output_type": "stream",
     "text": [
      "inputs\\large125.in: cost 6.39843493530055e+19\n"
     ]
    },
    {
     "name": "stderr",
     "output_type": "stream",
     "text": [
      "  4%|▍         | 31/780 [00:10<04:10,  2.98it/s]"
     ]
    },
    {
     "name": "stdout",
     "output_type": "stream",
     "text": [
      "inputs\\large126.in: cost 4.7278394682293466e+20\n"
     ]
    },
    {
     "name": "stderr",
     "output_type": "stream",
     "text": [
      "  4%|▍         | 32/780 [00:11<03:58,  3.14it/s]"
     ]
    },
    {
     "name": "stdout",
     "output_type": "stream",
     "text": [
      "inputs\\large127.in: cost 4.607186634331292e+30\n"
     ]
    },
    {
     "name": "stderr",
     "output_type": "stream",
     "text": [
      "  4%|▍         | 33/780 [00:11<03:44,  3.33it/s]"
     ]
    },
    {
     "name": "stdout",
     "output_type": "stream",
     "text": [
      "inputs\\large128.in: cost 1465086969.1285932\n"
     ]
    },
    {
     "name": "stderr",
     "output_type": "stream",
     "text": [
      "  4%|▍         | 34/780 [00:11<04:06,  3.03it/s]"
     ]
    },
    {
     "name": "stdout",
     "output_type": "stream",
     "text": [
      "inputs\\large129.in: cost 3.144682864669655e+23\n"
     ]
    },
    {
     "name": "stderr",
     "output_type": "stream",
     "text": [
      "  4%|▍         | 35/780 [00:12<03:53,  3.19it/s]"
     ]
    },
    {
     "name": "stdout",
     "output_type": "stream",
     "text": [
      "inputs\\large13.in: cost 1.391249812950831e+29\n"
     ]
    },
    {
     "name": "stderr",
     "output_type": "stream",
     "text": [
      "  5%|▍         | 36/780 [00:12<04:06,  3.02it/s]"
     ]
    },
    {
     "name": "stdout",
     "output_type": "stream",
     "text": [
      "inputs\\large130.in: cost 1.0148003881138887e+35\n"
     ]
    },
    {
     "name": "stderr",
     "output_type": "stream",
     "text": [
      "  5%|▍         | 37/780 [00:12<04:17,  2.89it/s]"
     ]
    },
    {
     "name": "stdout",
     "output_type": "stream",
     "text": [
      "inputs\\large131.in: cost 6.155075488793533e+34\n"
     ]
    },
    {
     "name": "stderr",
     "output_type": "stream",
     "text": [
      "  5%|▍         | 38/780 [00:13<04:15,  2.90it/s]"
     ]
    },
    {
     "name": "stdout",
     "output_type": "stream",
     "text": [
      "inputs\\large132.in: cost 1.6948892444103337e+30\n"
     ]
    },
    {
     "name": "stderr",
     "output_type": "stream",
     "text": [
      "  5%|▌         | 39/780 [00:13<03:57,  3.12it/s]"
     ]
    },
    {
     "name": "stdout",
     "output_type": "stream",
     "text": [
      "inputs\\large133.in: cost 4.9875093266256084e+38\n"
     ]
    },
    {
     "name": "stderr",
     "output_type": "stream",
     "text": [
      "  5%|▌         | 40/780 [00:13<04:14,  2.91it/s]"
     ]
    },
    {
     "name": "stdout",
     "output_type": "stream",
     "text": [
      "inputs\\large134.in: cost 2.7585134545231705e+35\n"
     ]
    },
    {
     "name": "stderr",
     "output_type": "stream",
     "text": [
      "  5%|▌         | 41/780 [00:14<04:19,  2.85it/s]"
     ]
    },
    {
     "name": "stdout",
     "output_type": "stream",
     "text": [
      "inputs\\large135.in: cost 1.9321599304403446e+18\n"
     ]
    },
    {
     "name": "stderr",
     "output_type": "stream",
     "text": [
      "  5%|▌         | 42/780 [00:14<04:01,  3.06it/s]"
     ]
    },
    {
     "name": "stdout",
     "output_type": "stream",
     "text": [
      "inputs\\large136.in: cost 4.311231547115296e+17\n"
     ]
    },
    {
     "name": "stderr",
     "output_type": "stream",
     "text": [
      "  6%|▌         | 43/780 [00:14<04:09,  2.96it/s]"
     ]
    },
    {
     "name": "stdout",
     "output_type": "stream",
     "text": [
      "inputs\\large137.in: cost 4.5480198079848416e+35\n"
     ]
    },
    {
     "name": "stderr",
     "output_type": "stream",
     "text": [
      "  6%|▌         | 44/780 [00:15<04:12,  2.92it/s]"
     ]
    },
    {
     "name": "stdout",
     "output_type": "stream",
     "text": [
      "inputs\\large138.in: cost 3.53887435612972e+16\n"
     ]
    },
    {
     "name": "stderr",
     "output_type": "stream",
     "text": [
      "  6%|▌         | 45/780 [00:15<04:11,  2.93it/s]"
     ]
    },
    {
     "name": "stdout",
     "output_type": "stream",
     "text": [
      "inputs\\large139.in: cost 2.4831346783006825e+37\n"
     ]
    },
    {
     "name": "stderr",
     "output_type": "stream",
     "text": [
      "  6%|▌         | 46/780 [00:15<03:55,  3.11it/s]"
     ]
    },
    {
     "name": "stdout",
     "output_type": "stream",
     "text": [
      "inputs\\large14.in: cost 1.6948892444103337e+30\n"
     ]
    },
    {
     "name": "stderr",
     "output_type": "stream",
     "text": [
      "  6%|▌         | 47/780 [00:16<03:58,  3.07it/s]"
     ]
    },
    {
     "name": "stdout",
     "output_type": "stream",
     "text": [
      "inputs\\large140.in: cost 87719925258591.78\n"
     ]
    },
    {
     "name": "stderr",
     "output_type": "stream",
     "text": [
      "  6%|▌         | 48/780 [00:16<04:01,  3.03it/s]"
     ]
    },
    {
     "name": "stdout",
     "output_type": "stream",
     "text": [
      "inputs\\large141.in: cost 7.016735912097631e+22\n"
     ]
    },
    {
     "name": "stderr",
     "output_type": "stream",
     "text": [
      "  6%|▋         | 49/780 [00:16<03:59,  3.05it/s]"
     ]
    },
    {
     "name": "stdout",
     "output_type": "stream",
     "text": [
      "inputs\\large142.in: cost 2.3236238100390024e+24\n"
     ]
    },
    {
     "name": "stderr",
     "output_type": "stream",
     "text": [
      "  6%|▋         | 50/780 [00:17<03:47,  3.20it/s]"
     ]
    },
    {
     "name": "stdout",
     "output_type": "stream",
     "text": [
      "inputs\\large143.in: cost 2.7943999487401856e+30\n"
     ]
    },
    {
     "name": "stderr",
     "output_type": "stream",
     "text": [
      "  7%|▋         | 51/780 [00:17<04:12,  2.88it/s]"
     ]
    },
    {
     "name": "stdout",
     "output_type": "stream",
     "text": [
      "inputs\\large144.in: cost 7.6947852651420175e+25\n"
     ]
    },
    {
     "name": "stderr",
     "output_type": "stream",
     "text": [
      "  7%|▋         | 52/780 [00:17<03:54,  3.11it/s]"
     ]
    },
    {
     "name": "stdout",
     "output_type": "stream",
     "text": [
      "inputs\\large145.in: cost 591052219299.5447\n"
     ]
    },
    {
     "name": "stderr",
     "output_type": "stream",
     "text": [
      "  7%|▋         | 53/780 [00:18<03:59,  3.03it/s]"
     ]
    },
    {
     "name": "stdout",
     "output_type": "stream",
     "text": [
      "inputs\\large146.in: cost 2.515438670919167e+32\n"
     ]
    },
    {
     "name": "stderr",
     "output_type": "stream",
     "text": [
      "  7%|▋         | 54/780 [00:18<04:03,  2.99it/s]"
     ]
    },
    {
     "name": "stdout",
     "output_type": "stream",
     "text": [
      "inputs\\large147.in: cost 4.3112315471158586e+17\n"
     ]
    },
    {
     "name": "stderr",
     "output_type": "stream",
     "text": [
      "  7%|▋         | 55/780 [00:18<03:52,  3.11it/s]"
     ]
    },
    {
     "name": "stdout",
     "output_type": "stream",
     "text": [
      "inputs\\large148.in: cost 1.673122985398114e+35\n"
     ]
    },
    {
     "name": "stderr",
     "output_type": "stream",
     "text": [
      "  7%|▋         | 56/780 [00:19<04:01,  2.99it/s]"
     ]
    },
    {
     "name": "stdout",
     "output_type": "stream",
     "text": [
      "inputs\\large149.in: cost 5.54062238439351e+36\n"
     ]
    },
    {
     "name": "stderr",
     "output_type": "stream",
     "text": [
      "  7%|▋         | 57/780 [00:19<03:49,  3.15it/s]"
     ]
    },
    {
     "name": "stdout",
     "output_type": "stream",
     "text": [
      "inputs\\large15.in: cost 1068647458168520.9\n"
     ]
    },
    {
     "name": "stderr",
     "output_type": "stream",
     "text": [
      "  7%|▋         | 58/780 [00:19<03:55,  3.06it/s]"
     ]
    },
    {
     "name": "stdout",
     "output_type": "stream",
     "text": [
      "inputs\\large150.in: cost 1465241204.2064102\n"
     ]
    },
    {
     "name": "stderr",
     "output_type": "stream",
     "text": [
      "  8%|▊         | 59/780 [00:20<04:12,  2.85it/s]"
     ]
    },
    {
     "name": "stdout",
     "output_type": "stream",
     "text": [
      "inputs\\large151.in: cost 3.4485635021385364e+26\n"
     ]
    },
    {
     "name": "stderr",
     "output_type": "stream",
     "text": [
      "  8%|▊         | 60/780 [00:20<04:00,  2.99it/s]"
     ]
    },
    {
     "name": "stdout",
     "output_type": "stream",
     "text": [
      "inputs\\large152.in: cost 9.496119420602448e+21\n"
     ]
    },
    {
     "name": "stderr",
     "output_type": "stream",
     "text": [
      "  8%|▊         | 61/780 [00:20<04:07,  2.90it/s]"
     ]
    },
    {
     "name": "stdout",
     "output_type": "stream",
     "text": [
      "inputs\\large153.in: cost 48516597693.97903\n"
     ]
    },
    {
     "name": "stderr",
     "output_type": "stream",
     "text": [
      "  8%|▊         | 62/780 [00:21<03:58,  3.00it/s]"
     ]
    },
    {
     "name": "stdout",
     "output_type": "stream",
     "text": [
      "inputs\\large154.in: cost 2.038281066512669e+36\n"
     ]
    },
    {
     "name": "stderr",
     "output_type": "stream",
     "text": [
      "  8%|▊         | 63/780 [00:21<04:01,  2.97it/s]"
     ]
    },
    {
     "name": "stdout",
     "output_type": "stream",
     "text": [
      "inputs\\large155.in: cost 9.374167502150271e+26\n"
     ]
    },
    {
     "name": "stderr",
     "output_type": "stream",
     "text": [
      "  8%|▊         | 64/780 [00:21<04:07,  2.90it/s]"
     ]
    },
    {
     "name": "stdout",
     "output_type": "stream",
     "text": [
      "inputs\\large156.in: cost 2.4831346783006825e+37\n"
     ]
    },
    {
     "name": "stderr",
     "output_type": "stream",
     "text": [
      "  8%|▊         | 65/780 [00:22<04:08,  2.88it/s]"
     ]
    },
    {
     "name": "stdout",
     "output_type": "stream",
     "text": [
      "inputs\\large157.in: cost 7.794889495725307e+20\n"
     ]
    },
    {
     "name": "stderr",
     "output_type": "stream",
     "text": [
      "  8%|▊         | 66/780 [00:22<04:26,  2.68it/s]"
     ]
    },
    {
     "name": "stdout",
     "output_type": "stream",
     "text": [
      "inputs\\large158.in: cost 3.493427105748509e+21\n"
     ]
    },
    {
     "name": "stderr",
     "output_type": "stream",
     "text": [
      "  9%|▊         | 67/780 [00:22<04:05,  2.90it/s]"
     ]
    },
    {
     "name": "stdout",
     "output_type": "stream",
     "text": [
      "inputs\\large159.in: cost 528872.1382425799\n"
     ]
    },
    {
     "name": "stderr",
     "output_type": "stream",
     "text": [
      "  9%|▊         | 68/780 [00:23<03:56,  3.00it/s]"
     ]
    },
    {
     "name": "stdout",
     "output_type": "stream",
     "text": [
      "inputs\\large16.in: cost 1414473.9365062346\n"
     ]
    },
    {
     "name": "stderr",
     "output_type": "stream",
     "text": [
      "  9%|▉         | 69/780 [00:23<04:09,  2.85it/s]"
     ]
    },
    {
     "name": "stdout",
     "output_type": "stream",
     "text": [
      "inputs\\large160.in: cost 2.038281066512669e+36\n"
     ]
    },
    {
     "name": "stderr",
     "output_type": "stream",
     "text": [
      "  9%|▉         | 70/780 [00:23<03:59,  2.96it/s]"
     ]
    },
    {
     "name": "stdout",
     "output_type": "stream",
     "text": [
      "inputs\\large161.in: cost 2.54816291780264e+27\n"
     ]
    },
    {
     "name": "stderr",
     "output_type": "stream",
     "text": [
      "  9%|▉         | 71/780 [00:24<04:16,  2.76it/s]"
     ]
    },
    {
     "name": "stdout",
     "output_type": "stream",
     "text": [
      "inputs\\large162.in: cost 8.548134287298057e+23\n"
     ]
    },
    {
     "name": "stderr",
     "output_type": "stream",
     "text": [
      "  9%|▉         | 72/780 [00:25<05:14,  2.25it/s]"
     ]
    },
    {
     "name": "stdout",
     "output_type": "stream",
     "text": [
      "inputs\\large163.in: cost 449409.0425986584\n"
     ]
    },
    {
     "name": "stderr",
     "output_type": "stream",
     "text": [
      "  9%|▉         | 73/780 [00:25<04:54,  2.40it/s]"
     ]
    },
    {
     "name": "stdout",
     "output_type": "stream",
     "text": [
      "inputs\\large164.in: cost 3.1855931757114486e+18\n"
     ]
    },
    {
     "name": "stderr",
     "output_type": "stream",
     "text": [
      "  9%|▉         | 74/780 [00:25<04:48,  2.44it/s]"
     ]
    },
    {
     "name": "stdout",
     "output_type": "stream",
     "text": [
      "inputs\\large165.in: cost 10094086.421176735\n"
     ]
    },
    {
     "name": "stderr",
     "output_type": "stream",
     "text": [
      " 10%|▉         | 75/780 [00:26<05:33,  2.12it/s]"
     ]
    },
    {
     "name": "stdout",
     "output_type": "stream",
     "text": [
      "inputs\\large166.in: cost 8.223012714622913e+38\n"
     ]
    },
    {
     "name": "stderr",
     "output_type": "stream",
     "text": [
      " 10%|▉         | 76/780 [00:26<05:30,  2.13it/s]"
     ]
    },
    {
     "name": "stdout",
     "output_type": "stream",
     "text": [
      "inputs\\large167.in: cost 19572961040878.145\n"
     ]
    },
    {
     "name": "stderr",
     "output_type": "stream",
     "text": [
      " 10%|▉         | 77/780 [00:27<04:58,  2.35it/s]"
     ]
    },
    {
     "name": "stdout",
     "output_type": "stream",
     "text": [
      "inputs\\large168.in: cost 7896296018305482.0\n"
     ]
    },
    {
     "name": "stderr",
     "output_type": "stream",
     "text": [
      " 10%|█         | 78/780 [00:27<04:51,  2.41it/s]"
     ]
    },
    {
     "name": "stdout",
     "output_type": "stream",
     "text": [
      "inputs\\large169.in: cost 1.156864174916083e+23\n"
     ]
    },
    {
     "name": "stderr",
     "output_type": "stream",
     "text": [
      " 10%|█         | 79/780 [00:27<04:37,  2.53it/s]"
     ]
    },
    {
     "name": "stdout",
     "output_type": "stream",
     "text": [
      "inputs\\large17.in: cost 5.052393630276104e+33\n"
     ]
    },
    {
     "name": "stderr",
     "output_type": "stream",
     "text": [
      " 10%|█         | 80/780 [00:28<04:20,  2.69it/s]"
     ]
    },
    {
     "name": "stdout",
     "output_type": "stream",
     "text": [
      "inputs\\large170.in: cost 974480365874.347\n"
     ]
    },
    {
     "name": "stderr",
     "output_type": "stream",
     "text": [
      " 10%|█         | 81/780 [00:28<04:23,  2.65it/s]"
     ]
    },
    {
     "name": "stdout",
     "output_type": "stream",
     "text": [
      "inputs\\large171.in: cost 82312.71200465198\n"
     ]
    },
    {
     "name": "stderr",
     "output_type": "stream",
     "text": [
      " 11%|█         | 82/780 [00:28<04:12,  2.76it/s]"
     ]
    },
    {
     "name": "stdout",
     "output_type": "stream",
     "text": [
      "inputs\\large172.in: cost 3.831008000716577e+24\n"
     ]
    },
    {
     "name": "stderr",
     "output_type": "stream",
     "text": [
      " 11%|█         | 83/780 [00:29<04:04,  2.85it/s]"
     ]
    },
    {
     "name": "stdout",
     "output_type": "stream",
     "text": [
      "inputs\\large173.in: cost 393133429719127.5\n"
     ]
    },
    {
     "name": "stderr",
     "output_type": "stream",
     "text": [
      " 11%|█         | 84/780 [00:29<04:04,  2.85it/s]"
     ]
    },
    {
     "name": "stdout",
     "output_type": "stream",
     "text": [
      "inputs\\large174.in: cost 5.759687576887954e+21\n"
     ]
    },
    {
     "name": "stderr",
     "output_type": "stream",
     "text": [
      " 11%|█         | 85/780 [00:30<04:59,  2.32it/s]"
     ]
    },
    {
     "name": "stdout",
     "output_type": "stream",
     "text": [
      "inputs\\large175.in: cost 3845320.5281165307\n"
     ]
    },
    {
     "name": "stderr",
     "output_type": "stream",
     "text": [
      " 11%|█         | 86/780 [00:30<04:40,  2.47it/s]"
     ]
    },
    {
     "name": "stdout",
     "output_type": "stream",
     "text": [
      "inputs\\large176.in: cost 1.9321599304402982e+18\n"
     ]
    },
    {
     "name": "stderr",
     "output_type": "stream",
     "text": [
      " 11%|█         | 87/780 [00:30<04:29,  2.58it/s]"
     ]
    },
    {
     "name": "stdout",
     "output_type": "stream",
     "text": [
      "inputs\\large177.in: cost 1.236279959951699e+36\n"
     ]
    },
    {
     "name": "stderr",
     "output_type": "stream",
     "text": [
      " 11%|█▏        | 88/780 [00:31<04:15,  2.71it/s]"
     ]
    },
    {
     "name": "stdout",
     "output_type": "stream",
     "text": [
      "inputs\\large178.in: cost 1.8348021439163853e+38\n"
     ]
    },
    {
     "name": "stderr",
     "output_type": "stream",
     "text": [
      " 11%|█▏        | 89/780 [00:31<04:02,  2.85it/s]"
     ]
    },
    {
     "name": "stdout",
     "output_type": "stream",
     "text": [
      "inputs\\large179.in: cost 591052225603.5737\n"
     ]
    },
    {
     "name": "stderr",
     "output_type": "stream",
     "text": [
      " 12%|█▏        | 90/780 [00:31<04:15,  2.70it/s]"
     ]
    },
    {
     "name": "stdout",
     "output_type": "stream",
     "text": [
      "inputs\\large18.in: cost 1.5656454077855836e+22\n"
     ]
    },
    {
     "name": "stderr",
     "output_type": "stream",
     "text": [
      " 12%|█▏        | 91/780 [00:32<04:17,  2.67it/s]"
     ]
    },
    {
     "name": "stdout",
     "output_type": "stream",
     "text": [
      "inputs\\large180.in: cost 44434814.48120729\n"
     ]
    },
    {
     "name": "stderr",
     "output_type": "stream",
     "text": [
      " 12%|█▏        | 92/780 [00:32<04:12,  2.73it/s]"
     ]
    },
    {
     "name": "stdout",
     "output_type": "stream",
     "text": [
      "inputs\\large181.in: cost 2.54816291780264e+27\n"
     ]
    },
    {
     "name": "stderr",
     "output_type": "stream",
     "text": [
      " 12%|█▏        | 93/780 [00:33<04:27,  2.57it/s]"
     ]
    },
    {
     "name": "stdout",
     "output_type": "stream",
     "text": [
      "inputs\\large182.in: cost 1786584.987473495\n"
     ]
    },
    {
     "name": "stderr",
     "output_type": "stream",
     "text": [
      " 12%|█▏        | 94/780 [00:33<04:15,  2.69it/s]"
     ]
    },
    {
     "name": "stdout",
     "output_type": "stream",
     "text": [
      "inputs\\large183.in: cost 1.8348021439163853e+38\n"
     ]
    },
    {
     "name": "stderr",
     "output_type": "stream",
     "text": [
      " 12%|█▏        | 95/780 [00:33<03:57,  2.88it/s]"
     ]
    },
    {
     "name": "stdout",
     "output_type": "stream",
     "text": [
      "inputs\\large184.in: cost 1.171914237280291e+18\n"
     ]
    },
    {
     "name": "stderr",
     "output_type": "stream",
     "text": [
      " 12%|█▏        | 96/780 [00:34<04:15,  2.68it/s]"
     ]
    },
    {
     "name": "stdout",
     "output_type": "stream",
     "text": [
      "inputs\\large185.in: cost 2.867579591680572e+20\n"
     ]
    },
    {
     "name": "stderr",
     "output_type": "stream",
     "text": [
      " 12%|█▏        | 97/780 [00:34<04:09,  2.73it/s]"
     ]
    },
    {
     "name": "stdout",
     "output_type": "stream",
     "text": [
      "inputs\\large186.in: cost 2415575343.6349635\n"
     ]
    },
    {
     "name": "stderr",
     "output_type": "stream",
     "text": [
      " 13%|█▎        | 98/780 [00:34<04:20,  2.62it/s]"
     ]
    },
    {
     "name": "stdout",
     "output_type": "stream",
     "text": [
      "inputs\\large187.in: cost 1.858671745284128e+33\n"
     ]
    },
    {
     "name": "stderr",
     "output_type": "stream",
     "text": [
      " 13%|█▎        | 99/780 [00:35<04:14,  2.67it/s]"
     ]
    },
    {
     "name": "stdout",
     "output_type": "stream",
     "text": [
      "inputs\\large188.in: cost 16349093.480244676\n"
     ]
    },
    {
     "name": "stderr",
     "output_type": "stream",
     "text": [
      " 13%|█▎        | 100/780 [00:35<03:54,  2.90it/s]"
     ]
    },
    {
     "name": "stdout",
     "output_type": "stream",
     "text": [
      "inputs\\large189.in: cost 92872.31591025766\n"
     ]
    },
    {
     "name": "stderr",
     "output_type": "stream",
     "text": [
      " 13%|█▎        | 101/780 [00:36<04:05,  2.77it/s]"
     ]
    },
    {
     "name": "stdout",
     "output_type": "stream",
     "text": [
      "inputs\\large19.in: cost 4.0939969621274545e+37\n"
     ]
    },
    {
     "name": "stderr",
     "output_type": "stream",
     "text": [
      " 13%|█▎        | 102/780 [00:36<03:59,  2.83it/s]"
     ]
    },
    {
     "name": "stdout",
     "output_type": "stream",
     "text": [
      "inputs\\large190.in: cost 3982738894.1312985\n"
     ]
    },
    {
     "name": "stderr",
     "output_type": "stream",
     "text": [
      " 13%|█▎        | 103/780 [00:36<03:59,  2.83it/s]"
     ]
    },
    {
     "name": "stdout",
     "output_type": "stream",
     "text": [
      "inputs\\large191.in: cost 53204824074981.305\n"
     ]
    },
    {
     "name": "stderr",
     "output_type": "stream",
     "text": [
      " 13%|█▎        | 104/780 [00:37<03:54,  2.88it/s]"
     ]
    },
    {
     "name": "stdout",
     "output_type": "stream",
     "text": [
      "inputs\\large192.in: cost 9.619657855455419e+16\n"
     ]
    },
    {
     "name": "stderr",
     "output_type": "stream",
     "text": [
      " 13%|█▎        | 105/780 [00:37<03:46,  2.99it/s]"
     ]
    },
    {
     "name": "stdout",
     "output_type": "stream",
     "text": [
      "inputs\\large193.in: cost 7200489943141.588\n"
     ]
    },
    {
     "name": "stderr",
     "output_type": "stream",
     "text": [
      " 14%|█▎        | 106/780 [00:37<03:53,  2.88it/s]"
     ]
    },
    {
     "name": "stdout",
     "output_type": "stream",
     "text": [
      "inputs\\large194.in: cost 103125.39523749404\n"
     ]
    },
    {
     "name": "stderr",
     "output_type": "stream",
     "text": [
      " 14%|█▎        | 107/780 [00:38<04:05,  2.75it/s]"
     ]
    },
    {
     "name": "stdout",
     "output_type": "stream",
     "text": [
      "inputs\\large195.in: cost 79990324874.89362\n"
     ]
    },
    {
     "name": "stderr",
     "output_type": "stream",
     "text": [
      " 14%|█▍        | 108/780 [00:38<04:40,  2.39it/s]"
     ]
    },
    {
     "name": "stdout",
     "output_type": "stream",
     "text": [
      "inputs\\large196.in: cost 5.252155228592584e+18\n"
     ]
    },
    {
     "name": "stderr",
     "output_type": "stream",
     "text": [
      " 14%|█▍        | 109/780 [00:39<04:32,  2.47it/s]"
     ]
    },
    {
     "name": "stdout",
     "output_type": "stream",
     "text": [
      "inputs\\large197.in: cost 9.374167502150271e+26\n"
     ]
    },
    {
     "name": "stderr",
     "output_type": "stream",
     "text": [
      " 14%|█▍        | 110/780 [00:39<04:44,  2.35it/s]"
     ]
    },
    {
     "name": "stdout",
     "output_type": "stream",
     "text": [
      "inputs\\large198.in: cost 8.223012714622913e+38\n"
     ]
    },
    {
     "name": "stderr",
     "output_type": "stream",
     "text": [
      " 14%|█▍        | 111/780 [00:39<04:31,  2.46it/s]"
     ]
    },
    {
     "name": "stdout",
     "output_type": "stream",
     "text": [
      "inputs\\large199.in: cost 5.759687576887954e+21\n"
     ]
    },
    {
     "name": "stderr",
     "output_type": "stream",
     "text": [
      " 14%|█▍        | 112/780 [00:40<04:35,  2.42it/s]"
     ]
    },
    {
     "name": "stdout",
     "output_type": "stream",
     "text": [
      "inputs\\large2.in: cost 327187010.50407416\n"
     ]
    },
    {
     "name": "stderr",
     "output_type": "stream",
     "text": [
      " 14%|█▍        | 113/780 [00:40<04:37,  2.41it/s]"
     ]
    },
    {
     "name": "stdout",
     "output_type": "stream",
     "text": [
      "inputs\\large20.in: cost 4.5480198079848416e+35\n"
     ]
    },
    {
     "name": "stderr",
     "output_type": "stream",
     "text": [
      " 15%|█▍        | 114/780 [00:41<04:36,  2.41it/s]"
     ]
    },
    {
     "name": "stdout",
     "output_type": "stream",
     "text": [
      "inputs\\large200.in: cost 262002.78135317253\n"
     ]
    },
    {
     "name": "stderr",
     "output_type": "stream",
     "text": [
      " 15%|█▍        | 115/780 [00:41<04:19,  2.57it/s]"
     ]
    },
    {
     "name": "stdout",
     "output_type": "stream",
     "text": [
      "inputs\\large201.in: cost 1.8348021439163853e+38\n"
     ]
    },
    {
     "name": "stderr",
     "output_type": "stream",
     "text": [
      " 15%|█▍        | 116/780 [00:42<05:30,  2.01it/s]"
     ]
    },
    {
     "name": "stdout",
     "output_type": "stream",
     "text": [
      "inputs\\large202.in: cost 9.374167502150271e+26\n"
     ]
    },
    {
     "name": "stderr",
     "output_type": "stream",
     "text": [
      " 15%|█▌        | 117/780 [00:42<04:54,  2.25it/s]"
     ]
    },
    {
     "name": "stdout",
     "output_type": "stream",
     "text": [
      "inputs\\large203.in: cost 7.016735912097631e+22\n"
     ]
    },
    {
     "name": "stderr",
     "output_type": "stream",
     "text": [
      " 15%|█▌        | 118/780 [00:42<04:22,  2.53it/s]"
     ]
    },
    {
     "name": "stdout",
     "output_type": "stream",
     "text": [
      "inputs\\large204.in: cost 147194.49299143502\n"
     ]
    },
    {
     "name": "stderr",
     "output_type": "stream",
     "text": [
      " 15%|█▌        | 119/780 [00:43<04:30,  2.44it/s]"
     ]
    },
    {
     "name": "stdout",
     "output_type": "stream",
     "text": [
      "inputs\\large205.in: cost 73123205.05587582\n"
     ]
    },
    {
     "name": "stderr",
     "output_type": "stream",
     "text": [
      " 15%|█▌        | 120/780 [00:43<04:07,  2.67it/s]"
     ]
    },
    {
     "name": "stdout",
     "output_type": "stream",
     "text": [
      "inputs\\large206.in: cost 1068647458167260.8\n"
     ]
    },
    {
     "name": "stderr",
     "output_type": "stream",
     "text": [
      " 16%|█▌        | 121/780 [00:43<04:11,  2.62it/s]"
     ]
    },
    {
     "name": "stdout",
     "output_type": "stream",
     "text": [
      "inputs\\large207.in: cost 1.4276838118129203e+19\n"
     ]
    },
    {
     "name": "stderr",
     "output_type": "stream",
     "text": [
      " 16%|█▌        | 122/780 [00:44<03:53,  2.82it/s]"
     ]
    },
    {
     "name": "stdout",
     "output_type": "stream",
     "text": [
      "inputs\\large208.in: cost 1.0413759433029088e+25\n"
     ]
    },
    {
     "name": "stderr",
     "output_type": "stream",
     "text": [
      " 16%|█▌        | 123/780 [00:44<03:40,  2.97it/s]"
     ]
    },
    {
     "name": "stdout",
     "output_type": "stream",
     "text": [
      "inputs\\large209.in: cost 10825525543.094563\n"
     ]
    },
    {
     "name": "stderr",
     "output_type": "stream",
     "text": [
      " 16%|█▌        | 124/780 [00:44<03:43,  2.94it/s]"
     ]
    },
    {
     "name": "stdout",
     "output_type": "stream",
     "text": [
      "inputs\\large21.in: cost 1.1128637547917595e+38\n"
     ]
    },
    {
     "name": "stderr",
     "output_type": "stream",
     "text": [
      " 16%|█▌        | 125/780 [00:45<03:32,  3.08it/s]"
     ]
    },
    {
     "name": "stdout",
     "output_type": "stream",
     "text": [
      "inputs\\large210.in: cost 3.7332419967990015e+34\n"
     ]
    },
    {
     "name": "stderr",
     "output_type": "stream",
     "text": [
      " 16%|█▌        | 126/780 [00:45<04:00,  2.72it/s]"
     ]
    },
    {
     "name": "stdout",
     "output_type": "stream",
     "text": [
      "inputs\\large211.in: cost 3.831008000716577e+24\n"
     ]
    },
    {
     "name": "stderr",
     "output_type": "stream",
     "text": [
      " 16%|█▋        | 127/780 [00:45<03:50,  2.83it/s]"
     ]
    },
    {
     "name": "stdout",
     "output_type": "stream",
     "text": [
      "inputs\\large212.in: cost 7.498416996990121e+35\n"
     ]
    },
    {
     "name": "stderr",
     "output_type": "stream",
     "text": [
      " 16%|█▋        | 128/780 [00:46<04:10,  2.61it/s]"
     ]
    },
    {
     "name": "stdout",
     "output_type": "stream",
     "text": [
      "inputs\\large213.in: cost 2.6148941144463526e+17\n"
     ]
    },
    {
     "name": "stderr",
     "output_type": "stream",
     "text": [
      " 17%|█▋        | 129/780 [00:47<05:28,  1.98it/s]"
     ]
    },
    {
     "name": "stdout",
     "output_type": "stream",
     "text": [
      "inputs\\large214.in: cost 683073.5071833075\n"
     ]
    },
    {
     "name": "stderr",
     "output_type": "stream",
     "text": [
      " 17%|█▋        | 130/780 [00:48<09:31,  1.14it/s]"
     ]
    },
    {
     "name": "stdout",
     "output_type": "stream",
     "text": [
      "inputs\\large215.in: cost 2.5813128861900675e+22\n"
     ]
    },
    {
     "name": "stderr",
     "output_type": "stream",
     "text": [
      " 17%|█▋        | 131/780 [00:49<08:36,  1.26it/s]"
     ]
    },
    {
     "name": "stdout",
     "output_type": "stream",
     "text": [
      "inputs\\large216.in: cost 44268140.48120729\n"
     ]
    },
    {
     "name": "stderr",
     "output_type": "stream",
     "text": [
      " 17%|█▋        | 132/780 [00:49<07:12,  1.50it/s]"
     ]
    },
    {
     "name": "stdout",
     "output_type": "stream",
     "text": [
      "inputs\\large217.in: cost 1068647458227667.8\n"
     ]
    },
    {
     "name": "stderr",
     "output_type": "stream",
     "text": [
      " 17%|█▋        | 133/780 [00:50<06:12,  1.74it/s]"
     ]
    },
    {
     "name": "stdout",
     "output_type": "stream",
     "text": [
      "inputs\\large218.in: cost 2.038281066512669e+36\n"
     ]
    },
    {
     "name": "stderr",
     "output_type": "stream",
     "text": [
      " 17%|█▋        | 134/780 [00:50<05:31,  1.95it/s]"
     ]
    },
    {
     "name": "stdout",
     "output_type": "stream",
     "text": [
      "inputs\\large219.in: cost 5.685719999335932e+26\n"
     ]
    },
    {
     "name": "stderr",
     "output_type": "stream",
     "text": [
      " 17%|█▋        | 135/780 [00:51<05:11,  2.07it/s]"
     ]
    },
    {
     "name": "stdout",
     "output_type": "stream",
     "text": [
      "inputs\\large22.in: cost 393133429720215.5\n"
     ]
    },
    {
     "name": "stderr",
     "output_type": "stream",
     "text": [
      " 17%|█▋        | 136/780 [00:51<04:51,  2.21it/s]"
     ]
    },
    {
     "name": "stdout",
     "output_type": "stream",
     "text": [
      "inputs\\large220.in: cost 1.5060973145850306e+37\n"
     ]
    },
    {
     "name": "stderr",
     "output_type": "stream",
     "text": [
      " 18%|█▊        | 137/780 [00:51<04:30,  2.38it/s]"
     ]
    },
    {
     "name": "stdout",
     "output_type": "stream",
     "text": [
      "inputs\\large221.in: cost 1.156864174916083e+23\n"
     ]
    },
    {
     "name": "stderr",
     "output_type": "stream",
     "text": [
      " 18%|█▊        | 138/780 [00:52<04:30,  2.38it/s]"
     ]
    },
    {
     "name": "stdout",
     "output_type": "stream",
     "text": [
      "inputs\\large222.in: cost 1.4276838118129302e+19\n"
     ]
    },
    {
     "name": "stderr",
     "output_type": "stream",
     "text": [
      " 18%|█▊        | 139/780 [00:52<04:17,  2.49it/s]"
     ]
    },
    {
     "name": "stdout",
     "output_type": "stream",
     "text": [
      "inputs\\large223.in: cost 9.134941978066843e+36\n"
     ]
    },
    {
     "name": "stderr",
     "output_type": "stream",
     "text": [
      " 18%|█▊        | 140/780 [00:52<04:10,  2.56it/s]"
     ]
    },
    {
     "name": "stdout",
     "output_type": "stream",
     "text": [
      "inputs\\large224.in: cost 2.830753303274694e+25\n"
     ]
    },
    {
     "name": "stderr",
     "output_type": "stream",
     "text": [
      " 18%|█▊        | 141/780 [00:53<03:49,  2.78it/s]"
     ]
    },
    {
     "name": "stdout",
     "output_type": "stream",
     "text": [
      "inputs\\large225.in: cost 32270357050171.14\n"
     ]
    },
    {
     "name": "stderr",
     "output_type": "stream",
     "text": [
      " 18%|█▊        | 142/780 [00:53<03:32,  3.00it/s]"
     ]
    },
    {
     "name": "stdout",
     "output_type": "stream",
     "text": [
      "inputs\\large226.in: cost 1.5860134523135114e+17\n"
     ]
    },
    {
     "name": "stderr",
     "output_type": "stream",
     "text": [
      " 18%|█▊        | 143/780 [00:53<03:35,  2.96it/s]"
     ]
    },
    {
     "name": "stdout",
     "output_type": "stream",
     "text": [
      "inputs\\large227.in: cost 7.6947852651420175e+25\n"
     ]
    },
    {
     "name": "stderr",
     "output_type": "stream",
     "text": [
      " 18%|█▊        | 144/780 [00:54<03:37,  2.92it/s]"
     ]
    },
    {
     "name": "stdout",
     "output_type": "stream",
     "text": [
      "inputs\\large228.in: cost 1761901795143794.8\n"
     ]
    },
    {
     "name": "stderr",
     "output_type": "stream",
     "text": [
      " 19%|█▊        | 145/780 [00:54<03:28,  3.04it/s]"
     ]
    },
    {
     "name": "stdout",
     "output_type": "stream",
     "text": [
      "inputs\\large229.in: cost 2.29378315946961e+29\n"
     ]
    },
    {
     "name": "stderr",
     "output_type": "stream",
     "text": [
      " 19%|█▊        | 146/780 [00:54<03:30,  3.01it/s]"
     ]
    },
    {
     "name": "stdout",
     "output_type": "stream",
     "text": [
      "inputs\\large23.in: cost 9.619657855449462e+16\n"
     ]
    },
    {
     "name": "stderr",
     "output_type": "stream",
     "text": [
      " 19%|█▉        | 147/780 [00:55<03:22,  3.12it/s]"
     ]
    },
    {
     "name": "stdout",
     "output_type": "stream",
     "text": [
      "inputs\\large230.in: cost 4.5480198079848416e+35\n"
     ]
    },
    {
     "name": "stderr",
     "output_type": "stream",
     "text": [
      " 19%|█▉        | 148/780 [00:55<03:15,  3.24it/s]"
     ]
    },
    {
     "name": "stdout",
     "output_type": "stream",
     "text": [
      "inputs\\large231.in: cost 2.3538526683702006e+19\n"
     ]
    },
    {
     "name": "stderr",
     "output_type": "stream",
     "text": [
      " 19%|█▉        | 149/780 [00:55<03:31,  2.98it/s]"
     ]
    },
    {
     "name": "stdout",
     "output_type": "stream",
     "text": [
      "inputs\\large232.in: cost 53204824101695.266\n"
     ]
    },
    {
     "name": "stderr",
     "output_type": "stream",
     "text": [
      " 19%|█▉        | 150/780 [00:56<03:34,  2.93it/s]"
     ]
    },
    {
     "name": "stdout",
     "output_type": "stream",
     "text": [
      "inputs\\large233.in: cost 1.0148003881138887e+35\n"
     ]
    },
    {
     "name": "stderr",
     "output_type": "stream",
     "text": [
      " 19%|█▉        | 151/780 [00:56<03:47,  2.77it/s]"
     ]
    },
    {
     "name": "stdout",
     "output_type": "stream",
     "text": [
      "inputs\\large234.in: cost 4.9875093266256084e+38\n"
     ]
    },
    {
     "name": "stderr",
     "output_type": "stream",
     "text": [
      " 19%|█▉        | 152/780 [00:56<03:39,  2.87it/s]"
     ]
    },
    {
     "name": "stdout",
     "output_type": "stream",
     "text": [
      "inputs\\large235.in: cost 5.118122037182254e+28\n"
     ]
    },
    {
     "name": "stderr",
     "output_type": "stream",
     "text": [
      " 20%|█▉        | 153/780 [00:57<03:31,  2.96it/s]"
     ]
    },
    {
     "name": "stdout",
     "output_type": "stream",
     "text": [
      "inputs\\large236.in: cost 7.016735912097631e+22\n"
     ]
    },
    {
     "name": "stderr",
     "output_type": "stream",
     "text": [
      " 20%|█▉        | 154/780 [00:57<03:49,  2.73it/s]"
     ]
    },
    {
     "name": "stdout",
     "output_type": "stream",
     "text": [
      "inputs\\large237.in: cost 87719925210037.73\n"
     ]
    },
    {
     "name": "stderr",
     "output_type": "stream",
     "text": [
      " 20%|█▉        | 155/780 [00:57<03:32,  2.94it/s]"
     ]
    },
    {
     "name": "stdout",
     "output_type": "stream",
     "text": [
      "inputs\\large238.in: cost 3.064431641699272e+33\n"
     ]
    },
    {
     "name": "stderr",
     "output_type": "stream",
     "text": [
      " 20%|██        | 156/780 [00:58<03:34,  2.91it/s]"
     ]
    },
    {
     "name": "stdout",
     "output_type": "stream",
     "text": [
      "inputs\\large239.in: cost 1.236279959951699e+36\n"
     ]
    },
    {
     "name": "stderr",
     "output_type": "stream",
     "text": [
      " 20%|██        | 157/780 [00:58<03:36,  2.88it/s]"
     ]
    },
    {
     "name": "stdout",
     "output_type": "stream",
     "text": [
      "inputs\\large24.in: cost 496185.4501643344\n"
     ]
    },
    {
     "name": "stderr",
     "output_type": "stream",
     "text": [
      " 20%|██        | 158/780 [00:59<03:48,  2.73it/s]"
     ]
    },
    {
     "name": "stdout",
     "output_type": "stream",
     "text": [
      "inputs\\large240.in: cost 393133429802312.5\n"
     ]
    },
    {
     "name": "stderr",
     "output_type": "stream",
     "text": [
      " 20%|██        | 159/780 [00:59<03:33,  2.90it/s]"
     ]
    },
    {
     "name": "stdout",
     "output_type": "stream",
     "text": [
      "inputs\\large241.in: cost 1.2523631708422138e+31\n"
     ]
    },
    {
     "name": "stderr",
     "output_type": "stream",
     "text": [
      " 21%|██        | 160/780 [00:59<03:45,  2.75it/s]"
     ]
    },
    {
     "name": "stdout",
     "output_type": "stream",
     "text": [
      "inputs\\large242.in: cost 87719925223095.77\n"
     ]
    },
    {
     "name": "stderr",
     "output_type": "stream",
     "text": [
      " 21%|██        | 161/780 [01:00<03:33,  2.90it/s]"
     ]
    },
    {
     "name": "stdout",
     "output_type": "stream",
     "text": [
      "inputs\\large243.in: cost 5.612702334857472e+31\n"
     ]
    },
    {
     "name": "stderr",
     "output_type": "stream",
     "text": [
      " 21%|██        | 162/780 [01:00<03:25,  3.00it/s]"
     ]
    },
    {
     "name": "stdout",
     "output_type": "stream",
     "text": [
      "inputs\\large244.in: cost 44319677.4267256\n"
     ]
    },
    {
     "name": "stderr",
     "output_type": "stream",
     "text": [
      " 21%|██        | 163/780 [01:00<03:29,  2.95it/s]"
     ]
    },
    {
     "name": "stdout",
     "output_type": "stream",
     "text": [
      "inputs\\large245.in: cost 4.2012104037905146e+27\n"
     ]
    },
    {
     "name": "stderr",
     "output_type": "stream",
     "text": [
      " 21%|██        | 164/780 [01:01<03:20,  3.07it/s]"
     ]
    },
    {
     "name": "stdout",
     "output_type": "stream",
     "text": [
      "inputs\\large246.in: cost 1.0413759433029088e+25\n"
     ]
    },
    {
     "name": "stderr",
     "output_type": "stream",
     "text": [
      " 21%|██        | 165/780 [01:01<03:21,  3.05it/s]"
     ]
    },
    {
     "name": "stdout",
     "output_type": "stream",
     "text": [
      "inputs\\large247.in: cost 10825539503.094563\n"
     ]
    },
    {
     "name": "stderr",
     "output_type": "stream",
     "text": [
      " 21%|██▏       | 166/780 [01:01<03:37,  2.82it/s]"
     ]
    },
    {
     "name": "stdout",
     "output_type": "stream",
     "text": [
      "inputs\\large248.in: cost 1607269.90820203\n"
     ]
    },
    {
     "name": "stderr",
     "output_type": "stream",
     "text": [
      " 21%|██▏       | 167/780 [01:02<03:28,  2.94it/s]"
     ]
    },
    {
     "name": "stdout",
     "output_type": "stream",
     "text": [
      "inputs\\large249.in: cost 125550.81500331442\n"
     ]
    },
    {
     "name": "stderr",
     "output_type": "stream",
     "text": [
      " 22%|██▏       | 168/780 [01:02<03:30,  2.90it/s]"
     ]
    },
    {
     "name": "stdout",
     "output_type": "stream",
     "text": [
      "inputs\\large25.in: cost 1.409349082426939e+24\n"
     ]
    },
    {
     "name": "stderr",
     "output_type": "stream",
     "text": [
      " 22%|██▏       | 169/780 [01:02<03:33,  2.86it/s]"
     ]
    },
    {
     "name": "stdout",
     "output_type": "stream",
     "text": [
      "inputs\\large250.in: cost 1.5060973145850306e+37\n"
     ]
    },
    {
     "name": "stderr",
     "output_type": "stream",
     "text": [
      " 22%|██▏       | 170/780 [01:03<03:39,  2.77it/s]"
     ]
    },
    {
     "name": "stdout",
     "output_type": "stream",
     "text": [
      "inputs\\large251.in: cost 3.4042760499317406e+31\n"
     ]
    },
    {
     "name": "stderr",
     "output_type": "stream",
     "text": [
      " 22%|██▏       | 171/780 [01:03<04:27,  2.27it/s]"
     ]
    },
    {
     "name": "stdout",
     "output_type": "stream",
     "text": [
      "inputs\\large252.in: cost 7.10801915464283e+17\n"
     ]
    },
    {
     "name": "stderr",
     "output_type": "stream",
     "text": [
      " 22%|██▏       | 172/780 [01:04<04:24,  2.30it/s]"
     ]
    },
    {
     "name": "stdout",
     "output_type": "stream",
     "text": [
      "inputs\\large253.in: cost 1.0148003881138887e+35\n"
     ]
    },
    {
     "name": "stderr",
     "output_type": "stream",
     "text": [
      " 22%|██▏       | 173/780 [01:04<04:05,  2.48it/s]"
     ]
    },
    {
     "name": "stdout",
     "output_type": "stream",
     "text": [
      "inputs\\large254.in: cost 2.54816291780264e+27\n"
     ]
    },
    {
     "name": "stderr",
     "output_type": "stream",
     "text": [
      " 22%|██▏       | 174/780 [01:04<03:48,  2.65it/s]"
     ]
    },
    {
     "name": "stdout",
     "output_type": "stream",
     "text": [
      "inputs\\large255.in: cost 5.685719999335932e+26\n"
     ]
    },
    {
     "name": "stderr",
     "output_type": "stream",
     "text": [
      " 22%|██▏       | 175/780 [01:05<03:49,  2.63it/s]"
     ]
    },
    {
     "name": "stdout",
     "output_type": "stream",
     "text": [
      "inputs\\large256.in: cost 2648912297985.927\n"
     ]
    },
    {
     "name": "stderr",
     "output_type": "stream",
     "text": [
      " 23%|██▎       | 176/780 [01:05<03:45,  2.68it/s]"
     ]
    },
    {
     "name": "stdout",
     "output_type": "stream",
     "text": [
      "inputs\\large257.in: cost 1.0148003881138887e+35\n"
     ]
    },
    {
     "name": "stderr",
     "output_type": "stream",
     "text": [
      " 23%|██▎       | 177/780 [01:06<03:55,  2.57it/s]"
     ]
    },
    {
     "name": "stdout",
     "output_type": "stream",
     "text": [
      "inputs\\large258.in: cost 1.0280022915520466e+30\n"
     ]
    },
    {
     "name": "stderr",
     "output_type": "stream",
     "text": [
      " 23%|██▎       | 178/780 [01:06<03:43,  2.70it/s]"
     ]
    },
    {
     "name": "stdout",
     "output_type": "stream",
     "text": [
      "inputs\\large259.in: cost 591052301322.5737\n"
     ]
    },
    {
     "name": "stderr",
     "output_type": "stream",
     "text": [
      " 23%|██▎       | 179/780 [01:06<03:40,  2.73it/s]"
     ]
    },
    {
     "name": "stdout",
     "output_type": "stream",
     "text": [
      "inputs\\large26.in: cost 1.9073465724950997e+23\n"
     ]
    },
    {
     "name": "stderr",
     "output_type": "stream",
     "text": [
      " 23%|██▎       | 180/780 [01:07<03:48,  2.63it/s]"
     ]
    },
    {
     "name": "stdout",
     "output_type": "stream",
     "text": [
      "inputs\\large260.in: cost 2648912382457.821\n"
     ]
    },
    {
     "name": "stderr",
     "output_type": "stream",
     "text": [
      " 23%|██▎       | 181/780 [01:07<03:45,  2.65it/s]"
     ]
    },
    {
     "name": "stdout",
     "output_type": "stream",
     "text": [
      "inputs\\large27.in: cost 1.858671745284128e+33\n"
     ]
    },
    {
     "name": "stderr",
     "output_type": "stream",
     "text": [
      " 23%|██▎       | 182/780 [01:07<03:31,  2.82it/s]"
     ]
    },
    {
     "name": "stdout",
     "output_type": "stream",
     "text": [
      "inputs\\large28.in: cost 1606646495423.54\n"
     ]
    },
    {
     "name": "stderr",
     "output_type": "stream",
     "text": [
      " 23%|██▎       | 183/780 [01:08<03:48,  2.61it/s]"
     ]
    },
    {
     "name": "stdout",
     "output_type": "stream",
     "text": [
      "inputs\\large29.in: cost 3.4485635021385364e+26\n"
     ]
    },
    {
     "name": "stderr",
     "output_type": "stream",
     "text": [
      " 24%|██▎       | 184/780 [01:08<03:40,  2.70it/s]"
     ]
    },
    {
     "name": "stdout",
     "output_type": "stream",
     "text": [
      "inputs\\large3.in: cost 5.252155228592622e+18\n"
     ]
    },
    {
     "name": "stderr",
     "output_type": "stream",
     "text": [
      " 24%|██▎       | 185/780 [01:09<03:54,  2.54it/s]"
     ]
    },
    {
     "name": "stdout",
     "output_type": "stream",
     "text": [
      "inputs\\large30.in: cost 607754.9489779717\n"
     ]
    },
    {
     "name": "stderr",
     "output_type": "stream",
     "text": [
      " 24%|██▍       | 186/780 [01:09<03:33,  2.79it/s]"
     ]
    },
    {
     "name": "stdout",
     "output_type": "stream",
     "text": [
      "inputs\\large31.in: cost 44304854.48120729\n"
     ]
    },
    {
     "name": "stderr",
     "output_type": "stream",
     "text": [
      " 24%|██▍       | 187/780 [01:09<03:23,  2.92it/s]"
     ]
    },
    {
     "name": "stdout",
     "output_type": "stream",
     "text": [
      "inputs\\large32.in: cost 6.926624955416095e+27\n"
     ]
    },
    {
     "name": "stderr",
     "output_type": "stream",
     "text": [
      " 24%|██▍       | 188/780 [01:10<03:36,  2.73it/s]"
     ]
    },
    {
     "name": "stdout",
     "output_type": "stream",
     "text": [
      "inputs\\large33.in: cost 3.4042760499317406e+31\n"
     ]
    },
    {
     "name": "stderr",
     "output_type": "stream",
     "text": [
      " 24%|██▍       | 189/780 [01:10<03:36,  2.73it/s]"
     ]
    },
    {
     "name": "stdout",
     "output_type": "stream",
     "text": [
      "inputs\\large34.in: cost 914536.2125794956\n"
     ]
    },
    {
     "name": "stderr",
     "output_type": "stream",
     "text": [
      " 24%|██▍       | 190/780 [01:10<03:39,  2.69it/s]"
     ]
    },
    {
     "name": "stdout",
     "output_type": "stream",
     "text": [
      "inputs\\large35.in: cost 2.54816291780264e+27\n"
     ]
    },
    {
     "name": "stderr",
     "output_type": "stream",
     "text": [
      " 24%|██▍       | 191/780 [01:11<03:22,  2.91it/s]"
     ]
    },
    {
     "name": "stdout",
     "output_type": "stream",
     "text": [
      "inputs\\large36.in: cost 3982493441.1312985\n"
     ]
    },
    {
     "name": "stderr",
     "output_type": "stream",
     "text": [
      " 25%|██▍       | 192/780 [01:11<03:15,  3.00it/s]"
     ]
    },
    {
     "name": "stdout",
     "output_type": "stream",
     "text": [
      "inputs\\large37.in: cost 393133429759857.5\n"
     ]
    },
    {
     "name": "stderr",
     "output_type": "stream",
     "text": [
      " 25%|██▍       | 193/780 [01:11<03:29,  2.80it/s]"
     ]
    },
    {
     "name": "stdout",
     "output_type": "stream",
     "text": [
      "inputs\\large38.in: cost 198332568.73449552\n"
     ]
    },
    {
     "name": "stderr",
     "output_type": "stream",
     "text": [
      " 25%|██▍       | 194/780 [01:12<03:19,  2.94it/s]"
     ]
    },
    {
     "name": "stdout",
     "output_type": "stream",
     "text": [
      "inputs\\large39.in: cost 6.837671229762745e+32\n"
     ]
    },
    {
     "name": "stderr",
     "output_type": "stream",
     "text": [
      " 25%|██▌       | 195/780 [01:12<03:37,  2.69it/s]"
     ]
    },
    {
     "name": "stdout",
     "output_type": "stream",
     "text": [
      "inputs\\large4.in: cost 1.545538935590104e+27\n"
     ]
    },
    {
     "name": "stderr",
     "output_type": "stream",
     "text": [
      " 25%|██▌       | 196/780 [01:12<03:36,  2.69it/s]"
     ]
    },
    {
     "name": "stdout",
     "output_type": "stream",
     "text": [
      "inputs\\large40.in: cost 327176938.4760557\n"
     ]
    },
    {
     "name": "stderr",
     "output_type": "stream",
     "text": [
      " 25%|██▌       | 197/780 [01:13<03:24,  2.85it/s]"
     ]
    },
    {
     "name": "stdout",
     "output_type": "stream",
     "text": [
      "inputs\\large41.in: cost 7896296018270071.0\n"
     ]
    },
    {
     "name": "stderr",
     "output_type": "stream",
     "text": [
      " 25%|██▌       | 198/780 [01:13<03:37,  2.68it/s]"
     ]
    },
    {
     "name": "stdout",
     "output_type": "stream",
     "text": [
      "inputs\\large42.in: cost 53204824085103.266\n"
     ]
    },
    {
     "name": "stderr",
     "output_type": "stream",
     "text": [
      " 26%|██▌       | 199/780 [01:13<03:21,  2.88it/s]"
     ]
    },
    {
     "name": "stdout",
     "output_type": "stream",
     "text": [
      "inputs\\large43.in: cost 120272429.71240903\n"
     ]
    },
    {
     "name": "stderr",
     "output_type": "stream",
     "text": [
      " 26%|██▌       | 200/780 [01:14<03:10,  3.05it/s]"
     ]
    },
    {
     "name": "stdout",
     "output_type": "stream",
     "text": [
      "inputs\\large44.in: cost 110180.42360539653\n"
     ]
    },
    {
     "name": "stderr",
     "output_type": "stream",
     "text": [
      " 26%|██▌       | 201/780 [01:14<03:14,  2.97it/s]"
     ]
    },
    {
     "name": "stdout",
     "output_type": "stream",
     "text": [
      "inputs\\large45.in: cost 4.2558654617939035e+22\n"
     ]
    },
    {
     "name": "stderr",
     "output_type": "stream",
     "text": [
      " 26%|██▌       | 202/780 [01:14<03:05,  3.12it/s]"
     ]
    },
    {
     "name": "stdout",
     "output_type": "stream",
     "text": [
      "inputs\\large46.in: cost 7896296018277071.0\n"
     ]
    },
    {
     "name": "stderr",
     "output_type": "stream",
     "text": [
      " 26%|██▌       | 203/780 [01:15<03:26,  2.80it/s]"
     ]
    },
    {
     "name": "stdout",
     "output_type": "stream",
     "text": [
      "inputs\\large47.in: cost 1.6948892444103337e+30\n"
     ]
    },
    {
     "name": "stderr",
     "output_type": "stream",
     "text": [
      " 26%|██▌       | 204/780 [01:15<03:25,  2.80it/s]"
     ]
    },
    {
     "name": "stdout",
     "output_type": "stream",
     "text": [
      "inputs\\large48.in: cost 1606646575862.54\n"
     ]
    },
    {
     "name": "stderr",
     "output_type": "stream",
     "text": [
      " 26%|██▋       | 205/780 [01:16<03:38,  2.64it/s]"
     ]
    },
    {
     "name": "stdout",
     "output_type": "stream",
     "text": [
      "inputs\\large49.in: cost 9.619657855454875e+16\n"
     ]
    },
    {
     "name": "stderr",
     "output_type": "stream",
     "text": [
      " 26%|██▋       | 206/780 [01:16<03:33,  2.68it/s]"
     ]
    },
    {
     "name": "stdout",
     "output_type": "stream",
     "text": [
      "inputs\\large5.in: cost 2.54816291780264e+27\n"
     ]
    },
    {
     "name": "stderr",
     "output_type": "stream",
     "text": [
      " 27%|██▋       | 207/780 [01:16<03:23,  2.82it/s]"
     ]
    },
    {
     "name": "stdout",
     "output_type": "stream",
     "text": [
      "inputs\\large50.in: cost 1.6948892444103337e+30\n"
     ]
    },
    {
     "name": "stderr",
     "output_type": "stream",
     "text": [
      " 27%|██▋       | 208/780 [01:17<03:20,  2.85it/s]"
     ]
    },
    {
     "name": "stdout",
     "output_type": "stream",
     "text": [
      "inputs\\large51.in: cost 4.311231547115265e+17\n"
     ]
    },
    {
     "name": "stderr",
     "output_type": "stream",
     "text": [
      " 27%|██▋       | 209/780 [01:17<03:27,  2.76it/s]"
     ]
    },
    {
     "name": "stdout",
     "output_type": "stream",
     "text": [
      "inputs\\large52.in: cost 1.0280022915520466e+30\n"
     ]
    },
    {
     "name": "stderr",
     "output_type": "stream",
     "text": [
      " 27%|██▋       | 210/780 [01:17<03:22,  2.81it/s]"
     ]
    },
    {
     "name": "stdout",
     "output_type": "stream",
     "text": [
      "inputs\\large53.in: cost 1.9073465724950997e+23\n"
     ]
    },
    {
     "name": "stderr",
     "output_type": "stream",
     "text": [
      " 27%|██▋       | 211/780 [01:18<03:16,  2.90it/s]"
     ]
    },
    {
     "name": "stdout",
     "output_type": "stream",
     "text": [
      "inputs\\large54.in: cost 2.5813128861900675e+22\n"
     ]
    },
    {
     "name": "stderr",
     "output_type": "stream",
     "text": [
      " 27%|██▋       | 212/780 [01:18<03:25,  2.77it/s]"
     ]
    },
    {
     "name": "stdout",
     "output_type": "stream",
     "text": [
      "inputs\\large55.in: cost 591052284800.5447\n"
     ]
    },
    {
     "name": "stderr",
     "output_type": "stream",
     "text": [
      " 27%|██▋       | 213/780 [01:18<03:24,  2.78it/s]"
     ]
    },
    {
     "name": "stdout",
     "output_type": "stream",
     "text": [
      "inputs\\large56.in: cost 393133429791759.5\n"
     ]
    },
    {
     "name": "stderr",
     "output_type": "stream",
     "text": [
      " 27%|██▋       | 214/780 [01:19<03:14,  2.91it/s]"
     ]
    },
    {
     "name": "stdout",
     "output_type": "stream",
     "text": [
      "inputs\\large57.in: cost 1.7169386685189163e+25\n"
     ]
    },
    {
     "name": "stderr",
     "output_type": "stream",
     "text": [
      " 28%|██▊       | 215/780 [01:19<03:16,  2.87it/s]"
     ]
    },
    {
     "name": "stdout",
     "output_type": "stream",
     "text": [
      "inputs\\large58.in: cost 6.2351490808116165e+29\n"
     ]
    },
    {
     "name": "stderr",
     "output_type": "stream",
     "text": [
      " 28%|██▊       | 216/780 [01:19<03:05,  3.04it/s]"
     ]
    },
    {
     "name": "stdout",
     "output_type": "stream",
     "text": [
      "inputs\\large59.in: cost 11871600931388.395\n"
     ]
    },
    {
     "name": "stderr",
     "output_type": "stream",
     "text": [
      " 28%|██▊       | 217/780 [01:20<02:56,  3.19it/s]"
     ]
    },
    {
     "name": "stdout",
     "output_type": "stream",
     "text": [
      "inputs\\large6.in: cost 217435971296.95053\n"
     ]
    },
    {
     "name": "stderr",
     "output_type": "stream",
     "text": [
      " 28%|██▊       | 218/780 [01:20<02:59,  3.12it/s]"
     ]
    },
    {
     "name": "stdout",
     "output_type": "stream",
     "text": [
      "inputs\\large60.in: cost 120295429.82266387\n"
     ]
    },
    {
     "name": "stderr",
     "output_type": "stream",
     "text": [
      " 28%|██▊       | 219/780 [01:20<02:59,  3.13it/s]"
     ]
    },
    {
     "name": "stdout",
     "output_type": "stream",
     "text": [
      "inputs\\large61.in: cost 3.493427105748509e+21\n"
     ]
    },
    {
     "name": "stderr",
     "output_type": "stream",
     "text": [
      " 28%|██▊       | 220/780 [01:21<03:05,  3.02it/s]"
     ]
    },
    {
     "name": "stdout",
     "output_type": "stream",
     "text": [
      "inputs\\large62.in: cost 6.749859873641241e+37\n"
     ]
    },
    {
     "name": "stderr",
     "output_type": "stream",
     "text": [
      " 28%|██▊       | 221/780 [01:21<03:20,  2.79it/s]"
     ]
    },
    {
     "name": "stdout",
     "output_type": "stream",
     "text": [
      "inputs\\large63.in: cost 1.6948892444103337e+30\n"
     ]
    },
    {
     "name": "stderr",
     "output_type": "stream",
     "text": [
      " 28%|██▊       | 222/780 [01:21<03:29,  2.66it/s]"
     ]
    },
    {
     "name": "stdout",
     "output_type": "stream",
     "text": [
      "inputs\\large64.in: cost 4.607186634331292e+30\n"
     ]
    },
    {
     "name": "stderr",
     "output_type": "stream",
     "text": [
      " 29%|██▊       | 223/780 [01:22<03:31,  2.64it/s]"
     ]
    },
    {
     "name": "stdout",
     "output_type": "stream",
     "text": [
      "inputs\\large65.in: cost 3982520127.0873265\n"
     ]
    },
    {
     "name": "stderr",
     "output_type": "stream",
     "text": [
      " 29%|██▊       | 224/780 [01:22<03:26,  2.69it/s]"
     ]
    },
    {
     "name": "stdout",
     "output_type": "stream",
     "text": [
      "inputs\\large66.in: cost 2.091659496012996e+26\n"
     ]
    },
    {
     "name": "stderr",
     "output_type": "stream",
     "text": [
      " 29%|██▉       | 225/780 [01:23<03:34,  2.59it/s]"
     ]
    },
    {
     "name": "stdout",
     "output_type": "stream",
     "text": [
      "inputs\\large67.in: cost 144625706582834.1\n"
     ]
    },
    {
     "name": "stderr",
     "output_type": "stream",
     "text": [
      " 29%|██▉       | 226/780 [01:23<03:21,  2.75it/s]"
     ]
    },
    {
     "name": "stdout",
     "output_type": "stream",
     "text": [
      "inputs\\large68.in: cost 974480373215.4022\n"
     ]
    },
    {
     "name": "stderr",
     "output_type": "stream",
     "text": [
      " 29%|██▉       | 227/780 [01:23<03:06,  2.96it/s]"
     ]
    },
    {
     "name": "stdout",
     "output_type": "stream",
     "text": [
      "inputs\\large69.in: cost 5.54062238439351e+36\n"
     ]
    },
    {
     "name": "stderr",
     "output_type": "stream",
     "text": [
      " 29%|██▉       | 228/780 [01:24<03:20,  2.76it/s]"
     ]
    },
    {
     "name": "stdout",
     "output_type": "stream",
     "text": [
      "inputs\\large7.in: cost 1.0280022915520466e+30\n"
     ]
    },
    {
     "name": "stderr",
     "output_type": "stream",
     "text": [
      " 29%|██▉       | 229/780 [01:24<03:05,  2.97it/s]"
     ]
    },
    {
     "name": "stdout",
     "output_type": "stream",
     "text": [
      "inputs\\large70.in: cost 5.052393630276104e+33\n"
     ]
    },
    {
     "name": "stderr",
     "output_type": "stream",
     "text": [
      " 29%|██▉       | 230/780 [01:24<03:20,  2.74it/s]"
     ]
    },
    {
     "name": "stdout",
     "output_type": "stream",
     "text": [
      "inputs\\large71.in: cost 4.2012104037905146e+27\n"
     ]
    },
    {
     "name": "stderr",
     "output_type": "stream",
     "text": [
      " 30%|██▉       | 231/780 [01:25<03:11,  2.87it/s]"
     ]
    },
    {
     "name": "stdout",
     "output_type": "stream",
     "text": [
      "inputs\\large72.in: cost 4.1472572418860906e+32\n"
     ]
    },
    {
     "name": "stderr",
     "output_type": "stream",
     "text": [
      " 30%|██▉       | 232/780 [01:25<03:08,  2.91it/s]"
     ]
    },
    {
     "name": "stdout",
     "output_type": "stream",
     "text": [
      "inputs\\large73.in: cost 745624.1891324173\n"
     ]
    },
    {
     "name": "stderr",
     "output_type": "stream",
     "text": [
      " 30%|██▉       | 233/780 [01:25<03:21,  2.72it/s]"
     ]
    },
    {
     "name": "stdout",
     "output_type": "stream",
     "text": [
      "inputs\\large74.in: cost 480933.78135317256\n"
     ]
    },
    {
     "name": "stderr",
     "output_type": "stream",
     "text": [
      " 30%|███       | 234/780 [01:26<03:27,  2.63it/s]"
     ]
    },
    {
     "name": "stdout",
     "output_type": "stream",
     "text": [
      "inputs\\large75.in: cost 1.8828518748858514e+28\n"
     ]
    },
    {
     "name": "stderr",
     "output_type": "stream",
     "text": [
      " 30%|███       | 235/780 [01:26<03:15,  2.79it/s]"
     ]
    },
    {
     "name": "stdout",
     "output_type": "stream",
     "text": [
      "inputs\\large76.in: cost 3.7332419967990015e+34\n"
     ]
    },
    {
     "name": "stderr",
     "output_type": "stream",
     "text": [
      " 30%|███       | 236/780 [01:26<03:13,  2.81it/s]"
     ]
    },
    {
     "name": "stdout",
     "output_type": "stream",
     "text": [
      "inputs\\large77.in: cost 326918206.50407416\n"
     ]
    },
    {
     "name": "stderr",
     "output_type": "stream",
     "text": [
      " 30%|███       | 237/780 [01:27<03:08,  2.89it/s]"
     ]
    },
    {
     "name": "stdout",
     "output_type": "stream",
     "text": [
      "inputs\\large78.in: cost 6.926624955416095e+27\n"
     ]
    },
    {
     "name": "stderr",
     "output_type": "stream",
     "text": [
      " 31%|███       | 238/780 [01:27<03:26,  2.62it/s]"
     ]
    },
    {
     "name": "stdout",
     "output_type": "stream",
     "text": [
      "inputs\\large79.in: cost 4094551.5281165307\n"
     ]
    },
    {
     "name": "stderr",
     "output_type": "stream",
     "text": [
      " 31%|███       | 239/780 [01:28<03:22,  2.67it/s]"
     ]
    },
    {
     "name": "stdout",
     "output_type": "stream",
     "text": [
      "inputs\\large8.in: cost 1.8828518748858514e+28\n"
     ]
    },
    {
     "name": "stderr",
     "output_type": "stream",
     "text": [
      " 31%|███       | 240/780 [01:28<03:28,  2.59it/s]"
     ]
    },
    {
     "name": "stdout",
     "output_type": "stream",
     "text": [
      "inputs\\large80.in: cost 6126478.382125822\n"
     ]
    },
    {
     "name": "stderr",
     "output_type": "stream",
     "text": [
      " 31%|███       | 241/780 [01:28<03:23,  2.65it/s]"
     ]
    },
    {
     "name": "stdout",
     "output_type": "stream",
     "text": [
      "inputs\\large81.in: cost 4.2558654617939035e+22\n"
     ]
    },
    {
     "name": "stderr",
     "output_type": "stream",
     "text": [
      " 31%|███       | 242/780 [01:29<03:23,  2.65it/s]"
     ]
    },
    {
     "name": "stdout",
     "output_type": "stream",
     "text": [
      "inputs\\large82.in: cost 48516636940.97903\n"
     ]
    },
    {
     "name": "stderr",
     "output_type": "stream",
     "text": [
      " 31%|███       | 243/780 [01:29<03:24,  2.63it/s]"
     ]
    },
    {
     "name": "stdout",
     "output_type": "stream",
     "text": [
      "inputs\\large83.in: cost 5.834617425275749e+16\n"
     ]
    },
    {
     "name": "stderr",
     "output_type": "stream",
     "text": [
      " 31%|███▏      | 244/780 [01:30<03:20,  2.68it/s]"
     ]
    },
    {
     "name": "stdout",
     "output_type": "stream",
     "text": [
      "inputs\\large84.in: cost 144625706600480.22\n"
     ]
    },
    {
     "name": "stderr",
     "output_type": "stream",
     "text": [
      " 31%|███▏      | 245/780 [01:30<03:08,  2.83it/s]"
     ]
    },
    {
     "name": "stdout",
     "output_type": "stream",
     "text": [
      "inputs\\large85.in: cost 3.78180908539129e+29\n"
     ]
    },
    {
     "name": "stderr",
     "output_type": "stream",
     "text": [
      " 32%|███▏      | 246/780 [01:30<03:24,  2.61it/s]"
     ]
    },
    {
     "name": "stdout",
     "output_type": "stream",
     "text": [
      "inputs\\large86.in: cost 9.374167502150271e+26\n"
     ]
    },
    {
     "name": "stderr",
     "output_type": "stream",
     "text": [
      " 32%|███▏      | 247/780 [01:31<03:19,  2.67it/s]"
     ]
    },
    {
     "name": "stdout",
     "output_type": "stream",
     "text": [
      "inputs\\large87.in: cost 2.830753303274694e+25\n"
     ]
    },
    {
     "name": "stderr",
     "output_type": "stream",
     "text": [
      " 32%|███▏      | 248/780 [01:31<03:29,  2.54it/s]"
     ]
    },
    {
     "name": "stdout",
     "output_type": "stream",
     "text": [
      "inputs\\large88.in: cost 53204824146765.34\n"
     ]
    },
    {
     "name": "stderr",
     "output_type": "stream",
     "text": [
      " 32%|███▏      | 249/780 [01:31<03:25,  2.58it/s]"
     ]
    },
    {
     "name": "stdout",
     "output_type": "stream",
     "text": [
      "inputs\\large89.in: cost 4.667123183213639e+25\n"
     ]
    },
    {
     "name": "stderr",
     "output_type": "stream",
     "text": [
      " 32%|███▏      | 250/780 [01:32<03:19,  2.66it/s]"
     ]
    },
    {
     "name": "stdout",
     "output_type": "stream",
     "text": [
      "inputs\\large9.in: cost 1.1420073898156843e+28\n"
     ]
    },
    {
     "name": "stderr",
     "output_type": "stream",
     "text": [
      " 32%|███▏      | 251/780 [01:32<03:18,  2.66it/s]"
     ]
    },
    {
     "name": "stdout",
     "output_type": "stream",
     "text": [
      "inputs\\large90.in: cost 326967233.4760557\n"
     ]
    },
    {
     "name": "stderr",
     "output_type": "stream",
     "text": [
      " 32%|███▏      | 252/780 [01:32<03:02,  2.89it/s]"
     ]
    },
    {
     "name": "stdout",
     "output_type": "stream",
     "text": [
      "inputs\\large91.in: cost 29426768046.56969\n"
     ]
    },
    {
     "name": "stderr",
     "output_type": "stream",
     "text": [
      " 32%|███▏      | 253/780 [01:33<03:16,  2.68it/s]"
     ]
    },
    {
     "name": "stdout",
     "output_type": "stream",
     "text": [
      "inputs\\large92.in: cost 2.4831346783006825e+37\n"
     ]
    },
    {
     "name": "stderr",
     "output_type": "stream",
     "text": [
      " 33%|███▎      | 254/780 [01:33<03:11,  2.75it/s]"
     ]
    },
    {
     "name": "stdout",
     "output_type": "stream",
     "text": [
      "inputs\\large93.in: cost 1.409349082426939e+24\n"
     ]
    },
    {
     "name": "stderr",
     "output_type": "stream",
     "text": [
      " 33%|███▎      | 255/780 [01:34<03:20,  2.62it/s]"
     ]
    },
    {
     "name": "stdout",
     "output_type": "stream",
     "text": [
      "inputs\\large94.in: cost 6.316264379003792e+24\n"
     ]
    },
    {
     "name": "stderr",
     "output_type": "stream",
     "text": [
      " 33%|███▎      | 256/780 [01:34<03:19,  2.63it/s]"
     ]
    },
    {
     "name": "stdout",
     "output_type": "stream",
     "text": [
      "inputs\\large95.in: cost 4.5480198079848416e+35\n"
     ]
    },
    {
     "name": "stderr",
     "output_type": "stream",
     "text": [
      " 33%|███▎      | 257/780 [01:34<03:15,  2.68it/s]"
     ]
    },
    {
     "name": "stdout",
     "output_type": "stream",
     "text": [
      "inputs\\large96.in: cost 53204824153363.2\n"
     ]
    },
    {
     "name": "stderr",
     "output_type": "stream",
     "text": [
      " 33%|███▎      | 258/780 [01:35<03:16,  2.66it/s]"
     ]
    },
    {
     "name": "stdout",
     "output_type": "stream",
     "text": [
      "inputs\\large97.in: cost 1.5656454077855836e+22\n"
     ]
    },
    {
     "name": "stderr",
     "output_type": "stream",
     "text": [
      " 33%|███▎      | 259/780 [01:35<03:16,  2.66it/s]"
     ]
    },
    {
     "name": "stdout",
     "output_type": "stream",
     "text": [
      "inputs\\large98.in: cost 9.496119420602448e+21\n"
     ]
    },
    {
     "name": "stderr",
     "output_type": "stream",
     "text": [
      " 33%|███▎      | 261/780 [01:36<02:34,  3.36it/s]"
     ]
    },
    {
     "name": "stdout",
     "output_type": "stream",
     "text": [
      "inputs\\large99.in: cost 1.373382979540176e+34\n",
      "inputs\\medium1.in: cost 327115631.24721104\n"
     ]
    },
    {
     "name": "stderr",
     "output_type": "stream",
     "text": [
      " 34%|███▎      | 263/780 [01:36<01:52,  4.61it/s]"
     ]
    },
    {
     "name": "stdout",
     "output_type": "stream",
     "text": [
      "inputs\\medium10.in: cost 3982619709.342954\n",
      "inputs\\medium100.in: cost 724515.414599937\n"
     ]
    },
    {
     "name": "stderr",
     "output_type": "stream",
     "text": [
      " 34%|███▍      | 265/780 [01:36<01:28,  5.83it/s]"
     ]
    },
    {
     "name": "stdout",
     "output_type": "stream",
     "text": [
      "inputs\\medium101.in: cost 506222.24144560634\n",
      "inputs\\medium102.in: cost 120397076.2344512\n",
      "inputs\\medium103.in: cost 3672331.0624113875\n"
     ]
    },
    {
     "name": "stderr",
     "output_type": "stream",
     "text": [
      " 34%|███▍      | 268/780 [01:36<01:08,  7.46it/s]"
     ]
    },
    {
     "name": "stdout",
     "output_type": "stream",
     "text": [
      "inputs\\medium104.in: cost 6566154796.667778\n",
      "inputs\\medium105.in: cost 753003.1040747633\n",
      "inputs\\medium106.in: cost 64752.20594802552\n"
     ]
    },
    {
     "name": "stderr",
     "output_type": "stream",
     "text": [
      " 35%|███▍      | 271/780 [01:37<01:00,  8.47it/s]"
     ]
    },
    {
     "name": "stdout",
     "output_type": "stream",
     "text": [
      "inputs\\medium107.in: cost 27043729.652087446\n",
      "inputs\\medium108.in: cost 406869.6047309474\n",
      "inputs\\medium109.in: cost 3675113.0624113875\n"
     ]
    },
    {
     "name": "stderr",
     "output_type": "stream",
     "text": [
      " 35%|███▌      | 273/780 [01:37<00:56,  9.03it/s]"
     ]
    },
    {
     "name": "stdout",
     "output_type": "stream",
     "text": [
      "inputs\\medium11.in: cost 377515.4145999371\n",
      "inputs\\medium110.in: cost 198363928.9376285\n",
      "inputs\\medium111.in: cost 917672.2175655995\n"
     ]
    },
    {
     "name": "stderr",
     "output_type": "stream",
     "text": [
      " 36%|███▌      | 277/780 [01:37<00:59,  8.44it/s]"
     ]
    },
    {
     "name": "stdout",
     "output_type": "stream",
     "text": [
      "inputs\\medium112.in: cost 48516620540.81816\n",
      "inputs\\medium113.in: cost 27006523.652087446\n"
     ]
    },
    {
     "name": "stderr",
     "output_type": "stream",
     "text": [
      " 36%|███▌      | 278/780 [01:38<01:00,  8.26it/s]"
     ]
    },
    {
     "name": "stdout",
     "output_type": "stream",
     "text": [
      "inputs\\medium114.in: cost 3692837.3808953627\n",
      "inputs\\medium115.in: cost 358491296217.25745\n"
     ]
    },
    {
     "name": "stderr",
     "output_type": "stream",
     "text": [
      " 36%|███▌      | 282/780 [01:38<00:53,  9.25it/s]"
     ]
    },
    {
     "name": "stdout",
     "output_type": "stream",
     "text": [
      "inputs\\medium116.in: cost 9899578.357418273\n",
      "inputs\\medium117.in: cost 857263.1637632904\n",
      "inputs\\medium118.in: cost 7200490016616.588\n"
     ]
    },
    {
     "name": "stderr",
     "output_type": "stream",
     "text": [
      " 36%|███▋      | 284/780 [01:38<00:58,  8.54it/s]"
     ]
    },
    {
     "name": "stdout",
     "output_type": "stream",
     "text": [
      "inputs\\medium119.in: cost 72983146.4485642\n",
      "inputs\\medium12.in: cost 3982593580.1944394\n"
     ]
    },
    {
     "name": "stderr",
     "output_type": "stream",
     "text": [
      " 37%|███▋      | 286/780 [01:39<00:59,  8.28it/s]"
     ]
    },
    {
     "name": "stdout",
     "output_type": "stream",
     "text": [
      "inputs\\medium120.in: cost 878847.4096730726\n",
      "inputs\\medium121.in: cost 3982705443.238273\n",
      "inputs\\medium122.in: cost 522079.26945504255\n"
     ]
    },
    {
     "name": "stderr",
     "output_type": "stream",
     "text": [
      " 37%|███▋      | 288/780 [01:39<00:47, 10.27it/s]"
     ]
    },
    {
     "name": "stdout",
     "output_type": "stream",
     "text": [
      "inputs\\medium123.in: cost 4367317918234.3496\n",
      "inputs\\medium124.in: cost 990303.5536923187\n"
     ]
    },
    {
     "name": "stderr",
     "output_type": "stream",
     "text": [
      " 37%|███▋      | 292/780 [01:39<00:49,  9.82it/s]"
     ]
    },
    {
     "name": "stdout",
     "output_type": "stream",
     "text": [
      "inputs\\medium125.in: cost 2415559643.821866\n",
      "inputs\\medium126.in: cost 888631109.8528955\n",
      "inputs\\medium127.in: cost 539069413.2771248\n"
     ]
    },
    {
     "name": "stderr",
     "output_type": "stream",
     "text": [
      " 38%|███▊      | 294/780 [01:39<00:46, 10.38it/s]"
     ]
    },
    {
     "name": "stdout",
     "output_type": "stream",
     "text": [
      "inputs\\medium128.in: cost 48516529971.521996\n",
      "inputs\\medium129.in: cost 11871600942472.965\n"
     ]
    },
    {
     "name": "stderr",
     "output_type": "stream",
     "text": [
      " 38%|███▊      | 296/780 [01:39<00:47, 10.17it/s]"
     ]
    },
    {
     "name": "stdout",
     "output_type": "stream",
     "text": [
      "inputs\\medium13.in: cost 19572961027767.875\n",
      "inputs\\medium130.in: cost 974480357820.5428\n",
      "inputs\\medium131.in: cost 679180.8793492735\n"
     ]
    },
    {
     "name": "stderr",
     "output_type": "stream",
     "text": [
      " 38%|███▊      | 298/780 [01:40<00:52,  9.15it/s]"
     ]
    },
    {
     "name": "stdout",
     "output_type": "stream",
     "text": [
      "inputs\\medium132.in: cost 48516631847.81816\n",
      "inputs\\medium133.in: cost 131881622858.01895\n"
     ]
    },
    {
     "name": "stderr",
     "output_type": "stream",
     "text": [
      " 39%|███▊      | 301/780 [01:40<00:54,  8.85it/s]"
     ]
    },
    {
     "name": "stdout",
     "output_type": "stream",
     "text": [
      "inputs\\medium134.in: cost 6566120183.977119\n",
      "inputs\\medium135.in: cost 6171890.497709848\n",
      "inputs\\medium136.in: cost 3982490691.9368033\n"
     ]
    },
    {
     "name": "stderr",
     "output_type": "stream",
     "text": [
      " 39%|███▉      | 304/780 [01:40<00:58,  8.15it/s]"
     ]
    },
    {
     "name": "stdout",
     "output_type": "stream",
     "text": [
      "inputs\\medium137.in: cost 1606646553962.0208\n",
      "inputs\\medium138.in: cost 53204824126871.09\n",
      "inputs\\medium139.in: cost 72986061.4485642\n"
     ]
    },
    {
     "name": "stderr",
     "output_type": "stream",
     "text": [
      " 39%|███▉      | 307/780 [01:41<00:52,  9.03it/s]"
     ]
    },
    {
     "name": "stdout",
     "output_type": "stream",
     "text": [
      "inputs\\medium14.in: cost 62139.60473094736\n",
      "inputs\\medium140.in: cost 48516663173.56855\n"
     ]
    },
    {
     "name": "stderr",
     "output_type": "stream",
     "text": [
      " 40%|███▉      | 309/780 [01:41<00:50,  9.30it/s]"
     ]
    },
    {
     "name": "stdout",
     "output_type": "stream",
     "text": [
      "inputs\\medium141.in: cost 5999420.091508039\n",
      "inputs\\medium142.in: cost 19572960966019.85\n"
     ]
    },
    {
     "name": "stderr",
     "output_type": "stream",
     "text": [
      " 40%|███▉      | 311/780 [01:41<00:49,  9.50it/s]"
     ]
    },
    {
     "name": "stdout",
     "output_type": "stream",
     "text": [
      "inputs\\medium143.in: cost 68123.20594802551\n",
      "inputs\\medium144.in: cost 660969.1192024216\n"
     ]
    },
    {
     "name": "stderr",
     "output_type": "stream",
     "text": [
      " 40%|████      | 312/780 [01:41<00:51,  9.04it/s]"
     ]
    },
    {
     "name": "stdout",
     "output_type": "stream",
     "text": [
      "inputs\\medium145.in: cost 284469.2059480255\n",
      "inputs\\medium146.in: cost 2258931.579480672\n",
      "inputs\\medium147.in: cost 10825614917.5769\n"
     ]
    },
    {
     "name": "stderr",
     "output_type": "stream",
     "text": [
      " 41%|████      | 316/780 [01:42<00:46, 10.08it/s]"
     ]
    },
    {
     "name": "stdout",
     "output_type": "stream",
     "text": [
      "inputs\\medium148.in: cost 6566062915.824516\n",
      "inputs\\medium149.in: cost 10825547776.5769\n",
      "inputs\\medium15.in: cost 79990224622.7094\n"
     ]
    },
    {
     "name": "stderr",
     "output_type": "stream",
     "text": [
      " 41%|████      | 320/780 [01:42<00:45, 10.19it/s]"
     ]
    },
    {
     "name": "stdout",
     "output_type": "stream",
     "text": [
      "inputs\\medium150.in: cost 478886.2046763928\n",
      "inputs\\medium151.in: cost 6209138.497709848\n",
      "inputs\\medium152.in: cost 591052221344.9186\n"
     ]
    },
    {
     "name": "stderr",
     "output_type": "stream",
     "text": [
      " 41%|████▏     | 322/780 [01:42<00:40, 11.20it/s]"
     ]
    },
    {
     "name": "stdout",
     "output_type": "stream",
     "text": [
      "inputs\\medium153.in: cost 29426790597.460358\n",
      "inputs\\medium154.in: cost 79990244749.7094\n",
      "inputs\\medium155.in: cost 717414.2059480255\n"
     ]
    },
    {
     "name": "stderr",
     "output_type": "stream",
     "text": [
      " 42%|████▏     | 326/780 [01:43<00:43, 10.45it/s]"
     ]
    },
    {
     "name": "stdout",
     "output_type": "stream",
     "text": [
      "inputs\\medium156.in: cost 16372460.076627582\n",
      "inputs\\medium157.in: cost 1606646490970.467\n",
      "inputs\\medium158.in: cost 1606646482064.7244\n"
     ]
    },
    {
     "name": "stderr",
     "output_type": "stream",
     "text": [
      " 42%|████▏     | 328/780 [01:43<00:46,  9.79it/s]"
     ]
    },
    {
     "name": "stdout",
     "output_type": "stream",
     "text": [
      "inputs\\medium159.in: cost 6566013215.824516\n",
      "inputs\\medium16.in: cost 1360775.014179713\n"
     ]
    },
    {
     "name": "stderr",
     "output_type": "stream",
     "text": [
      " 42%|████▏     | 330/780 [01:43<00:44, 10.22it/s]"
     ]
    },
    {
     "name": "stdout",
     "output_type": "stream",
     "text": [
      "inputs\\medium160.in: cost 198360928.1708678\n",
      "inputs\\medium161.in: cost 914155.3274847278\n",
      "inputs\\medium162.in: cost 591052232306.7034\n"
     ]
    },
    {
     "name": "stderr",
     "output_type": "stream",
     "text": [
      " 43%|████▎     | 332/780 [01:43<00:44, 10.06it/s]"
     ]
    },
    {
     "name": "stdout",
     "output_type": "stream",
     "text": [
      "inputs\\medium163.in: cost 327040411.24721104\n",
      "inputs\\medium164.in: cost 198446390.1708678\n"
     ]
    },
    {
     "name": "stderr",
     "output_type": "stream",
     "text": [
      " 43%|████▎     | 335/780 [01:44<00:47,  9.33it/s]"
     ]
    },
    {
     "name": "stdout",
     "output_type": "stream",
     "text": [
      "inputs\\medium165.in: cost 751278.5536923187\n",
      "inputs\\medium166.in: cost 6566074074.127261\n"
     ]
    },
    {
     "name": "stderr",
     "output_type": "stream",
     "text": [
      " 43%|████▎     | 337/780 [01:44<00:48,  9.09it/s]"
     ]
    },
    {
     "name": "stdout",
     "output_type": "stream",
     "text": [
      "inputs\\medium167.in: cost 527333.3159102576\n",
      "inputs\\medium168.in: cost 2331482.579480672\n"
     ]
    },
    {
     "name": "stderr",
     "output_type": "stream",
     "text": [
      " 43%|████▎     | 339/780 [01:44<01:16,  5.77it/s]"
     ]
    },
    {
     "name": "stdout",
     "output_type": "stream",
     "text": [
      "inputs\\medium169.in: cost 19572961010832.85\n",
      "inputs\\medium17.in: cost 198443732.78910616\n"
     ]
    },
    {
     "name": "stderr",
     "output_type": "stream",
     "text": [
      " 44%|████▎     | 341/780 [01:45<01:02,  7.00it/s]"
     ]
    },
    {
     "name": "stdout",
     "output_type": "stream",
     "text": [
      "inputs\\medium170.in: cost 19572960986104.19\n",
      "inputs\\medium171.in: cost 6566011515.977119\n",
      "inputs\\medium172.in: cost 538998802.5248019\n"
     ]
    },
    {
     "name": "stderr",
     "output_type": "stream",
     "text": [
      " 44%|████▍     | 344/780 [01:45<00:49,  8.74it/s]"
     ]
    },
    {
     "name": "stdout",
     "output_type": "stream",
     "text": [
      "inputs\\medium173.in: cost 7200489942224.588\n",
      "inputs\\medium174.in: cost 3982604122.1944394\n"
     ]
    },
    {
     "name": "stderr",
     "output_type": "stream",
     "text": [
      " 44%|████▍     | 347/780 [01:45<00:43,  9.86it/s]"
     ]
    },
    {
     "name": "stdout",
     "output_type": "stream",
     "text": [
      "inputs\\medium175.in: cost 217436005475.10214\n",
      "inputs\\medium176.in: cost 4367317940975.3496\n",
      "inputs\\medium177.in: cost 358491301033.6379\n"
     ]
    },
    {
     "name": "stderr",
     "output_type": "stream",
     "text": [
      " 45%|████▍     | 349/780 [01:45<00:42, 10.10it/s]"
     ]
    },
    {
     "name": "stdout",
     "output_type": "stream",
     "text": [
      "inputs\\medium178.in: cost 6566007044.667778\n",
      "inputs\\medium179.in: cost 539212050.2286543\n",
      "inputs\\medium18.in: cost 87719925169045.3\n"
     ]
    },
    {
     "name": "stderr",
     "output_type": "stream",
     "text": [
      " 45%|████▌     | 353/780 [01:46<00:46,  9.28it/s]"
     ]
    },
    {
     "name": "stdout",
     "output_type": "stream",
     "text": [
      "inputs\\medium180.in: cost 326953557.24721104\n",
      "inputs\\medium181.in: cost 521253.3630425104\n",
      "inputs\\medium182.in: cost 2415663868.8662925\n",
      "inputs\\medium183.in: cost 2415589279.971193\n"
     ]
    },
    {
     "name": "stderr",
     "output_type": "stream",
     "text": [
      " 46%|████▌     | 356/780 [01:46<00:58,  7.30it/s]"
     ]
    },
    {
     "name": "stdout",
     "output_type": "stream",
     "text": [
      "inputs\\medium184.in: cost 538995400.0802135\n",
      "inputs\\medium185.in: cost 431902.4145999371\n"
     ]
    },
    {
     "name": "stderr",
     "output_type": "stream",
     "text": [
      " 46%|████▌     | 358/780 [01:47<00:53,  7.86it/s]"
     ]
    },
    {
     "name": "stdout",
     "output_type": "stream",
     "text": [
      "inputs\\medium186.in: cost 591052253576.3843\n",
      "inputs\\medium187.in: cost 16452884.076627582\n"
     ]
    },
    {
     "name": "stderr",
     "output_type": "stream",
     "text": [
      " 46%|████▌     | 359/780 [01:47<00:56,  7.50it/s]"
     ]
    },
    {
     "name": "stdout",
     "output_type": "stream",
     "text": [
      "inputs\\medium188.in: cost 120282674.2344512\n",
      "inputs\\medium189.in: cost 3982497027.238273\n",
      "inputs\\medium19.in: cost 79990358424.86075\n"
     ]
    },
    {
     "name": "stderr",
     "output_type": "stream",
     "text": [
      " 47%|████▋     | 363/780 [01:47<00:50,  8.20it/s]"
     ]
    },
    {
     "name": "stdout",
     "output_type": "stream",
     "text": [
      "inputs\\medium190.in: cost 11871601033404.941\n",
      "inputs\\medium191.in: cost 326926138.24721104\n"
     ]
    },
    {
     "name": "stderr",
     "output_type": "stream",
     "text": [
      " 47%|████▋     | 366/780 [01:47<00:45,  9.11it/s]"
     ]
    },
    {
     "name": "stdout",
     "output_type": "stream",
     "text": [
      "inputs\\medium192.in: cost 2648912290947.515\n",
      "inputs\\medium193.in: cost 7200489943076.588\n",
      "inputs\\medium194.in: cost 19572960962909.03\n"
     ]
    },
    {
     "name": "stderr",
     "output_type": "stream",
     "text": [
      " 47%|████▋     | 368/780 [01:48<00:50,  8.17it/s]"
     ]
    },
    {
     "name": "stdout",
     "output_type": "stream",
     "text": [
      "inputs\\medium195.in: cost 358491427574.10016\n",
      "inputs\\medium196.in: cost 1465207572.5561862\n"
     ]
    },
    {
     "name": "stderr",
     "output_type": "stream",
     "text": [
      " 47%|████▋     | 370/780 [01:48<01:22,  4.96it/s]"
     ]
    },
    {
     "name": "stdout",
     "output_type": "stream",
     "text": [
      "inputs\\medium197.in: cost 6566098033.667778\n",
      "inputs\\medium198.in: cost 539171223.0802135\n"
     ]
    },
    {
     "name": "stderr",
     "output_type": "stream",
     "text": [
      " 48%|████▊     | 372/780 [01:49<01:22,  4.95it/s]"
     ]
    },
    {
     "name": "stdout",
     "output_type": "stream",
     "text": [
      "inputs\\medium199.in: cost 6109395.497709848\n",
      "inputs\\medium2.in: cost 217436135357.78128\n"
     ]
    },
    {
     "name": "stderr",
     "output_type": "stream",
     "text": [
      " 48%|████▊     | 374/780 [01:49<01:14,  5.48it/s]"
     ]
    },
    {
     "name": "stdout",
     "output_type": "stream",
     "text": [
      "inputs\\medium20.in: cost 209851.10407476325\n",
      "inputs\\medium200.in: cost 2415538658.4871383\n"
     ]
    },
    {
     "name": "stderr",
     "output_type": "stream",
     "text": [
      " 48%|████▊     | 376/780 [01:49<01:08,  5.86it/s]"
     ]
    },
    {
     "name": "stdout",
     "output_type": "stream",
     "text": [
      "inputs\\medium201.in: cost 358491383205.74036\n",
      "inputs\\medium202.in: cost 2415664259.2664127\n"
     ]
    },
    {
     "name": "stderr",
     "output_type": "stream",
     "text": [
      " 48%|████▊     | 377/780 [01:50<01:08,  5.84it/s]"
     ]
    },
    {
     "name": "stdout",
     "output_type": "stream",
     "text": [
      "inputs\\medium203.in: cost 48516642540.521996\n",
      "inputs\\medium204.in: cost 146882.2046763928\n"
     ]
    },
    {
     "name": "stderr",
     "output_type": "stream",
     "text": [
      " 49%|████▉     | 381/780 [01:50<00:50,  7.96it/s]"
     ]
    },
    {
     "name": "stdout",
     "output_type": "stream",
     "text": [
      "inputs\\medium205.in: cost 1021830.0838560899\n",
      "inputs\\medium206.in: cost 9913773.357418273\n",
      "inputs\\medium207.in: cost 1465086648.3654618\n"
     ]
    },
    {
     "name": "stderr",
     "output_type": "stream",
     "text": [
      " 49%|████▉     | 383/780 [01:50<00:48,  8.19it/s]"
     ]
    },
    {
     "name": "stdout",
     "output_type": "stream",
     "text": [
      "inputs\\medium208.in: cost 6566010608.127261\n",
      "inputs\\medium209.in: cost 131881712844.01895\n"
     ]
    },
    {
     "name": "stderr",
     "output_type": "stream",
     "text": [
      " 49%|████▉     | 385/780 [01:50<00:42,  9.34it/s]"
     ]
    },
    {
     "name": "stdout",
     "output_type": "stream",
     "text": [
      "inputs\\medium21.in: cost 70462.10407476328\n",
      "inputs\\medium210.in: cost 208099.2414456063\n",
      "inputs\\medium211.in: cost 66689.6478572415\n"
     ]
    },
    {
     "name": "stderr",
     "output_type": "stream",
     "text": [
      " 50%|████▉     | 388/780 [01:51<00:44,  8.86it/s]"
     ]
    },
    {
     "name": "stdout",
     "output_type": "stream",
     "text": [
      "inputs\\medium212.in: cost 11871600961037.35\n",
      "inputs\\medium213.in: cost 3982616268.342954\n"
     ]
    },
    {
     "name": "stderr",
     "output_type": "stream",
     "text": [
      " 50%|█████     | 390/780 [01:51<00:48,  8.01it/s]"
     ]
    },
    {
     "name": "stdout",
     "output_type": "stream",
     "text": [
      "inputs\\medium214.in: cost 9900278.357418273\n",
      "inputs\\medium215.in: cost 4367317956401.3496\n"
     ]
    },
    {
     "name": "stderr",
     "output_type": "stream",
     "text": [
      " 50%|█████     | 392/780 [01:51<00:52,  7.41it/s]"
     ]
    },
    {
     "name": "stdout",
     "output_type": "stream",
     "text": [
      "inputs\\medium216.in: cost 79990288449.86075\n",
      "inputs\\medium217.in: cost 10067284.357418273\n"
     ]
    },
    {
     "name": "stderr",
     "output_type": "stream",
     "text": [
      " 51%|█████     | 394/780 [01:52<00:46,  8.34it/s]"
     ]
    },
    {
     "name": "stdout",
     "output_type": "stream",
     "text": [
      "inputs\\medium218.in: cost 209805.2414456063\n",
      "inputs\\medium219.in: cost 974480459958.9879\n"
     ]
    },
    {
     "name": "stderr",
     "output_type": "stream",
     "text": [
      " 51%|█████     | 396/780 [01:52<00:49,  7.75it/s]"
     ]
    },
    {
     "name": "stdout",
     "output_type": "stream",
     "text": [
      "inputs\\medium22.in: cost 1465090527.3654618\n",
      "inputs\\medium220.in: cost 217436022678.26544\n"
     ]
    },
    {
     "name": "stderr",
     "output_type": "stream",
     "text": [
      " 51%|█████     | 398/780 [01:52<01:13,  5.19it/s]"
     ]
    },
    {
     "name": "stdout",
     "output_type": "stream",
     "text": [
      "inputs\\medium221.in: cost 79990311006.01018\n",
      "inputs\\medium222.in: cost 7200490075739.588\n"
     ]
    },
    {
     "name": "stderr",
     "output_type": "stream",
     "text": [
      " 51%|█████▏    | 400/780 [01:53<01:01,  6.21it/s]"
     ]
    },
    {
     "name": "stdout",
     "output_type": "stream",
     "text": [
      "inputs\\medium223.in: cost 6566143823.824516\n",
      "inputs\\medium224.in: cost 591052237106.3843\n",
      "inputs\\medium225.in: cost 44263325.32786617\n"
     ]
    },
    {
     "name": "stderr",
     "output_type": "stream",
     "text": [
      " 52%|█████▏    | 402/780 [01:53<00:47,  7.89it/s]"
     ]
    },
    {
     "name": "stdout",
     "output_type": "stream",
     "text": [
      "inputs\\medium226.in: cost 17848290105.49898\n",
      "inputs\\medium227.in: cost 3654551.888428957\n",
      "inputs\\medium228.in: cost 11871600921393.283\n"
     ]
    },
    {
     "name": "stderr",
     "output_type": "stream",
     "text": [
      " 52%|█████▏    | 408/780 [01:53<00:32, 11.28it/s]"
     ]
    },
    {
     "name": "stdout",
     "output_type": "stream",
     "text": [
      "inputs\\medium229.in: cost 17848245820.98488\n",
      "inputs\\medium23.in: cost 591052225305.9186\n",
      "inputs\\medium230.in: cost 1465089854.3654618\n",
      "inputs\\medium231.in: cost 2648912222836.515\n"
     ]
    },
    {
     "name": "stderr",
     "output_type": "stream",
     "text": [
      " 53%|█████▎    | 410/780 [01:54<00:35, 10.44it/s]"
     ]
    },
    {
     "name": "stdout",
     "output_type": "stream",
     "text": [
      "inputs\\medium232.in: cost 26862693.652087446\n",
      "inputs\\medium233.in: cost 429991.0381249469\n"
     ]
    },
    {
     "name": "stderr",
     "output_type": "stream",
     "text": [
      " 53%|█████▎    | 412/780 [01:54<00:35, 10.42it/s]"
     ]
    },
    {
     "name": "stdout",
     "output_type": "stream",
     "text": [
      "inputs\\medium234.in: cost 3993109.888428957\n",
      "inputs\\medium235.in: cost 87719925137879.16\n",
      "inputs\\medium236.in: cost 519610.645090896\n"
     ]
    },
    {
     "name": "stderr",
     "output_type": "stream",
     "text": [
      " 53%|█████▎    | 414/780 [01:54<00:35, 10.42it/s]"
     ]
    },
    {
     "name": "stdout",
     "output_type": "stream",
     "text": [
      "inputs\\medium237.in: cost 402079.8793492735\n",
      "inputs\\medium238.in: cost 1363889.549840703\n"
     ]
    },
    {
     "name": "stderr",
     "output_type": "stream",
     "text": [
      " 53%|█████▎    | 416/780 [01:54<00:36,  9.95it/s]"
     ]
    },
    {
     "name": "stdout",
     "output_type": "stream",
     "text": [
      "inputs\\medium239.in: cost 4367317918029.3496\n",
      "inputs\\medium24.in: cost 87719925201735.89\n"
     ]
    },
    {
     "name": "stderr",
     "output_type": "stream",
     "text": [
      " 54%|█████▎    | 419/780 [01:55<00:41,  8.66it/s]"
     ]
    },
    {
     "name": "stdout",
     "output_type": "stream",
     "text": [
      "inputs\\medium240.in: cost 44409986.01052309\n",
      "inputs\\medium241.in: cost 17848401769.029423\n"
     ]
    },
    {
     "name": "stderr",
     "output_type": "stream",
     "text": [
      " 54%|█████▍    | 421/780 [01:55<00:44,  8.05it/s]"
     ]
    },
    {
     "name": "stdout",
     "output_type": "stream",
     "text": [
      "inputs\\medium242.in: cost 888750283.4076264\n",
      "inputs\\medium243.in: cost 3982678442.4910064\n",
      "inputs\\medium244.in: cost 591052221694.4656\n"
     ]
    },
    {
     "name": "stderr",
     "output_type": "stream",
     "text": [
      " 54%|█████▍    | 423/780 [01:55<00:38,  9.36it/s]"
     ]
    },
    {
     "name": "stdout",
     "output_type": "stream",
     "text": [
      "inputs\\medium245.in: cost 6566024066.276023\n",
      "inputs\\medium246.in: cost 326918863.24721104\n"
     ]
    },
    {
     "name": "stderr",
     "output_type": "stream",
     "text": [
      " 55%|█████▍    | 426/780 [01:55<00:38,  9.10it/s]"
     ]
    },
    {
     "name": "stdout",
     "output_type": "stream",
     "text": [
      "inputs\\medium247.in: cost 120318741.2344512\n",
      "inputs\\medium248.in: cost 539128699.930712\n"
     ]
    },
    {
     "name": "stderr",
     "output_type": "stream",
     "text": [
      " 55%|█████▍    | 428/780 [01:55<00:33, 10.43it/s]"
     ]
    },
    {
     "name": "stdout",
     "output_type": "stream",
     "text": [
      "inputs\\medium249.in: cost 7200489940709.588\n",
      "inputs\\medium25.in: cost 44270914.32786617\n",
      "inputs\\medium250.in: cost 1606646575527.0208\n"
     ]
    },
    {
     "name": "stderr",
     "output_type": "stream",
     "text": [
      " 55%|█████▌    | 431/780 [01:56<00:39,  8.76it/s]"
     ]
    },
    {
     "name": "stdout",
     "output_type": "stream",
     "text": [
      "inputs\\medium251.in: cost 120286093.38273332\n",
      "inputs\\medium252.in: cost 7200490023211.588\n"
     ]
    },
    {
     "name": "stderr",
     "output_type": "stream",
     "text": [
      " 56%|█████▌    | 434/780 [01:57<00:55,  6.29it/s]"
     ]
    },
    {
     "name": "stdout",
     "output_type": "stream",
     "text": [
      "inputs\\medium253.in: cost 755113.5536923187\n",
      "inputs\\medium254.in: cost 214570.40967307266\n",
      "inputs\\medium255.in: cost 356345.85625402443\n"
     ]
    },
    {
     "name": "stderr",
     "output_type": "stream",
     "text": [
      " 56%|█████▌    | 436/780 [01:57<00:47,  7.28it/s]"
     ]
    },
    {
     "name": "stdout",
     "output_type": "stream",
     "text": [
      "inputs\\medium256.in: cost 79990228749.7094\n",
      "inputs\\medium257.in: cost 1603179.45975111\n",
      "inputs\\medium258.in: cost 902310.4842225594\n"
     ]
    },
    {
     "name": "stderr",
     "output_type": "stream",
     "text": [
      " 56%|█████▋    | 439/780 [01:57<00:46,  7.29it/s]"
     ]
    },
    {
     "name": "stdout",
     "output_type": "stream",
     "text": [
      "inputs\\medium259.in: cost 481839.24144560634\n",
      "inputs\\medium26.in: cost 32270357115041.688\n"
     ]
    },
    {
     "name": "stderr",
     "output_type": "stream",
     "text": [
      " 57%|█████▋    | 441/780 [01:57<00:42,  7.92it/s]"
     ]
    },
    {
     "name": "stdout",
     "output_type": "stream",
     "text": [
      "inputs\\medium260.in: cost 44303740.47978042\n",
      "inputs\\medium27.in: cost 1465205888.5561862\n"
     ]
    },
    {
     "name": "stderr",
     "output_type": "stream",
     "text": [
      " 57%|█████▋    | 443/780 [01:58<00:44,  7.53it/s]"
     ]
    },
    {
     "name": "stdout",
     "output_type": "stream",
     "text": [
      "inputs\\medium28.in: cost 29426857658.460358\n",
      "inputs\\medium29.in: cost 888824683.1035398\n"
     ]
    },
    {
     "name": "stderr",
     "output_type": "stream",
     "text": [
      " 57%|█████▋    | 445/780 [01:58<00:43,  7.68it/s]"
     ]
    },
    {
     "name": "stdout",
     "output_type": "stream",
     "text": [
      "inputs\\medium3.in: cost 684470.6047309474\n",
      "inputs\\medium30.in: cost 358491391288.9445\n"
     ]
    },
    {
     "name": "stderr",
     "output_type": "stream",
     "text": [
      " 57%|█████▋    | 447/780 [01:58<00:37,  8.79it/s]"
     ]
    },
    {
     "name": "stdout",
     "output_type": "stream",
     "text": [
      "inputs\\medium31.in: cost 1465104236.3654618\n",
      "inputs\\medium32.in: cost 19572961027887.72\n"
     ]
    },
    {
     "name": "stderr",
     "output_type": "stream",
     "text": [
      " 58%|█████▊    | 449/780 [01:58<00:40,  8.27it/s]"
     ]
    },
    {
     "name": "stdout",
     "output_type": "stream",
     "text": [
      "inputs\\medium33.in: cost 708515.414599937\n",
      "inputs\\medium34.in: cost 29426902220.460358\n",
      "inputs\\medium35.in: cost 151283.55369231876\n"
     ]
    },
    {
     "name": "stderr",
     "output_type": "stream",
     "text": [
      " 58%|█████▊    | 452/780 [01:59<00:37,  8.73it/s]"
     ]
    },
    {
     "name": "stdout",
     "output_type": "stream",
     "text": [
      "inputs\\medium36.in: cost 1672774.549840703\n",
      "inputs\\medium37.in: cost 6118192.346610527\n"
     ]
    },
    {
     "name": "stderr",
     "output_type": "stream",
     "text": [
      " 58%|█████▊    | 455/780 [01:59<00:35,  9.11it/s]"
     ]
    },
    {
     "name": "stdout",
     "output_type": "stream",
     "text": [
      "inputs\\medium38.in: cost 6566021622.824516\n",
      "inputs\\medium39.in: cost 2229764.579480672\n",
      "inputs\\medium4.in: cost 73069451.4485642\n"
     ]
    },
    {
     "name": "stderr",
     "output_type": "stream",
     "text": [
      " 58%|█████▊    | 456/780 [01:59<00:37,  8.56it/s]"
     ]
    },
    {
     "name": "stdout",
     "output_type": "stream",
     "text": [
      "inputs\\medium40.in: cost 1465263144.3654618\n",
      "inputs\\medium41.in: cost 73470.80470941328\n"
     ]
    },
    {
     "name": "stderr",
     "output_type": "stream",
     "text": [
      " 59%|█████▉    | 459/780 [02:00<00:38,  8.29it/s]"
     ]
    },
    {
     "name": "stdout",
     "output_type": "stream",
     "text": [
      "inputs\\medium42.in: cost 6566231915.667778\n",
      "inputs\\medium43.in: cost 388215.5536923188\n"
     ]
    },
    {
     "name": "stderr",
     "output_type": "stream",
     "text": [
      " 59%|█████▉    | 461/780 [02:00<00:38,  8.33it/s]"
     ]
    },
    {
     "name": "stdout",
     "output_type": "stream",
     "text": [
      "inputs\\medium44.in: cost 591052246153.9186\n",
      "inputs\\medium45.in: cost 1606646535065.169\n",
      "inputs\\medium46.in: cost 29426769607.310333\n"
     ]
    },
    {
     "name": "stderr",
     "output_type": "stream",
     "text": [
      " 59%|█████▉    | 463/780 [02:00<00:31, 10.04it/s]"
     ]
    },
    {
     "name": "stdout",
     "output_type": "stream",
     "text": [
      "inputs\\medium47.in: cost 539055850.3766893\n",
      "inputs\\medium48.in: cost 32270357113950.22\n"
     ]
    },
    {
     "name": "stderr",
     "output_type": "stream",
     "text": [
      " 60%|█████▉    | 466/780 [02:00<00:35,  8.74it/s]"
     ]
    },
    {
     "name": "stdout",
     "output_type": "stream",
     "text": [
      "inputs\\medium49.in: cost 16445548.536110554\n",
      "inputs\\medium5.in: cost 358491296763.1872\n",
      "inputs\\medium50.in: cost 72966638.64019486\n"
     ]
    },
    {
     "name": "stderr",
     "output_type": "stream",
     "text": [
      " 60%|██████    | 470/780 [02:01<00:31,  9.93it/s]"
     ]
    },
    {
     "name": "stdout",
     "output_type": "stream",
     "text": [
      "inputs\\medium51.in: cost 155744.0381249469\n",
      "inputs\\medium52.in: cost 2648912286581.515\n",
      "inputs\\medium53.in: cost 538985850.3766893\n"
     ]
    },
    {
     "name": "stderr",
     "output_type": "stream",
     "text": [
      " 61%|██████    | 472/780 [02:01<00:31,  9.89it/s]"
     ]
    },
    {
     "name": "stdout",
     "output_type": "stream",
     "text": [
      "inputs\\medium54.in: cost 6100349.646990211\n",
      "inputs\\medium55.in: cost 2415583329.2664127\n",
      "inputs\\medium56.in: cost 120332911.2344512\n"
     ]
    },
    {
     "name": "stderr",
     "output_type": "stream",
     "text": [
      " 61%|██████    | 476/780 [02:01<00:29, 10.39it/s]"
     ]
    },
    {
     "name": "stdout",
     "output_type": "stream",
     "text": [
      "inputs\\medium57.in: cost 141247.41459993707\n",
      "inputs\\medium58.in: cost 79990233749.86075\n",
      "inputs\\medium59.in: cost 131881695623.1871\n",
      "inputs\\medium6.in: cost 538983816.0802135\n"
     ]
    },
    {
     "name": "stderr",
     "output_type": "stream",
     "text": [
      " 61%|██████▏   | 478/780 [02:01<00:33,  8.89it/s]"
     ]
    },
    {
     "name": "stdout",
     "output_type": "stream",
     "text": [
      "inputs\\medium60.in: cost 10825682776.5769\n",
      "inputs\\medium61.in: cost 9957671.357418273\n"
     ]
    },
    {
     "name": "stderr",
     "output_type": "stream",
     "text": [
      " 62%|██████▏   | 482/780 [02:02<00:32,  9.30it/s]"
     ]
    },
    {
     "name": "stdout",
     "output_type": "stream",
     "text": [
      "inputs\\medium62.in: cost 888757536.8528955\n",
      "inputs\\medium63.in: cost 131881595901.01895\n",
      "inputs\\medium64.in: cost 346688.24144560634\n"
     ]
    },
    {
     "name": "stderr",
     "output_type": "stream",
     "text": [
      " 62%|██████▏   | 484/780 [02:02<00:30,  9.56it/s]"
     ]
    },
    {
     "name": "stdout",
     "output_type": "stream",
     "text": [
      "inputs\\medium65.in: cost 26858062.652087446\n",
      "inputs\\medium66.in: cost 32270357179118.914\n"
     ]
    },
    {
     "name": "stderr",
     "output_type": "stream",
     "text": [
      " 62%|██████▏   | 486/780 [02:02<00:32,  8.98it/s]"
     ]
    },
    {
     "name": "stdout",
     "output_type": "stream",
     "text": [
      "inputs\\medium67.in: cost 1209915.5536923187\n",
      "inputs\\medium68.in: cost 11871600944284.994\n",
      "inputs\\medium69.in: cost 358491296317.25745\n"
     ]
    },
    {
     "name": "stderr",
     "output_type": "stream",
     "text": [
      " 63%|██████▎   | 488/780 [02:03<00:31,  9.14it/s]"
     ]
    },
    {
     "name": "stdout",
     "output_type": "stream",
     "text": [
      "inputs\\medium7.in: cost 11871601016314.941\n",
      "inputs\\medium70.in: cost 3982495443.086964\n",
      "inputs\\medium71.in: cost 32270357154310.76\n"
     ]
    },
    {
     "name": "stderr",
     "output_type": "stream",
     "text": [
      " 63%|██████▎   | 492/780 [02:03<00:30,  9.34it/s]"
     ]
    },
    {
     "name": "stdout",
     "output_type": "stream",
     "text": [
      "inputs\\medium72.in: cost 3660007.888428957\n",
      "inputs\\medium73.in: cost 73087998.4485642\n"
     ]
    },
    {
     "name": "stderr",
     "output_type": "stream",
     "text": [
      " 63%|██████▎   | 494/780 [02:03<00:33,  8.64it/s]"
     ]
    },
    {
     "name": "stdout",
     "output_type": "stream",
     "text": [
      "inputs\\medium74.in: cost 6163223.646990211\n",
      "inputs\\medium75.in: cost 358491490616.79047\n"
     ]
    },
    {
     "name": "stderr",
     "output_type": "stream",
     "text": [
      " 63%|██████▎   | 495/780 [02:03<00:31,  8.93it/s]"
     ]
    },
    {
     "name": "stdout",
     "output_type": "stream",
     "text": [
      "inputs\\medium76.in: cost 4367317946128.3496\n",
      "inputs\\medium77.in: cost 522836.1192024216\n"
     ]
    },
    {
     "name": "stderr",
     "output_type": "stream",
     "text": [
      " 64%|██████▍   | 499/780 [02:04<00:32,  8.55it/s]"
     ]
    },
    {
     "name": "stdout",
     "output_type": "stream",
     "text": [
      "inputs\\medium78.in: cost 48516529013.81816\n",
      "inputs\\medium79.in: cost 29426820607.310333\n",
      "inputs\\medium8.in: cost 29426863145.310333\n"
     ]
    },
    {
     "name": "stderr",
     "output_type": "stream",
     "text": [
      " 64%|██████▍   | 501/780 [02:04<00:34,  8.02it/s]"
     ]
    },
    {
     "name": "stdout",
     "output_type": "stream",
     "text": [
      "inputs\\medium80.in: cost 395593.31591025763\n",
      "inputs\\medium81.in: cost 1465085544.3654618\n"
     ]
    },
    {
     "name": "stderr",
     "output_type": "stream",
     "text": [
      " 65%|██████▍   | 504/780 [02:04<00:30,  9.19it/s]"
     ]
    },
    {
     "name": "stdout",
     "output_type": "stream",
     "text": [
      "inputs\\medium82.in: cost 17848341481.184277\n",
      "inputs\\medium83.in: cost 72967638.64019486\n",
      "inputs\\medium84.in: cost 6026473.346610527\n"
     ]
    },
    {
     "name": "stderr",
     "output_type": "stream",
     "text": [
      " 65%|██████▍   | 506/780 [02:05<00:31,  8.60it/s]"
     ]
    },
    {
     "name": "stdout",
     "output_type": "stream",
     "text": [
      "inputs\\medium85.in: cost 87719925140179.16\n",
      "inputs\\medium86.in: cost 237495.41459993707\n"
     ]
    },
    {
     "name": "stderr",
     "output_type": "stream",
     "text": [
      " 65%|██████▌   | 508/780 [02:05<00:29,  9.07it/s]"
     ]
    },
    {
     "name": "stdout",
     "output_type": "stream",
     "text": [
      "inputs\\medium87.in: cost 4367317927394.3496\n",
      "inputs\\medium88.in: cost 17848343594.573418\n"
     ]
    },
    {
     "name": "stderr",
     "output_type": "stream",
     "text": [
      " 65%|██████▌   | 510/780 [02:05<00:29,  9.24it/s]"
     ]
    },
    {
     "name": "stdout",
     "output_type": "stream",
     "text": [
      "inputs\\medium89.in: cost 44274832.47978042\n",
      "inputs\\medium9.in: cost 6195448.346610527\n",
      "inputs\\medium90.in: cost 163003.10407476325\n"
     ]
    },
    {
     "name": "stderr",
     "output_type": "stream",
     "text": [
      " 66%|██████▌   | 512/780 [02:05<00:25, 10.43it/s]"
     ]
    },
    {
     "name": "stdout",
     "output_type": "stream",
     "text": [
      "inputs\\medium91.in: cost 326911402.24721104\n"
     ]
    },
    {
     "name": "stderr",
     "output_type": "stream",
     "text": [
      " 66%|██████▌   | 514/780 [02:06<00:46,  5.75it/s]"
     ]
    },
    {
     "name": "stdout",
     "output_type": "stream",
     "text": [
      "inputs\\medium92.in: cost 888756873.4076264\n",
      "inputs\\medium93.in: cost 383743.415780998\n",
      "inputs\\medium94.in: cost 264470.6047309474\n"
     ]
    },
    {
     "name": "stderr",
     "output_type": "stream",
     "text": [
      " 66%|██████▋   | 517/780 [02:06<00:38,  6.91it/s]"
     ]
    },
    {
     "name": "stdout",
     "output_type": "stream",
     "text": [
      "inputs\\medium95.in: cost 327097505.24721104\n",
      "inputs\\medium96.in: cost 539105975.3766893\n",
      "inputs\\medium97.in: cost 974480366627.9879\n"
     ]
    },
    {
     "name": "stderr",
     "output_type": "stream",
     "text": [
      " 67%|██████▋   | 521/780 [02:07<00:29,  8.72it/s]"
     ]
    },
    {
     "name": "stdout",
     "output_type": "stream",
     "text": [
      "inputs\\medium98.in: cost 53204824075683.09\n",
      "inputs\\medium99.in: cost 217435968361.00876\n",
      "inputs\\small1.in: cost 287904.1111595124\n"
     ]
    },
    {
     "name": "stderr",
     "output_type": "stream",
     "text": [
      " 67%|██████▋   | 525/780 [02:07<00:23, 11.03it/s]"
     ]
    },
    {
     "name": "stdout",
     "output_type": "stream",
     "text": [
      "inputs\\small10.in: cost 270053.8702032812\n",
      "inputs\\small100.in: cost 581462.5061018658\n",
      "inputs\\small101.in: cost 1446348.5147984258\n",
      "inputs\\small102.in: cost 926271.0385297296\n"
     ]
    },
    {
     "name": "stderr",
     "output_type": "stream",
     "text": [
      " 68%|██████▊   | 528/780 [02:07<00:18, 13.66it/s]"
     ]
    },
    {
     "name": "stdout",
     "output_type": "stream",
     "text": [
      "inputs\\small103.in: cost 2220388.579480672\n",
      "inputs\\small104.in: cost 3738807.8133055954\n",
      "inputs\\small105.in: cost 2392647.579480672\n",
      "inputs\\small106.in: cost 58440.31591025766\n",
      "inputs\\small107.in: cost 162347.41592657613\n"
     ]
    },
    {
     "name": "stderr",
     "output_type": "stream",
     "text": [
      " 68%|██████▊   | 534/780 [02:07<00:14, 16.82it/s]"
     ]
    },
    {
     "name": "stdout",
     "output_type": "stream",
     "text": [
      "inputs\\small108.in: cost 528729.3082045388\n",
      "inputs\\small109.in: cost 628261.1432152335\n",
      "inputs\\small11.in: cost 209812.7284434279\n",
      "inputs\\small110.in: cost 3824559.2242079442\n"
     ]
    },
    {
     "name": "stderr",
     "output_type": "stream",
     "text": [
      " 69%|██████▉   | 539/780 [02:08<00:12, 18.94it/s]"
     ]
    },
    {
     "name": "stdout",
     "output_type": "stream",
     "text": [
      "inputs\\small111.in: cost 278414.8164039266\n",
      "inputs\\small112.in: cost 198612.31591025766\n",
      "inputs\\small113.in: cost 97374.3428342066\n",
      "inputs\\small114.in: cost 736007.9971278271\n",
      "inputs\\small115.in: cost 525090.3082045388\n"
     ]
    },
    {
     "name": "stderr",
     "output_type": "stream",
     "text": [
      " 69%|██████▉   | 542/780 [02:08<00:11, 20.92it/s]"
     ]
    },
    {
     "name": "stdout",
     "output_type": "stream",
     "text": [
      "inputs\\small116.in: cost 109520.3428342066\n",
      "inputs\\small117.in: cost 838288.0385297296\n",
      "inputs\\small118.in: cost 342293.795933395\n",
      "inputs\\small119.in: cost 408346.01581064693\n",
      "inputs\\small12.in: cost 69561.31591025766\n"
     ]
    },
    {
     "name": "stderr",
     "output_type": "stream",
     "text": [
      " 70%|███████   | 548/780 [02:08<00:10, 21.19it/s]"
     ]
    },
    {
     "name": "stdout",
     "output_type": "stream",
     "text": [
      "inputs\\small120.in: cost 582463.8702032813\n",
      "inputs\\small121.in: cost 167665.8164039266\n",
      "inputs\\small122.in: cost 83113.85383914743\n",
      "inputs\\small123.in: cost 407012.1432152336\n",
      "inputs\\small124.in: cost 472072.16036641074\n"
     ]
    },
    {
     "name": "stderr",
     "output_type": "stream",
     "text": [
      " 71%|███████   | 554/780 [02:08<00:10, 20.75it/s]"
     ]
    },
    {
     "name": "stdout",
     "output_type": "stream",
     "text": [
      "inputs\\small125.in: cost 153242.8164039266\n",
      "inputs\\small126.in: cost 91407.79776051317\n",
      "inputs\\small127.in: cost 169693.64785724148\n",
      "inputs\\small128.in: cost 240895.01581064696\n",
      "inputs\\small129.in: cost 509652.5825633703\n"
     ]
    },
    {
     "name": "stderr",
     "output_type": "stream",
     "text": [
      " 71%|███████▏  | 557/780 [02:08<00:10, 20.36it/s]"
     ]
    },
    {
     "name": "stdout",
     "output_type": "stream",
     "text": [
      "inputs\\small13.in: cost 366805.8164039266\n",
      "inputs\\small130.in: cost 201028.85383914743\n",
      "inputs\\small131.in: cost 214210.89804638777\n",
      "inputs\\small132.in: cost 250817.11115951242\n",
      "inputs\\small133.in: cost 322707.5825633703\n"
     ]
    },
    {
     "name": "stderr",
     "output_type": "stream",
     "text": [
      " 72%|███████▏  | 562/780 [02:09<00:17, 12.49it/s]"
     ]
    },
    {
     "name": "stdout",
     "output_type": "stream",
     "text": [
      "inputs\\small134.in: cost 234470.31591025766\n",
      "inputs\\small135.in: cost 269787.8164039266\n",
      "inputs\\small136.in: cost 526097.3505456051\n",
      "inputs\\small137.in: cost 914091.0385297296\n"
     ]
    },
    {
     "name": "stderr",
     "output_type": "stream",
     "text": [
      " 73%|███████▎  | 568/780 [02:09<00:12, 16.88it/s]"
     ]
    },
    {
     "name": "stdout",
     "output_type": "stream",
     "text": [
      "inputs\\small138.in: cost 882162.0385297296\n",
      "inputs\\small139.in: cost 565191.9923435062\n",
      "inputs\\small14.in: cost 58823.31591025766\n",
      "inputs\\small140.in: cost 469840.8538391474\n",
      "inputs\\small141.in: cost 58723.87020328127\n",
      "inputs\\small142.in: cost 98930.1111595124\n"
     ]
    },
    {
     "name": "stderr",
     "output_type": "stream",
     "text": [
      " 74%|███████▎  | 574/780 [02:09<00:10, 20.04it/s]"
     ]
    },
    {
     "name": "stdout",
     "output_type": "stream",
     "text": [
      "inputs\\small143.in: cost 837057.3049321878\n",
      "inputs\\small144.in: cost 377687.6779456785\n",
      "inputs\\small145.in: cost 57302.64785724149\n",
      "inputs\\small146.in: cost 183723.8164039266\n",
      "inputs\\small147.in: cost 178122.41592657613\n",
      "inputs\\small148.in: cost 248810.89804638777\n"
     ]
    },
    {
     "name": "stderr",
     "output_type": "stream",
     "text": [
      " 74%|███████▍  | 578/780 [02:10<00:08, 22.57it/s]"
     ]
    },
    {
     "name": "stdout",
     "output_type": "stream",
     "text": [
      "inputs\\small149.in: cost 89347.41592657614\n",
      "inputs\\small15.in: cost 104813.77548060444\n",
      "inputs\\small150.in: cost 195384.01581064696\n",
      "inputs\\small151.in: cost 286611.1424357402\n",
      "inputs\\small152.in: cost 210795.7284434279\n"
     ]
    },
    {
     "name": "stderr",
     "output_type": "stream",
     "text": [
      " 75%|███████▍  | 584/780 [02:10<00:09, 21.29it/s]"
     ]
    },
    {
     "name": "stdout",
     "output_type": "stream",
     "text": [
      "inputs\\small153.in: cost 1550976.5157861614\n",
      "inputs\\small154.in: cost 161012.14321523352\n",
      "inputs\\small155.in: cost 160841.64785724148\n",
      "inputs\\small156.in: cost 438333.6478572415\n"
     ]
    },
    {
     "name": "stderr",
     "output_type": "stream",
     "text": [
      " 76%|███████▌  | 590/780 [02:11<00:13, 14.09it/s]"
     ]
    },
    {
     "name": "stdout",
     "output_type": "stream",
     "text": [
      "inputs\\small157.in: cost 213914.14243574018\n",
      "inputs\\small158.in: cost 3677566.439458316\n",
      "inputs\\small159.in: cost 522750.30820453883\n",
      "inputs\\small16.in: cost 404520.34283420665\n",
      "inputs\\small160.in: cost 849316.0385297296\n",
      "inputs\\small161.in: cost 179289.50610186582\n"
     ]
    },
    {
     "name": "stderr",
     "output_type": "stream",
     "text": [
      " 76%|███████▌  | 593/780 [02:11<00:11, 15.70it/s]"
     ]
    },
    {
     "name": "stdout",
     "output_type": "stream",
     "text": [
      "inputs\\small162.in: cost 66315.20038610406\n",
      "inputs\\small163.in: cost 436772.16036641074\n",
      "inputs\\small164.in: cost 201401.01581064696\n",
      "inputs\\small165.in: cost 191996.14243574018\n"
     ]
    },
    {
     "name": "stderr",
     "output_type": "stream",
     "text": [
      " 77%|███████▋  | 599/780 [02:11<00:10, 17.88it/s]"
     ]
    },
    {
     "name": "stdout",
     "output_type": "stream",
     "text": [
      "inputs\\small166.in: cost 206561.64785724148\n",
      "inputs\\small167.in: cost 361660.16036641074\n",
      "inputs\\small168.in: cost 388606.1432152336\n",
      "inputs\\small169.in: cost 425371.16036641074\n",
      "inputs\\small17.in: cost 161175.34283420662\n"
     ]
    },
    {
     "name": "stderr",
     "output_type": "stream",
     "text": [
      " 77%|███████▋  | 602/780 [02:11<00:09, 19.06it/s]"
     ]
    },
    {
     "name": "stdout",
     "output_type": "stream",
     "text": [
      "inputs\\small170.in: cost 271576.89804638777\n",
      "inputs\\small171.in: cost 978314.3049321878\n",
      "inputs\\small172.in: cost 110398.14243574018\n",
      "inputs\\small173.in: cost 1356613.9893509615\n",
      "inputs\\small174.in: cost 237720.8164039266\n",
      "inputs\\small175.in: cost 198405.11115951242\n"
     ]
    },
    {
     "name": "stderr",
     "output_type": "stream",
     "text": [
      " 78%|███████▊  | 609/780 [02:11<00:07, 22.50it/s]"
     ]
    },
    {
     "name": "stdout",
     "output_type": "stream",
     "text": [
      "inputs\\small176.in: cost 77351.01581064695\n",
      "inputs\\small177.in: cost 225581.27728766747\n",
      "inputs\\small178.in: cost 74247.58953437993\n",
      "inputs\\small179.in: cost 578863.8702032813\n",
      "inputs\\small18.in: cost 866309.4849625814\n"
     ]
    },
    {
     "name": "stderr",
     "output_type": "stream",
     "text": [
      " 79%|███████▉  | 615/780 [02:12<00:07, 22.33it/s]"
     ]
    },
    {
     "name": "stdout",
     "output_type": "stream",
     "text": [
      "inputs\\small180.in: cost 836908.9974386953\n",
      "inputs\\small181.in: cost 326807.8309685211\n",
      "inputs\\small182.in: cost 664213.7960154156\n",
      "inputs\\small183.in: cost 62603.64785724149\n",
      "inputs\\small184.in: cost 195898.31591025766\n"
     ]
    },
    {
     "name": "stderr",
     "output_type": "stream",
     "text": [
      " 79%|███████▉  | 618/780 [02:12<00:07, 22.99it/s]"
     ]
    },
    {
     "name": "stdout",
     "output_type": "stream",
     "text": [
      "inputs\\small185.in: cost 81696.31591025766\n",
      "inputs\\small186.in: cost 329254.16036641074\n",
      "inputs\\small187.in: cost 350847.8538391474\n",
      "inputs\\small188.in: cost 410276.8164039266\n",
      "inputs\\small189.in: cost 83000.6478572415\n"
     ]
    },
    {
     "name": "stderr",
     "output_type": "stream",
     "text": [
      " 80%|████████  | 624/780 [02:12<00:07, 21.02it/s]"
     ]
    },
    {
     "name": "stdout",
     "output_type": "stream",
     "text": [
      "inputs\\small19.in: cost 304498.34283420665\n",
      "inputs\\small190.in: cost 689876.9180164204\n",
      "inputs\\small191.in: cost 76721.14243574018\n",
      "inputs\\small192.in: cost 90905.85383914743\n",
      "inputs\\small193.in: cost 59591.64785724149\n"
     ]
    },
    {
     "name": "stderr",
     "output_type": "stream",
     "text": [
      " 80%|████████  | 627/780 [02:12<00:06, 21.91it/s]"
     ]
    },
    {
     "name": "stdout",
     "output_type": "stream",
     "text": [
      "inputs\\small194.in: cost 124723.10915496192\n",
      "inputs\\small195.in: cost 367384.72844342794\n",
      "inputs\\small196.in: cost 300710.8702032812\n",
      "inputs\\small197.in: cost 922001.9974386953\n"
     ]
    },
    {
     "name": "stderr",
     "output_type": "stream",
     "text": [
      " 81%|████████  | 633/780 [02:13<00:07, 20.41it/s]"
     ]
    },
    {
     "name": "stdout",
     "output_type": "stream",
     "text": [
      "inputs\\small198.in: cost 582463.8702032813\n",
      "inputs\\small199.in: cost 922959.0385297296\n",
      "inputs\\small2.in: cost 321160.8164039266\n",
      "inputs\\small20.in: cost 275079.58953437995\n"
     ]
    },
    {
     "name": "stderr",
     "output_type": "stream",
     "text": [
      " 82%|████████▏ | 636/780 [02:13<00:07, 19.38it/s]"
     ]
    },
    {
     "name": "stdout",
     "output_type": "stream",
     "text": [
      "inputs\\small200.in: cost 235545.31591025766\n",
      "inputs\\small201.in: cost 2288162.579480672\n",
      "inputs\\small202.in: cost 987396.0385297296\n",
      "inputs\\small203.in: cost 3824559.2242079442\n"
     ]
    },
    {
     "name": "stderr",
     "output_type": "stream",
     "text": [
      " 82%|████████▏ | 641/780 [02:13<00:06, 20.23it/s]"
     ]
    },
    {
     "name": "stdout",
     "output_type": "stream",
     "text": [
      "inputs\\small204.in: cost 428954.7977605132\n",
      "inputs\\small205.in: cost 227789.31591025766\n",
      "inputs\\small206.in: cost 77633.14243574018\n",
      "inputs\\small207.in: cost 55731.31591025766\n",
      "inputs\\small208.in: cost 537345.9180164204\n"
     ]
    },
    {
     "name": "stderr",
     "output_type": "stream",
     "text": [
      " 83%|████████▎ | 644/780 [02:13<00:06, 22.24it/s]"
     ]
    },
    {
     "name": "stdout",
     "output_type": "stream",
     "text": [
      "inputs\\small209.in: cost 3683352.8133055954\n",
      "inputs\\small21.in: cost 99578.3428342066\n",
      "inputs\\small210.in: cost 87188.14321523352\n",
      "inputs\\small211.in: cost 57705.31591025766\n"
     ]
    },
    {
     "name": "stderr",
     "output_type": "stream",
     "text": [
      " 83%|████████▎ | 649/780 [02:14<00:09, 14.24it/s]"
     ]
    },
    {
     "name": "stdout",
     "output_type": "stream",
     "text": [
      "inputs\\small212.in: cost 391697.6478572415\n",
      "inputs\\small213.in: cost 248011.11115951242\n",
      "inputs\\small214.in: cost 100165.01581064695\n",
      "inputs\\small215.in: cost 2242514.579480672\n",
      "inputs\\small216.in: cost 827414.3049321878\n"
     ]
    },
    {
     "name": "stderr",
     "output_type": "stream",
     "text": [
      " 84%|████████▍ | 655/780 [02:14<00:07, 17.66it/s]"
     ]
    },
    {
     "name": "stdout",
     "output_type": "stream",
     "text": [
      "inputs\\small217.in: cost 302584.8309685211\n",
      "inputs\\small218.in: cost 861989.0385297296\n",
      "inputs\\small219.in: cost 298231.8164039266\n",
      "inputs\\small22.in: cost 837091.9974386953\n",
      "inputs\\small220.in: cost 2254730.579480672\n"
     ]
    },
    {
     "name": "stderr",
     "output_type": "stream",
     "text": [
      " 85%|████████▍ | 661/780 [02:14<00:06, 19.62it/s]"
     ]
    },
    {
     "name": "stdout",
     "output_type": "stream",
     "text": [
      "inputs\\small221.in: cost 268007.8164039266\n",
      "inputs\\small222.in: cost 744495.9971278271\n",
      "inputs\\small223.in: cost 679104.9180164204\n",
      "inputs\\small224.in: cost 2252171.579480672\n",
      "inputs\\small225.in: cost 838196.4849625814\n"
     ]
    },
    {
     "name": "stderr",
     "output_type": "stream",
     "text": [
      " 85%|████████▌ | 664/780 [02:14<00:05, 21.23it/s]"
     ]
    },
    {
     "name": "stdout",
     "output_type": "stream",
     "text": [
      "inputs\\small226.in: cost 3648561.3519402295\n",
      "inputs\\small227.in: cost 246186.36267347372\n",
      "inputs\\small228.in: cost 83815.58953437993\n",
      "inputs\\small229.in: cost 328100.5825633703\n",
      "inputs\\small23.in: cost 537425.9180164204\n"
     ]
    },
    {
     "name": "stderr",
     "output_type": "stream",
     "text": [
      " 86%|████████▌ | 671/780 [02:15<00:04, 24.24it/s]"
     ]
    },
    {
     "name": "stdout",
     "output_type": "stream",
     "text": [
      "inputs\\small230.in: cost 326855.5825633703\n",
      "inputs\\small231.in: cost 125209.21029310022\n",
      "inputs\\small232.in: cost 66453.79776051317\n",
      "inputs\\small233.in: cost 101308.3428342066\n",
      "inputs\\small234.in: cost 430335.89804638777\n"
     ]
    },
    {
     "name": "stderr",
     "output_type": "stream",
     "text": [
      " 86%|████████▋ | 674/780 [02:15<00:04, 22.30it/s]"
     ]
    },
    {
     "name": "stdout",
     "output_type": "stream",
     "text": [
      "inputs\\small235.in: cost 194503.8702032813\n",
      "inputs\\small236.in: cost 90817.01581064695\n",
      "inputs\\small237.in: cost 3724053.3519402295\n",
      "inputs\\small238.in: cost 2224989.579480672\n",
      "inputs\\small239.in: cost 69417.01581064695\n"
     ]
    },
    {
     "name": "stderr",
     "output_type": "stream",
     "text": [
      " 87%|████████▋ | 677/780 [02:15<00:04, 22.66it/s]"
     ]
    },
    {
     "name": "stdout",
     "output_type": "stream",
     "text": [
      "inputs\\small24.in: cost 250309.01581064696\n",
      "inputs\\small240.in: cost 342216.72844342794\n"
     ]
    },
    {
     "name": "stderr",
     "output_type": "stream",
     "text": [
      " 88%|████████▊ | 683/780 [02:15<00:06, 14.81it/s]"
     ]
    },
    {
     "name": "stdout",
     "output_type": "stream",
     "text": [
      "inputs\\small241.in: cost 449560.6478572415\n",
      "inputs\\small242.in: cost 324072.89804638777\n",
      "inputs\\small243.in: cost 356356.01581064693\n",
      "inputs\\small244.in: cost 213060.27728766747\n",
      "inputs\\small245.in: cost 68296.31591025766\n"
     ]
    },
    {
     "name": "stderr",
     "output_type": "stream",
     "text": [
      " 88%|████████▊ | 686/780 [02:16<00:05, 16.25it/s]"
     ]
    },
    {
     "name": "stdout",
     "output_type": "stream",
     "text": [
      "inputs\\small246.in: cost 209212.7284434279\n",
      "inputs\\small247.in: cost 321349.16036641074\n",
      "inputs\\small248.in: cost 281340.8164039266\n",
      "inputs\\small249.in: cost 2222647.579480672\n",
      "inputs\\small25.in: cost 3669946.2242079442\n"
     ]
    },
    {
     "name": "stderr",
     "output_type": "stream",
     "text": [
      " 89%|████████▊ | 692/780 [02:16<00:04, 18.38it/s]"
     ]
    },
    {
     "name": "stdout",
     "output_type": "stream",
     "text": [
      "inputs\\small250.in: cost 427242.1432152336\n",
      "inputs\\small251.in: cost 77767.14243574018\n",
      "inputs\\small252.in: cost 3727164.4517432586\n",
      "inputs\\small253.in: cost 288557.8538391474\n",
      "inputs\\small254.in: cost 2226450.579480672\n"
     ]
    },
    {
     "name": "stderr",
     "output_type": "stream",
     "text": [
      " 89%|████████▉ | 698/780 [02:16<00:03, 21.21it/s]"
     ]
    },
    {
     "name": "stdout",
     "output_type": "stream",
     "text": [
      "inputs\\small255.in: cost 143527.01581064696\n",
      "inputs\\small256.in: cost 438103.9648740854\n",
      "inputs\\small257.in: cost 340457.12612036197\n",
      "inputs\\small258.in: cost 922316.0385297296\n",
      "inputs\\small259.in: cost 99017.31591025766\n"
     ]
    },
    {
     "name": "stderr",
     "output_type": "stream",
     "text": [
      " 90%|████████▉ | 701/780 [02:16<00:03, 20.08it/s]"
     ]
    },
    {
     "name": "stdout",
     "output_type": "stream",
     "text": [
      "inputs\\small26.in: cost 241570.31591025766\n",
      "inputs\\small260.in: cost 389058.6478572415\n",
      "inputs\\small27.in: cost 309893.10915496195\n",
      "inputs\\small28.in: cost 3729201.439458316\n"
     ]
    },
    {
     "name": "stderr",
     "output_type": "stream",
     "text": [
      " 91%|█████████ | 707/780 [02:17<00:03, 20.59it/s]"
     ]
    },
    {
     "name": "stdout",
     "output_type": "stream",
     "text": [
      "inputs\\small29.in: cost 247845.14243574018\n",
      "inputs\\small3.in: cost 1045322.6948996668\n",
      "inputs\\small30.in: cost 924949.2077336685\n",
      "inputs\\small31.in: cost 3665119.3519402295\n",
      "inputs\\small32.in: cost 141463.8702032813\n"
     ]
    },
    {
     "name": "stderr",
     "output_type": "stream",
     "text": [
      " 91%|█████████ | 710/780 [02:17<00:03, 20.62it/s]"
     ]
    },
    {
     "name": "stdout",
     "output_type": "stream",
     "text": [
      "inputs\\small33.in: cost 409347.4159265761\n",
      "inputs\\small34.in: cost 468401.16036641074\n",
      "inputs\\small35.in: cost 110445.41592657614\n",
      "inputs\\small36.in: cost 2382647.579480672\n",
      "inputs\\small37.in: cost 155407.64785724148\n"
     ]
    },
    {
     "name": "stderr",
     "output_type": "stream",
     "text": [
      " 92%|█████████▏| 716/780 [02:17<00:03, 20.53it/s]"
     ]
    },
    {
     "name": "stdout",
     "output_type": "stream",
     "text": [
      "inputs\\small38.in: cost 378389.1432152336\n",
      "inputs\\small39.in: cost 84808.14321523352\n",
      "inputs\\small4.in: cost 219666.14243574018\n",
      "inputs\\small40.in: cost 311313.8538391474\n",
      "inputs\\small41.in: cost 2302647.579480672\n"
     ]
    },
    {
     "name": "stderr",
     "output_type": "stream",
     "text": [
      " 92%|█████████▏| 721/780 [02:17<00:03, 19.01it/s]"
     ]
    },
    {
     "name": "stdout",
     "output_type": "stream",
     "text": [
      "inputs\\small42.in: cost 290732.89804638777\n",
      "inputs\\small43.in: cost 417665.8164039266\n",
      "inputs\\small44.in: cost 616881.9923435062\n",
      "inputs\\small45.in: cost 2302647.579480672\n"
     ]
    },
    {
     "name": "stderr",
     "output_type": "stream",
     "text": [
      " 93%|█████████▎| 726/780 [02:18<00:02, 18.20it/s]"
     ]
    },
    {
     "name": "stdout",
     "output_type": "stream",
     "text": [
      "inputs\\small46.in: cost 667974.8538391475\n",
      "inputs\\small47.in: cost 1362976.5157861614\n",
      "inputs\\small48.in: cost 233917.31591025766\n",
      "inputs\\small49.in: cost 2253047.579480672\n",
      "inputs\\small5.in: cost 520464.30820453883\n"
     ]
    },
    {
     "name": "stderr",
     "output_type": "stream",
     "text": [
      " 94%|█████████▍| 732/780 [02:18<00:02, 20.44it/s]"
     ]
    },
    {
     "name": "stdout",
     "output_type": "stream",
     "text": [
      "inputs\\small50.in: cost 3678606.439458316\n",
      "inputs\\small51.in: cost 78636.41592657614\n",
      "inputs\\small52.in: cost 253623.50610186582\n",
      "inputs\\small53.in: cost 3683559.2242079442\n",
      "inputs\\small54.in: cost 273139.89804638777\n",
      "inputs\\small55.in: cost 207080.01581064696\n"
     ]
    },
    {
     "name": "stderr",
     "output_type": "stream",
     "text": [
      " 94%|█████████▍| 736/780 [02:18<00:01, 22.39it/s]"
     ]
    },
    {
     "name": "stdout",
     "output_type": "stream",
     "text": [
      "inputs\\small56.in: cost 2220992.579480672\n",
      "inputs\\small57.in: cost 79273.85383914743\n",
      "inputs\\small58.in: cost 68523.6478572415\n",
      "inputs\\small59.in: cost 2402647.579480672\n",
      "inputs\\small6.in: cost 1358976.5157861614\n"
     ]
    },
    {
     "name": "stderr",
     "output_type": "stream",
     "text": [
      " 95%|█████████▌| 742/780 [02:18<00:01, 22.42it/s]"
     ]
    },
    {
     "name": "stdout",
     "output_type": "stream",
     "text": [
      "inputs\\small60.in: cost 429471.1424357402\n",
      "inputs\\small61.in: cost 903558.0385297296\n",
      "inputs\\small62.in: cost 264713.8164039266\n",
      "inputs\\small63.in: cost 203957.79593339498\n",
      "inputs\\small64.in: cost 355458.16036641074\n"
     ]
    },
    {
     "name": "stderr",
     "output_type": "stream",
     "text": [
      " 96%|█████████▌| 745/780 [02:18<00:01, 22.51it/s]"
     ]
    },
    {
     "name": "stdout",
     "output_type": "stream",
     "text": [
      "inputs\\small65.in: cost 144957.21029310022\n",
      "inputs\\small66.in: cost 326812.72844342794\n",
      "inputs\\small67.in: cost 327845.7390100754\n",
      "inputs\\small68.in: cost 142451.85383914743\n",
      "inputs\\small69.in: cost 2256647.579480672\n"
     ]
    },
    {
     "name": "stderr",
     "output_type": "stream",
     "text": [
      " 96%|█████████▋| 751/780 [02:19<00:01, 22.73it/s]"
     ]
    },
    {
     "name": "stdout",
     "output_type": "stream",
     "text": [
      "inputs\\small7.in: cost 337894.01581064693\n",
      "inputs\\small70.in: cost 205810.89804638777\n",
      "inputs\\small71.in: cost 1497975.5157861614\n",
      "inputs\\small72.in: cost 89864.01581064695\n",
      "inputs\\small73.in: cost 140001.31591025766\n",
      "inputs\\small74.in: cost 240731.01581064696\n"
     ]
    },
    {
     "name": "stderr",
     "output_type": "stream",
     "text": [
      " 97%|█████████▋| 757/780 [02:19<00:01, 21.14it/s]"
     ]
    },
    {
     "name": "stdout",
     "output_type": "stream",
     "text": [
      "inputs\\small75.in: cost 3827566.439458316\n",
      "inputs\\small76.in: cost 297143.8702032812\n",
      "inputs\\small77.in: cost 68346.14243574018\n",
      "inputs\\small78.in: cost 335813.8538391474\n",
      "inputs\\small79.in: cost 128313.85383914743\n"
     ]
    },
    {
     "name": "stderr",
     "output_type": "stream",
     "text": [
      " 98%|█████████▊| 763/780 [02:19<00:00, 20.67it/s]"
     ]
    },
    {
     "name": "stdout",
     "output_type": "stream",
     "text": [
      "inputs\\small8.in: cost 257484.8164039266\n",
      "inputs\\small80.in: cost 230480.8702032813\n",
      "inputs\\small81.in: cost 325027.16036641074\n",
      "inputs\\small82.in: cost 437016.16036641074\n",
      "inputs\\small83.in: cost 211812.7284434279\n"
     ]
    },
    {
     "name": "stderr",
     "output_type": "stream",
     "text": [
      " 98%|█████████▊| 766/780 [02:19<00:00, 22.43it/s]"
     ]
    },
    {
     "name": "stdout",
     "output_type": "stream",
     "text": [
      "inputs\\small84.in: cost 837778.0385297296\n",
      "inputs\\small85.in: cost 86263.85383914743\n",
      "inputs\\small86.in: cost 98191.20038610406\n",
      "inputs\\small87.in: cost 1361681.9893509615\n",
      "inputs\\small88.in: cost 205579.14321523352\n"
     ]
    },
    {
     "name": "stderr",
     "output_type": "stream",
     "text": [
      " 99%|█████████▉| 772/780 [02:20<00:00, 22.19it/s]"
     ]
    },
    {
     "name": "stdout",
     "output_type": "stream",
     "text": [
      "inputs\\small89.in: cost 236390.8164039266\n",
      "inputs\\small9.in: cost 368781.8538391474\n",
      "inputs\\small90.in: cost 744495.9971278271\n",
      "inputs\\small91.in: cost 3654021.3397318884\n",
      "inputs\\small92.in: cost 987583.2077336685\n"
     ]
    },
    {
     "name": "stderr",
     "output_type": "stream",
     "text": [
      "100%|█████████▉| 778/780 [02:20<00:00, 21.58it/s]"
     ]
    },
    {
     "name": "stdout",
     "output_type": "stream",
     "text": [
      "inputs\\small93.in: cost 160814.64785724148\n",
      "inputs\\small94.in: cost 91842.31591025766\n",
      "inputs\\small95.in: cost 234681.31591025766\n",
      "inputs\\small96.in: cost 150630.34283420662\n",
      "inputs\\small97.in: cost 151665.8164039266\n"
     ]
    },
    {
     "name": "stderr",
     "output_type": "stream",
     "text": [
      "100%|██████████| 780/780 [02:20<00:00,  5.55it/s]\n"
     ]
    },
    {
     "name": "stdout",
     "output_type": "stream",
     "text": [
      "inputs\\small98.in: cost 109690.14321523352\n",
      "inputs\\small99.in: cost 147665.8164039266\n"
     ]
    }
   ],
   "source": [
    "run_all(solve, 'inputs', 'outputs', overwrite=True)\n",
    "tar('outputs')"
   ]
  },
  {
   "cell_type": "code",
   "execution_count": null,
   "metadata": {},
   "outputs": [],
   "source": []
  }
 ],
 "metadata": {
  "kernelspec": {
   "display_name": "Python 3.9.13 64-bit (microsoft store)",
   "language": "python",
   "name": "python3"
  },
  "language_info": {
   "codemirror_mode": {
    "name": "ipython",
    "version": 3
   },
   "file_extension": ".py",
   "mimetype": "text/x-python",
   "name": "python",
   "nbconvert_exporter": "python",
   "pygments_lexer": "ipython3",
   "version": "3.9.13"
  },
  "vscode": {
   "interpreter": {
    "hash": "8a6d694099775d51971b60adbdb32959f530db667179b28aeaf67c215fea7e22"
   }
  }
 },
 "nbformat": 4,
 "nbformat_minor": 1
}

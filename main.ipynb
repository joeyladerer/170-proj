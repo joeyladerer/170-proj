{
 "cells": [
  {
   "cell_type": "code",
   "execution_count": 1,
   "metadata": {},
   "outputs": [
    {
     "name": "stdout",
     "output_type": "stream",
     "text": [
      "Requirement already satisfied: networkx in c:\\users\\brand\\appdata\\local\\packages\\pythonsoftwarefoundation.python.3.9_qbz5n2kfra8p0\\localcache\\local-packages\\python39\\site-packages (2.8.8)\n",
      "Note: you may need to restart the kernel to use updated packages.\n"
     ]
    },
    {
     "name": "stderr",
     "output_type": "stream",
     "text": [
      "WARNING: You are using pip version 21.3.1; however, version 22.3.1 is available.\n",
      "You should consider upgrading via the 'C:\\Users\\brand\\AppData\\Local\\Microsoft\\WindowsApps\\PythonSoftwareFoundation.Python.3.9_qbz5n2kfra8p0\\python.exe -m pip install --upgrade pip' command.\n"
     ]
    },
    {
     "name": "stdout",
     "output_type": "stream",
     "text": [
      "Requirement already satisfied: numpy in c:\\users\\brand\\appdata\\local\\packages\\pythonsoftwarefoundation.python.3.9_qbz5n2kfra8p0\\localcache\\local-packages\\python39\\site-packages (1.21.4)\n",
      "Note: you may need to restart the kernel to use updated packages.\n"
     ]
    },
    {
     "name": "stderr",
     "output_type": "stream",
     "text": [
      "WARNING: You are using pip version 21.3.1; however, version 22.3.1 is available.\n",
      "You should consider upgrading via the 'C:\\Users\\brand\\AppData\\Local\\Microsoft\\WindowsApps\\PythonSoftwareFoundation.Python.3.9_qbz5n2kfra8p0\\python.exe -m pip install --upgrade pip' command.\n"
     ]
    },
    {
     "name": "stdout",
     "output_type": "stream",
     "text": [
      "Requirement already satisfied: tqdm in c:\\users\\brand\\appdata\\local\\packages\\pythonsoftwarefoundation.python.3.9_qbz5n2kfra8p0\\localcache\\local-packages\\python39\\site-packages (4.64.1)\n",
      "Requirement already satisfied: colorama in c:\\users\\brand\\appdata\\local\\packages\\pythonsoftwarefoundation.python.3.9_qbz5n2kfra8p0\\localcache\\local-packages\\python39\\site-packages (from tqdm) (0.4.5)\n",
      "Note: you may need to restart the kernel to use updated packages.\n"
     ]
    },
    {
     "name": "stderr",
     "output_type": "stream",
     "text": [
      "WARNING: You are using pip version 21.3.1; however, version 22.3.1 is available.\n",
      "You should consider upgrading via the 'C:\\Users\\brand\\AppData\\Local\\Microsoft\\WindowsApps\\PythonSoftwareFoundation.Python.3.9_qbz5n2kfra8p0\\python.exe -m pip install --upgrade pip' command.\n"
     ]
    },
    {
     "name": "stdout",
     "output_type": "stream",
     "text": [
      "Requirement already satisfied: matplotlib in c:\\users\\brand\\appdata\\local\\packages\\pythonsoftwarefoundation.python.3.9_qbz5n2kfra8p0\\localcache\\local-packages\\python39\\site-packages (3.5.0)\n",
      "Requirement already satisfied: setuptools-scm>=4 in c:\\users\\brand\\appdata\\local\\packages\\pythonsoftwarefoundation.python.3.9_qbz5n2kfra8p0\\localcache\\local-packages\\python39\\site-packages (from matplotlib) (6.3.2)\n",
      "Requirement already satisfied: pyparsing>=2.2.1 in c:\\users\\brand\\appdata\\local\\packages\\pythonsoftwarefoundation.python.3.9_qbz5n2kfra8p0\\localcache\\local-packages\\python39\\site-packages (from matplotlib) (3.0.6)\n",
      "Requirement already satisfied: kiwisolver>=1.0.1 in c:\\users\\brand\\appdata\\local\\packages\\pythonsoftwarefoundation.python.3.9_qbz5n2kfra8p0\\localcache\\local-packages\\python39\\site-packages (from matplotlib) (1.3.2)\n",
      "Requirement already satisfied: fonttools>=4.22.0 in c:\\users\\brand\\appdata\\local\\packages\\pythonsoftwarefoundation.python.3.9_qbz5n2kfra8p0\\localcache\\local-packages\\python39\\site-packages (from matplotlib) (4.28.2)\n",
      "Requirement already satisfied: numpy>=1.17 in c:\\users\\brand\\appdata\\local\\packages\\pythonsoftwarefoundation.python.3.9_qbz5n2kfra8p0\\localcache\\local-packages\\python39\\site-packages (from matplotlib) (1.21.4)\n",
      "Requirement already satisfied: cycler>=0.10 in c:\\users\\brand\\appdata\\local\\packages\\pythonsoftwarefoundation.python.3.9_qbz5n2kfra8p0\\localcache\\local-packages\\python39\\site-packages (from matplotlib) (0.11.0)\n",
      "Requirement already satisfied: pillow>=6.2.0 in c:\\users\\brand\\appdata\\local\\packages\\pythonsoftwarefoundation.python.3.9_qbz5n2kfra8p0\\localcache\\local-packages\\python39\\site-packages (from matplotlib) (8.4.0)\n",
      "Requirement already satisfied: python-dateutil>=2.7 in c:\\users\\brand\\appdata\\local\\packages\\pythonsoftwarefoundation.python.3.9_qbz5n2kfra8p0\\localcache\\local-packages\\python39\\site-packages (from matplotlib) (2.8.2)\n",
      "Requirement already satisfied: packaging>=20.0 in c:\\users\\brand\\appdata\\local\\packages\\pythonsoftwarefoundation.python.3.9_qbz5n2kfra8p0\\localcache\\local-packages\\python39\\site-packages (from matplotlib) (21.3)\n",
      "Requirement already satisfied: six>=1.5 in c:\\users\\brand\\appdata\\local\\packages\\pythonsoftwarefoundation.python.3.9_qbz5n2kfra8p0\\localcache\\local-packages\\python39\\site-packages (from python-dateutil>=2.7->matplotlib) (1.16.0)\n",
      "Requirement already satisfied: tomli>=1.0.0 in c:\\users\\brand\\appdata\\local\\packages\\pythonsoftwarefoundation.python.3.9_qbz5n2kfra8p0\\localcache\\local-packages\\python39\\site-packages (from setuptools-scm>=4->matplotlib) (1.2.2)\n",
      "Requirement already satisfied: setuptools in c:\\program files\\windowsapps\\pythonsoftwarefoundation.python.3.9_3.9.3568.0_x64__qbz5n2kfra8p0\\lib\\site-packages (from setuptools-scm>=4->matplotlib) (58.1.0)\n",
      "Note: you may need to restart the kernel to use updated packages.\n"
     ]
    },
    {
     "name": "stderr",
     "output_type": "stream",
     "text": [
      "WARNING: You are using pip version 21.3.1; however, version 22.3.1 is available.\n",
      "You should consider upgrading via the 'C:\\Users\\brand\\AppData\\Local\\Microsoft\\WindowsApps\\PythonSoftwareFoundation.Python.3.9_qbz5n2kfra8p0\\python.exe -m pip install --upgrade pip' command.\n"
     ]
    }
   ],
   "source": [
    "# Install packages\n",
    "%pip install networkx\n",
    "%pip install numpy\n",
    "%pip install tqdm\n",
    "%pip install matplotlib"
   ]
  },
  {
   "cell_type": "code",
   "execution_count": 2,
   "metadata": {},
   "outputs": [
    {
     "name": "stderr",
     "output_type": "stream",
     "text": [
      "C:\\Users\\brand\\AppData\\Local\\Packages\\PythonSoftwareFoundation.Python.3.9_qbz5n2kfra8p0\\LocalCache\\local-packages\\Python39\\site-packages\\tqdm\\auto.py:22: TqdmWarning: IProgress not found. Please update jupyter and ipywidgets. See https://ipywidgets.readthedocs.io/en/stable/user_install.html\n",
      "  from .autonotebook import tqdm as notebook_tqdm\n"
     ]
    }
   ],
   "source": [
    "# The starter code is short and simple, take a look!\n",
    "from starter import *"
   ]
  },
  {
   "cell_type": "markdown",
   "metadata": {},
   "source": [
    "# Phase 1 - Create Inputs"
   ]
  },
  {
   "cell_type": "code",
   "execution_count": null,
   "metadata": {},
   "outputs": [],
   "source": [
    "# Add edges with G.add_edge(u, v, weight=w)\n",
    "# Idea: consider making the inputs with a solution in mind, \n",
    "# such that you know the solution when the outputs are released\n",
    "\n",
    "def small(G: nx.Graph):\n",
    "    # TODO add edges to complete the small input\n",
    "    pass\n",
    "    \n",
    "def medium(G: nx.Graph):\n",
    "    # TODO add edges to complete the medium input\n",
    "    pass\n",
    "    \n",
    "def large(G: nx.Graph):\n",
    "    # TODO add edges to complete the large input\n",
    "    pass"
   ]
  },
  {
   "cell_type": "code",
   "execution_count": 3,
   "metadata": {},
   "outputs": [
    {
     "ename": "NameError",
     "evalue": "name 'small' is not defined",
     "output_type": "error",
     "traceback": [
      "\u001b[1;31m---------------------------------------------------------------------------\u001b[0m",
      "\u001b[1;31mNameError\u001b[0m                                 Traceback (most recent call last)",
      "\u001b[1;32mc:\\Users\\brand\\Documents\\cs170\\170-proj\\main.ipynb Cell 5\u001b[0m in \u001b[0;36m<cell line: 2>\u001b[1;34m()\u001b[0m\n\u001b[0;32m      <a href='vscode-notebook-cell:/c%3A/Users/brand/Documents/cs170/170-proj/main.ipynb#W4sZmlsZQ%3D%3D?line=0'>1</a>\u001b[0m G \u001b[39m=\u001b[39m nx\u001b[39m.\u001b[39mempty_graph(N_SMALL)\n\u001b[1;32m----> <a href='vscode-notebook-cell:/c%3A/Users/brand/Documents/cs170/170-proj/main.ipynb#W4sZmlsZQ%3D%3D?line=1'>2</a>\u001b[0m small(G)\n\u001b[0;32m      <a href='vscode-notebook-cell:/c%3A/Users/brand/Documents/cs170/170-proj/main.ipynb#W4sZmlsZQ%3D%3D?line=2'>3</a>\u001b[0m write_input(G, \u001b[39m'\u001b[39m\u001b[39msmall.in\u001b[39m\u001b[39m'\u001b[39m)\n\u001b[0;32m      <a href='vscode-notebook-cell:/c%3A/Users/brand/Documents/cs170/170-proj/main.ipynb#W4sZmlsZQ%3D%3D?line=4'>5</a>\u001b[0m G \u001b[39m=\u001b[39m nx\u001b[39m.\u001b[39mempty_graph(N_MEDIUM)\n",
      "\u001b[1;31mNameError\u001b[0m: name 'small' is not defined"
     ]
    }
   ],
   "source": [
    "G = nx.empty_graph(N_SMALL)\n",
    "small(G)\n",
    "write_input(G, 'small.in')\n",
    "\n",
    "G = nx.empty_graph(N_MEDIUM)\n",
    "medium(G)\n",
    "write_input(G, 'medium.in')\n",
    "\n",
    "G = nx.empty_graph(N_LARGE)\n",
    "large(G)\n",
    "write_input(G, 'large.in')"
   ]
  },
  {
   "cell_type": "markdown",
   "metadata": {},
   "source": [
    "# Phase 2 - Implement your Solver"
   ]
  },
  {
   "cell_type": "code",
   "execution_count": 4,
   "metadata": {},
   "outputs": [],
   "source": [
    "import random\n",
    "# G = read_input('/Users/bryceharrell/Desktop/170/170-proj/inputs/small1.in')\n",
    "# print(random.sample(G.nodes, 10))\n",
    "# teamCount = random.randint(1, len(G.nodes) // 5)\n",
    "# print(teamCount)\n",
    "# teamSize = len(G.nodes) // teamCount\n",
    "# print(teamSize)\n",
    "\n",
    "\n"
   ]
  },
  {
   "cell_type": "code",
   "execution_count": 5,
   "metadata": {},
   "outputs": [],
   "source": [
    "import copy\n",
    "def removeNodes(List, toRemove):\n",
    "    for node in toRemove:\n",
    "        List.remove(node)\n",
    "    return List\n",
    "        \n",
    "\n",
    "def randomTeamSample(G, teamCount):\n",
    "    nodes = copy.copy(list(G))\n",
    "    #teamCount = random.randint(1, len(nodes) // 6)\n",
    "    #print(\"Team Count: \" + str(teamCount))\n",
    "    teamSize = len(nodes) // teamCount\n",
    "    #print(\"Team Size: \" + str(teamSize))\n",
    "    for teamNum in range(1, teamCount + 1):\n",
    "        verts = random.sample(nodes, teamSize)\n",
    "        nodes = removeNodes(nodes, verts)\n",
    "        for v in verts:\n",
    "            G.nodes[v]['team'] = teamNum\n",
    "    \n",
    "    for remainingNode in nodes:\n",
    "        G.nodes[remainingNode]['team'] = random.randint(1, teamCount)\n",
    "    \n",
    "    return G\n",
    "\n",
    "def getNeighbors(G, currentTeamCount):\n",
    "    neighbors = []\n",
    "    \n",
    "\n",
    "    for v in G.nodes():\n",
    "        otherVert = random.sample(G.nodes(), 1)\n",
    "        if (v != otherVert):\n",
    "            copyG = copy.copy(G)\n",
    "            team1 = copyG.nodes[v]['team']\n",
    "            team2 = copyG.nodes[otherVert[0]]['team']\n",
    "            copyG.nodes[v]['team'] = team2\n",
    "            copyG.nodes[otherVert[0]]['team'] = team1\n",
    "            #print(\"Swapping \" + str(v) + \"from team \" + str(team1) + \" with \" + str(otherVert) + \" from team \" + str(team2))\n",
    "        neighbors.append(copyG)\n",
    "\n",
    "    if (currentTeamCount > 1):\n",
    "        oneLess = randomTeamSample(G, currentTeamCount - 1)\n",
    "        for v in oneLess.nodes():\n",
    "            otherVert = random.sample(oneLess.nodes(), 1)\n",
    "            if (v != otherVert):\n",
    "                copyG = copy.copy(oneLess)\n",
    "                team1 = copyG.nodes[v]['team']\n",
    "                team2 = copyG.nodes[otherVert[0]]['team']\n",
    "                copyG.nodes[v]['team'] = team2\n",
    "                copyG.nodes[otherVert[0]]['team'] = team1\n",
    "                #print(\"Swapping \" + str(v) + \"from team \" + str(team1) + \" with \" + str(otherVert) + \" from team \" + str(team2))\n",
    "            neighbors.append(copyG)\n",
    "\n",
    "    oneMore = randomTeamSample(G, currentTeamCount + 1)\n",
    "    for v in oneMore.nodes():\n",
    "        otherVert = random.sample(oneMore.nodes(), 1)\n",
    "        if (v != otherVert):\n",
    "            copyG = copy.copy(oneMore)\n",
    "            team1 = copyG.nodes[v]['team']\n",
    "            team2 = copyG.nodes[otherVert[0]]['team']\n",
    "            copyG.nodes[v]['team'] = team2\n",
    "            copyG.nodes[otherVert[0]]['team'] = team1\n",
    "            #print(\"Swapping \" + str(v) + \"from team \" + str(team1) + \" with \" + str(otherVert) + \" from team \" + str(team2))\n",
    "        neighbors.append(copyG)\n",
    "    #print(len(neighbors))\n",
    "    return neighbors\n",
    "\n",
    "def getTeamCount(G):\n",
    "    teams = set()\n",
    "    for v in G.nodes:\n",
    "        if (G.nodes[v]['team'] not in teams):\n",
    "            teams.add(G.nodes[v]['team'])\n",
    "    return len(teams)\n",
    "\n",
    "    \n"
   ]
  },
  {
   "cell_type": "code",
   "execution_count": 48,
   "metadata": {},
   "outputs": [],
   "source": [
    "from sklearn.cluster import KMeans\n",
    "# randomTeamSample(G, 10)\n",
    "# neighbors = getNeighbors(G, 10)\n",
    "#for n in neighbors:\n",
    "    #print(getTeamCount(n))\n",
    "\n",
    "#getTeamCount(G)\n",
    "#validate_output(G)\n",
    "#visualize(G)\n",
    "#score(G)"
   ]
  },
  {
   "cell_type": "code",
   "execution_count": 83,
   "metadata": {},
   "outputs": [],
   "source": [
    "\n",
    "def simulated_annealing(G, k):\n",
    "    initialTemp = 100\n",
    "    finalTemp = 1\n",
    "    alpha = 15\n",
    "    scores = []\n",
    "\n",
    "    currentTemp = initialTemp\n",
    "\n",
    "\n",
    "    # define the starting solution as a random assignment of penguins to teams\n",
    "    currentTeamCount = random.randint(1, 10)\n",
    "    # currentTeamCount = random.randint(1, len(G.nodes) // 6)\n",
    "    current_solution = randomTeamSample(G, currentTeamCount)\n",
    "    \n",
    "    \n",
    "\n",
    "    while currentTemp > finalTemp:\n",
    "        # choose a random solution from the neighborhood of the current solution\n",
    "        # print(\"Current Team Count: \" + str(currentTeamCount))\n",
    "        neighbors = getNeighbors(current_solution, currentTeamCount)\n",
    "        next_solution = random.sample(neighbors, 1)\n",
    "        # print(next_solution == current_solution)\n",
    "        next_solution = next_solution[0]\n",
    "        nextTeamCount = getTeamCount(next_solution)\n",
    "        # print(\"Next Team Count: \" + str(nextTeamCount))\n",
    "\n",
    "\n",
    "\n",
    "        # evaluate the cost of the new solution\n",
    "        current_cost = score(current_solution)\n",
    "        # print(\"Current Cost: \" + str(current_cost))\n",
    "        next_cost = score(next_solution)\n",
    "        # print(\"Next Cost: \" + str(next_cost))\n",
    "        scores.append(current_cost)\n",
    "\n",
    "        # accept the new solution if it has a lower cost\n",
    "        if next_cost < current_cost:\n",
    "            current_solution = next_solution\n",
    "            currentTeamCount = nextTeamCount\n",
    "        else:\n",
    "            # print(\"Running else\")\n",
    "            # accept the new solution with probability exp(-ΔE / kT)\n",
    "            p = np.exp(-(next_cost - current_cost) / (k * currentTemp))\n",
    "            if random.uniform(0, 1) < p:\n",
    "                current_solution = next_solution\n",
    "                currentTeamCount = nextTeamCount\n",
    "        currentTemp -= alpha\n",
    "\n",
    "    # return the approximate solution found by the algorithm\n",
    "    # print(current_cost)\n",
    "    # print(min(scores))\n",
    "    # print(getTeamCount(current_solution))\n",
    "\n",
    "\n",
    "\n",
    "\n",
    "\n",
    "\n",
    "def solve(G: nx.Graph):\n",
    "    # TODO implement this function with your solver\n",
    "    # Assign a team to v with G.nodes[v]['team'] = team_id\n",
    "    # Access the team of v with team_id = G.nodes[v]['team']\n",
    "    # create a graph from the input data\n",
    "\n",
    "\n",
    "    # define the temperature schedule and the constant k\n",
    "    # T = [100, 10, 1, 0.1, 0.01, 0.001]\n",
    "    # k = 1\n",
    "\n",
    "    # find the approximate solution to the problem\n",
    "    # simulated_annealing(G, k)\n",
    "    matrix = nx.to_numpy_matrix(G)\n",
    "    # print(matrix)\n",
    "    kmeans = KMeans(n_clusters=2)\n",
    "    kmeans.fit(matrix)\n",
    "    cluster_labels = kmeans.labels_\n",
    "    GCopy = G.copy()\n",
    "    nx.set_node_attributes(GCopy, dict(zip(G.nodes(), cluster_labels)), 'team')\n",
    "    GCopy_score = score(GCopy)\n",
    "    lowest_score = GCopy_score\n",
    "    lowest_solution = GCopy\n",
    "    for i in range(3, 10):\n",
    "        kmeans = KMeans(n_clusters=i)\n",
    "        kmeans.fit(matrix)\n",
    "        cluster_labels = kmeans.labels_\n",
    "        cluster_labels = [{'team': value} for value in cluster_labels]\n",
    "        # print(cluster_labels)\n",
    "        # print(GCopy.nodes())\n",
    "        GCopy = G.copy()\n",
    "        nx.set_node_attributes(GCopy, dict(zip(GCopy.nodes(), cluster_labels)), 'team')\n",
    "        # for i in range():\n",
    "        #     node['team']\n",
    "        print(dict(zip(G.nodes(), cluster_labels)))\n",
    "        GCopy_score = score(GCopy)\n",
    "        print(GCopy_score)\n",
    "        if GCopy_score < lowest_score:\n",
    "            lowest_solution = GCopy\n",
    "    G = lowest_solution\n",
    "\n",
    "\n",
    "    # for i in range(5):\n",
    "    #     Gcopy = copy.copy(G)\n",
    "    #     simulated_annealing(Gcopy, k)\n",
    "    #     if score(Gcopy) < score(G):\n",
    "    #         G = Gcopy\n",
    "\n",
    "    # pass"
   ]
  },
  {
   "cell_type": "code",
   "execution_count": 84,
   "metadata": {},
   "outputs": [
    {
     "name": "stderr",
     "output_type": "stream",
     "text": [
      "C:\\Users\\brand\\AppData\\Local\\Packages\\PythonSoftwareFoundation.Python.3.9_qbz5n2kfra8p0\\LocalCache\\local-packages\\Python39\\site-packages\\sklearn\\utils\\validation.py:585: FutureWarning: np.matrix usage is deprecated in 1.0 and will raise a TypeError in 1.2. Please convert to a numpy array with np.asarray. For more information see: https://numpy.org/doc/stable/reference/generated/numpy.matrix.html\n",
      "  warnings.warn(\n",
      "C:\\Users\\brand\\AppData\\Local\\Packages\\PythonSoftwareFoundation.Python.3.9_qbz5n2kfra8p0\\LocalCache\\local-packages\\Python39\\site-packages\\sklearn\\utils\\validation.py:585: FutureWarning: np.matrix usage is deprecated in 1.0 and will raise a TypeError in 1.2. Please convert to a numpy array with np.asarray. For more information see: https://numpy.org/doc/stable/reference/generated/numpy.matrix.html\n",
      "  warnings.warn(\n"
     ]
    },
    {
     "name": "stdout",
     "output_type": "stream",
     "text": [
      "{0: {'team': 1}, 1: {'team': 2}, 2: {'team': 1}, 3: {'team': 2}, 4: {'team': 0}, 5: {'team': 1}, 6: {'team': 0}, 7: {'team': 0}, 8: {'team': 1}, 9: {'team': 0}, 10: {'team': 2}, 11: {'team': 0}, 12: {'team': 0}, 13: {'team': 2}, 14: {'team': 2}, 15: {'team': 0}, 16: {'team': 0}, 17: {'team': 0}, 18: {'team': 2}, 19: {'team': 0}, 20: {'team': 1}, 21: {'team': 0}, 22: {'team': 1}, 23: {'team': 2}, 24: {'team': 1}, 25: {'team': 0}, 26: {'team': 2}, 27: {'team': 0}, 28: {'team': 1}, 29: {'team': 1}, 30: {'team': 0}, 31: {'team': 1}, 32: {'team': 1}, 33: {'team': 1}, 34: {'team': 0}, 35: {'team': 1}, 36: {'team': 1}, 37: {'team': 2}, 38: {'team': 1}, 39: {'team': 1}, 40: {'team': 2}, 41: {'team': 0}, 42: {'team': 0}, 43: {'team': 2}, 44: {'team': 0}, 45: {'team': 1}, 46: {'team': 1}, 47: {'team': 0}, 48: {'team': 2}, 49: {'team': 1}, 50: {'team': 1}, 51: {'team': 0}, 52: {'team': 1}, 53: {'team': 1}, 54: {'team': 2}, 55: {'team': 0}, 56: {'team': 1}, 57: {'team': 0}, 58: {'team': 1}, 59: {'team': 0}, 60: {'team': 1}, 61: {'team': 0}, 62: {'team': 0}, 63: {'team': 0}, 64: {'team': 0}, 65: {'team': 0}, 66: {'team': 0}, 67: {'team': 0}, 68: {'team': 0}, 69: {'team': 0}, 70: {'team': 0}, 71: {'team': 1}, 72: {'team': 0}, 73: {'team': 0}, 74: {'team': 2}, 75: {'team': 1}, 76: {'team': 1}, 77: {'team': 1}, 78: {'team': 1}, 79: {'team': 1}, 80: {'team': 2}, 81: {'team': 0}, 82: {'team': 1}, 83: {'team': 0}, 84: {'team': 0}, 85: {'team': 0}, 86: {'team': 2}, 87: {'team': 1}, 88: {'team': 0}, 89: {'team': 2}, 90: {'team': 1}, 91: {'team': 1}, 92: {'team': 0}, 93: {'team': 1}, 94: {'team': 0}, 95: {'team': 1}, 96: {'team': 2}, 97: {'team': 1}, 98: {'team': 2}, 99: {'team': 0}}\n"
     ]
    },
    {
     "ename": "TypeError",
     "evalue": "'<' not supported between instances of 'dict' and 'dict'",
     "output_type": "error",
     "traceback": [
      "\u001b[1;31m---------------------------------------------------------------------------\u001b[0m",
      "\u001b[1;31mTypeError\u001b[0m                                 Traceback (most recent call last)",
      "\u001b[1;32mc:\\Users\\brand\\Documents\\cs170\\170-proj\\main.ipynb Cell 11\u001b[0m in \u001b[0;36m<cell line: 2>\u001b[1;34m()\u001b[0m\n\u001b[0;32m      <a href='vscode-notebook-cell:/c%3A/Users/brand/Documents/cs170/170-proj/main.ipynb#X13sZmlsZQ%3D%3D?line=0'>1</a>\u001b[0m G \u001b[39m=\u001b[39m read_input(\u001b[39m'\u001b[39m\u001b[39m./inputs/small87.in\u001b[39m\u001b[39m'\u001b[39m)\n\u001b[1;32m----> <a href='vscode-notebook-cell:/c%3A/Users/brand/Documents/cs170/170-proj/main.ipynb#X13sZmlsZQ%3D%3D?line=1'>2</a>\u001b[0m solve(G)\n\u001b[0;32m      <a href='vscode-notebook-cell:/c%3A/Users/brand/Documents/cs170/170-proj/main.ipynb#X13sZmlsZQ%3D%3D?line=2'>3</a>\u001b[0m validate_output(G)\n\u001b[0;32m      <a href='vscode-notebook-cell:/c%3A/Users/brand/Documents/cs170/170-proj/main.ipynb#X13sZmlsZQ%3D%3D?line=3'>4</a>\u001b[0m visualize(G)\n",
      "\u001b[1;32mc:\\Users\\brand\\Documents\\cs170\\170-proj\\main.ipynb Cell 11\u001b[0m in \u001b[0;36msolve\u001b[1;34m(G)\u001b[0m\n\u001b[0;32m     <a href='vscode-notebook-cell:/c%3A/Users/brand/Documents/cs170/170-proj/main.ipynb#X13sZmlsZQ%3D%3D?line=90'>91</a>\u001b[0m \u001b[39m# for i in range():\u001b[39;00m\n\u001b[0;32m     <a href='vscode-notebook-cell:/c%3A/Users/brand/Documents/cs170/170-proj/main.ipynb#X13sZmlsZQ%3D%3D?line=91'>92</a>\u001b[0m \u001b[39m#     node['team']\u001b[39;00m\n\u001b[0;32m     <a href='vscode-notebook-cell:/c%3A/Users/brand/Documents/cs170/170-proj/main.ipynb#X13sZmlsZQ%3D%3D?line=92'>93</a>\u001b[0m \u001b[39mprint\u001b[39m(\u001b[39mdict\u001b[39m(\u001b[39mzip\u001b[39m(G\u001b[39m.\u001b[39mnodes(), cluster_labels)))\n\u001b[1;32m---> <a href='vscode-notebook-cell:/c%3A/Users/brand/Documents/cs170/170-proj/main.ipynb#X13sZmlsZQ%3D%3D?line=93'>94</a>\u001b[0m GCopy_score \u001b[39m=\u001b[39m score(GCopy)\n\u001b[0;32m     <a href='vscode-notebook-cell:/c%3A/Users/brand/Documents/cs170/170-proj/main.ipynb#X13sZmlsZQ%3D%3D?line=94'>95</a>\u001b[0m \u001b[39mprint\u001b[39m(GCopy_score)\n\u001b[0;32m     <a href='vscode-notebook-cell:/c%3A/Users/brand/Documents/cs170/170-proj/main.ipynb#X13sZmlsZQ%3D%3D?line=95'>96</a>\u001b[0m \u001b[39mif\u001b[39;00m GCopy_score \u001b[39m<\u001b[39m lowest_score:\n",
      "File \u001b[1;32mc:\\Users\\brand\\Documents\\cs170\\170-proj\\starter.py:94\u001b[0m, in \u001b[0;36mscore\u001b[1;34m(G, separated)\u001b[0m\n\u001b[0;32m     92\u001b[0m \u001b[39mdef\u001b[39;00m \u001b[39mscore\u001b[39m(G: nx\u001b[39m.\u001b[39mGraph, separated\u001b[39m=\u001b[39m\u001b[39mFalse\u001b[39;00m):\n\u001b[0;32m     93\u001b[0m     output \u001b[39m=\u001b[39m [G\u001b[39m.\u001b[39mnodes[v][\u001b[39m'\u001b[39m\u001b[39mteam\u001b[39m\u001b[39m'\u001b[39m] \u001b[39mfor\u001b[39;00m v \u001b[39min\u001b[39;00m \u001b[39mrange\u001b[39m(G\u001b[39m.\u001b[39mnumber_of_nodes())]\n\u001b[1;32m---> 94\u001b[0m     teams, counts \u001b[39m=\u001b[39m np\u001b[39m.\u001b[39;49munique(output, return_counts\u001b[39m=\u001b[39;49m\u001b[39mTrue\u001b[39;49;00m)\n\u001b[0;32m     96\u001b[0m     k \u001b[39m=\u001b[39m np\u001b[39m.\u001b[39mmax(teams)\n\u001b[0;32m     97\u001b[0m     b \u001b[39m=\u001b[39m np\u001b[39m.\u001b[39mlinalg\u001b[39m.\u001b[39mnorm((counts \u001b[39m/\u001b[39m G\u001b[39m.\u001b[39mnumber_of_nodes()) \u001b[39m-\u001b[39m \u001b[39m1\u001b[39m \u001b[39m/\u001b[39m k, \u001b[39m2\u001b[39m)\n",
      "File \u001b[1;32m<__array_function__ internals>:5\u001b[0m, in \u001b[0;36munique\u001b[1;34m(*args, **kwargs)\u001b[0m\n",
      "File \u001b[1;32m~\\AppData\\Local\\Packages\\PythonSoftwareFoundation.Python.3.9_qbz5n2kfra8p0\\LocalCache\\local-packages\\Python39\\site-packages\\numpy\\lib\\arraysetops.py:272\u001b[0m, in \u001b[0;36munique\u001b[1;34m(ar, return_index, return_inverse, return_counts, axis)\u001b[0m\n\u001b[0;32m    270\u001b[0m ar \u001b[39m=\u001b[39m np\u001b[39m.\u001b[39masanyarray(ar)\n\u001b[0;32m    271\u001b[0m \u001b[39mif\u001b[39;00m axis \u001b[39mis\u001b[39;00m \u001b[39mNone\u001b[39;00m:\n\u001b[1;32m--> 272\u001b[0m     ret \u001b[39m=\u001b[39m _unique1d(ar, return_index, return_inverse, return_counts)\n\u001b[0;32m    273\u001b[0m     \u001b[39mreturn\u001b[39;00m _unpack_tuple(ret)\n\u001b[0;32m    275\u001b[0m \u001b[39m# axis was specified and not None\u001b[39;00m\n",
      "File \u001b[1;32m~\\AppData\\Local\\Packages\\PythonSoftwareFoundation.Python.3.9_qbz5n2kfra8p0\\LocalCache\\local-packages\\Python39\\site-packages\\numpy\\lib\\arraysetops.py:333\u001b[0m, in \u001b[0;36m_unique1d\u001b[1;34m(ar, return_index, return_inverse, return_counts)\u001b[0m\n\u001b[0;32m    331\u001b[0m     aux \u001b[39m=\u001b[39m ar[perm]\n\u001b[0;32m    332\u001b[0m \u001b[39melse\u001b[39;00m:\n\u001b[1;32m--> 333\u001b[0m     ar\u001b[39m.\u001b[39;49msort()\n\u001b[0;32m    334\u001b[0m     aux \u001b[39m=\u001b[39m ar\n\u001b[0;32m    335\u001b[0m mask \u001b[39m=\u001b[39m np\u001b[39m.\u001b[39mempty(aux\u001b[39m.\u001b[39mshape, dtype\u001b[39m=\u001b[39mnp\u001b[39m.\u001b[39mbool_)\n",
      "\u001b[1;31mTypeError\u001b[0m: '<' not supported between instances of 'dict' and 'dict'"
     ]
    }
   ],
   "source": [
    "G = read_input('./inputs/small87.in')\n",
    "solve(G)\n",
    "validate_output(G)\n",
    "visualize(G)\n",
    "score(G)"
   ]
  },
  {
   "cell_type": "code",
   "execution_count": 18,
   "metadata": {},
   "outputs": [
    {
     "name": "stdout",
     "output_type": "stream",
     "text": [
      "./inputs/small1.in: cost 2346620.579480672\n"
     ]
    },
    {
     "name": "stderr",
     "output_type": "stream",
     "text": [
      "C:\\Users\\brand\\AppData\\Local\\Temp\\ipykernel_7596\\797937519.py:30: DeprecationWarning: Sampling from a set deprecated\n",
      "since Python 3.9 and will be removed in a subsequent version.\n",
      "  otherVert = random.sample(G.nodes(), 1)\n",
      "C:\\Users\\brand\\AppData\\Local\\Temp\\ipykernel_7596\\797937519.py:43: DeprecationWarning: Sampling from a set deprecated\n",
      "since Python 3.9 and will be removed in a subsequent version.\n",
      "  otherVert = random.sample(oneLess.nodes(), 1)\n",
      "C:\\Users\\brand\\AppData\\Local\\Temp\\ipykernel_7596\\797937519.py:55: DeprecationWarning: Sampling from a set deprecated\n",
      "since Python 3.9 and will be removed in a subsequent version.\n",
      "  otherVert = random.sample(oneMore.nodes(), 1)\n"
     ]
    }
   ],
   "source": [
    "run(solve, './inputs/small1.in', './outputs/small1.out', overwrite=True)"
   ]
  },
  {
   "cell_type": "code",
   "execution_count": 45,
   "metadata": {},
   "outputs": [
    {
     "name": "stderr",
     "output_type": "stream",
     "text": [
      "  0%|          | 0/780 [00:00<?, ?it/s]C:\\Users\\brand\\AppData\\Local\\Temp\\ipykernel_8536\\797937519.py:30: DeprecationWarning: Sampling from a set deprecated\n",
      "since Python 3.9 and will be removed in a subsequent version.\n",
      "  otherVert = random.sample(G.nodes(), 1)\n",
      "C:\\Users\\brand\\AppData\\Local\\Temp\\ipykernel_8536\\797937519.py:43: DeprecationWarning: Sampling from a set deprecated\n",
      "since Python 3.9 and will be removed in a subsequent version.\n",
      "  otherVert = random.sample(oneLess.nodes(), 1)\n",
      "C:\\Users\\brand\\AppData\\Local\\Temp\\ipykernel_8536\\797937519.py:55: DeprecationWarning: Sampling from a set deprecated\n",
      "since Python 3.9 and will be removed in a subsequent version.\n",
      "  otherVert = random.sample(oneMore.nodes(), 1)\n",
      "  0%|          | 1/780 [00:02<30:49,  2.37s/it]"
     ]
    },
    {
     "name": "stdout",
     "output_type": "stream",
     "text": [
      "inputs\\large1.in: cost 593670.4791851905\n"
     ]
    },
    {
     "name": "stderr",
     "output_type": "stream",
     "text": [
      "  0%|          | 2/780 [00:04<32:16,  2.49s/it]"
     ]
    },
    {
     "name": "stdout",
     "output_type": "stream",
     "text": [
      "inputs\\large10.in: cost 623760.8150033144\n"
     ]
    },
    {
     "name": "stderr",
     "output_type": "stream",
     "text": [
      "  0%|          | 3/780 [00:07<31:09,  2.41s/it]"
     ]
    },
    {
     "name": "stdout",
     "output_type": "stream",
     "text": [
      "inputs\\large100.in: cost 878664.492991435\n"
     ]
    },
    {
     "name": "stderr",
     "output_type": "stream",
     "text": [
      "  1%|          | 4/780 [00:09<32:39,  2.53s/it]"
     ]
    },
    {
     "name": "stdout",
     "output_type": "stream",
     "text": [
      "inputs\\large101.in: cost 444653.36553926737\n"
     ]
    },
    {
     "name": "stderr",
     "output_type": "stream",
     "text": [
      "  1%|          | 5/780 [00:12<33:57,  2.63s/it]"
     ]
    },
    {
     "name": "stdout",
     "output_type": "stream",
     "text": [
      "inputs\\large102.in: cost 600083.985745916\n"
     ]
    },
    {
     "name": "stderr",
     "output_type": "stream",
     "text": [
      "  1%|          | 6/780 [00:15<33:38,  2.61s/it]"
     ]
    },
    {
     "name": "stdout",
     "output_type": "stream",
     "text": [
      "inputs\\large103.in: cost 441004.0425986584\n"
     ]
    },
    {
     "name": "stderr",
     "output_type": "stream",
     "text": [
      "  1%|          | 7/780 [00:17<32:27,  2.52s/it]"
     ]
    },
    {
     "name": "stdout",
     "output_type": "stream",
     "text": [
      "inputs\\large104.in: cost 784835.3159102576\n"
     ]
    },
    {
     "name": "stderr",
     "output_type": "stream",
     "text": [
      "  1%|          | 8/780 [00:19<31:22,  2.44s/it]"
     ]
    },
    {
     "name": "stdout",
     "output_type": "stream",
     "text": [
      "inputs\\large105.in: cost 476096.985745916\n"
     ]
    },
    {
     "name": "stderr",
     "output_type": "stream",
     "text": [
      "  1%|          | 9/780 [00:21<29:31,  2.30s/it]"
     ]
    },
    {
     "name": "stdout",
     "output_type": "stream",
     "text": [
      "inputs\\large106.in: cost 215510.45016433432\n"
     ]
    },
    {
     "name": "stderr",
     "output_type": "stream",
     "text": [
      "  1%|▏         | 10/780 [00:24<29:20,  2.29s/it]"
     ]
    },
    {
     "name": "stdout",
     "output_type": "stream",
     "text": [
      "inputs\\large107.in: cost 849344.0004483488\n"
     ]
    },
    {
     "name": "stderr",
     "output_type": "stream",
     "text": [
      "  1%|▏         | 11/780 [00:26<28:32,  2.23s/it]"
     ]
    },
    {
     "name": "stdout",
     "output_type": "stream",
     "text": [
      "inputs\\large108.in: cost 76842.31591025766\n"
     ]
    },
    {
     "name": "stderr",
     "output_type": "stream",
     "text": [
      "  2%|▏         | 12/780 [00:28<28:43,  2.24s/it]"
     ]
    },
    {
     "name": "stdout",
     "output_type": "stream",
     "text": [
      "inputs\\large109.in: cost 394651.78135317256\n"
     ]
    },
    {
     "name": "stderr",
     "output_type": "stream",
     "text": [
      "  2%|▏         | 13/780 [00:30<29:01,  2.27s/it]"
     ]
    },
    {
     "name": "stdout",
     "output_type": "stream",
     "text": [
      "inputs\\large11.in: cost 202744.0004483488\n"
     ]
    },
    {
     "name": "stderr",
     "output_type": "stream",
     "text": [
      "  2%|▏         | 14/780 [00:32<27:56,  2.19s/it]"
     ]
    },
    {
     "name": "stdout",
     "output_type": "stream",
     "text": [
      "inputs\\large110.in: cost 243344.0004483488\n"
     ]
    },
    {
     "name": "stderr",
     "output_type": "stream",
     "text": [
      "  2%|▏         | 15/780 [00:35<29:02,  2.28s/it]"
     ]
    },
    {
     "name": "stdout",
     "output_type": "stream",
     "text": [
      "inputs\\large111.in: cost 756432.4255934118\n"
     ]
    },
    {
     "name": "stderr",
     "output_type": "stream",
     "text": [
      "  2%|▏         | 16/780 [00:38<30:48,  2.42s/it]"
     ]
    },
    {
     "name": "stdout",
     "output_type": "stream",
     "text": [
      "inputs\\large112.in: cost 430082.4236053965\n"
     ]
    },
    {
     "name": "stderr",
     "output_type": "stream",
     "text": [
      "  2%|▏         | 17/780 [00:40<31:05,  2.45s/it]"
     ]
    },
    {
     "name": "stdout",
     "output_type": "stream",
     "text": [
      "inputs\\large113.in: cost 485244.4533406711\n"
     ]
    },
    {
     "name": "stderr",
     "output_type": "stream",
     "text": [
      "  2%|▏         | 18/780 [00:42<30:21,  2.39s/it]"
     ]
    },
    {
     "name": "stdout",
     "output_type": "stream",
     "text": [
      "inputs\\large114.in: cost 610619.0176542536\n"
     ]
    },
    {
     "name": "stderr",
     "output_type": "stream",
     "text": [
      "  2%|▏         | 19/780 [00:45<29:17,  2.31s/it]"
     ]
    },
    {
     "name": "stdout",
     "output_type": "stream",
     "text": [
      "inputs\\large115.in: cost 220405.37777351434\n"
     ]
    },
    {
     "name": "stderr",
     "output_type": "stream",
     "text": [
      "  3%|▎         | 20/780 [00:46<27:50,  2.20s/it]"
     ]
    },
    {
     "name": "stdout",
     "output_type": "stream",
     "text": [
      "inputs\\large116.in: cost 140460.81500331443\n"
     ]
    },
    {
     "name": "stderr",
     "output_type": "stream",
     "text": [
      "  3%|▎         | 21/780 [00:48<26:35,  2.10s/it]"
     ]
    },
    {
     "name": "stdout",
     "output_type": "stream",
     "text": [
      "inputs\\large117.in: cost 154230.04259865842\n"
     ]
    },
    {
     "name": "stderr",
     "output_type": "stream",
     "text": [
      "  3%|▎         | 22/780 [00:51<27:23,  2.17s/it]"
     ]
    },
    {
     "name": "stdout",
     "output_type": "stream",
     "text": [
      "inputs\\large118.in: cost 476364.492991435\n"
     ]
    },
    {
     "name": "stderr",
     "output_type": "stream",
     "text": [
      "  3%|▎         | 23/780 [00:53<29:00,  2.30s/it]"
     ]
    },
    {
     "name": "stdout",
     "output_type": "stream",
     "text": [
      "inputs\\large119.in: cost 420027.8150033144\n"
     ]
    },
    {
     "name": "stderr",
     "output_type": "stream",
     "text": [
      "  3%|▎         | 24/780 [00:55<28:30,  2.26s/it]"
     ]
    },
    {
     "name": "stdout",
     "output_type": "stream",
     "text": [
      "inputs\\large12.in: cost 549680.8150033144\n"
     ]
    },
    {
     "name": "stderr",
     "output_type": "stream",
     "text": [
      "  3%|▎         | 25/780 [00:57<27:32,  2.19s/it]"
     ]
    },
    {
     "name": "stdout",
     "output_type": "stream",
     "text": [
      "inputs\\large120.in: cost 305805.50718330755\n"
     ]
    },
    {
     "name": "stderr",
     "output_type": "stream",
     "text": [
      "  3%|▎         | 26/780 [01:00<28:16,  2.25s/it]"
     ]
    },
    {
     "name": "stdout",
     "output_type": "stream",
     "text": [
      "inputs\\large121.in: cost 245905.57978988887\n"
     ]
    },
    {
     "name": "stderr",
     "output_type": "stream",
     "text": [
      "  3%|▎         | 27/780 [01:02<26:55,  2.15s/it]"
     ]
    },
    {
     "name": "stdout",
     "output_type": "stream",
     "text": [
      "inputs\\large122.in: cost 542978.1644600176\n"
     ]
    },
    {
     "name": "stderr",
     "output_type": "stream",
     "text": [
      "  4%|▎         | 28/780 [01:04<26:34,  2.12s/it]"
     ]
    },
    {
     "name": "stdout",
     "output_type": "stream",
     "text": [
      "inputs\\large123.in: cost 632142.8150033144\n"
     ]
    },
    {
     "name": "stderr",
     "output_type": "stream",
     "text": [
      "  4%|▎         | 29/780 [01:06<26:48,  2.14s/it]"
     ]
    },
    {
     "name": "stdout",
     "output_type": "stream",
     "text": [
      "inputs\\large124.in: cost 556909.4542326528\n"
     ]
    },
    {
     "name": "stderr",
     "output_type": "stream",
     "text": [
      "  4%|▍         | 30/780 [01:08<25:28,  2.04s/it]"
     ]
    },
    {
     "name": "stdout",
     "output_type": "stream",
     "text": [
      "inputs\\large125.in: cost 529310.1099969192\n"
     ]
    },
    {
     "name": "stderr",
     "output_type": "stream",
     "text": [
      "  4%|▍         | 31/780 [01:10<24:38,  1.97s/it]"
     ]
    },
    {
     "name": "stdout",
     "output_type": "stream",
     "text": [
      "inputs\\large126.in: cost 89434.45334067105\n"
     ]
    },
    {
     "name": "stderr",
     "output_type": "stream",
     "text": [
      "  4%|▍         | 32/780 [01:12<24:17,  1.95s/it]"
     ]
    },
    {
     "name": "stdout",
     "output_type": "stream",
     "text": [
      "inputs\\large127.in: cost 204475.55563265018\n"
     ]
    },
    {
     "name": "stderr",
     "output_type": "stream",
     "text": [
      "  4%|▍         | 33/780 [01:13<23:46,  1.91s/it]"
     ]
    },
    {
     "name": "stdout",
     "output_type": "stream",
     "text": [
      "inputs\\large128.in: cost 526411.1644600176\n"
     ]
    },
    {
     "name": "stderr",
     "output_type": "stream",
     "text": [
      "  4%|▍         | 34/780 [01:16<25:01,  2.01s/it]"
     ]
    },
    {
     "name": "stdout",
     "output_type": "stream",
     "text": [
      "inputs\\large129.in: cost 432712.985745916\n"
     ]
    },
    {
     "name": "stderr",
     "output_type": "stream",
     "text": [
      "  4%|▍         | 35/780 [01:17<24:21,  1.96s/it]"
     ]
    },
    {
     "name": "stdout",
     "output_type": "stream",
     "text": [
      "inputs\\large13.in: cost 194410.81500331443\n"
     ]
    },
    {
     "name": "stderr",
     "output_type": "stream",
     "text": [
      "  5%|▍         | 36/780 [01:20<25:08,  2.03s/it]"
     ]
    },
    {
     "name": "stdout",
     "output_type": "stream",
     "text": [
      "inputs\\large130.in: cost 446711.4255934118\n"
     ]
    },
    {
     "name": "stderr",
     "output_type": "stream",
     "text": [
      "  5%|▍         | 37/780 [01:22<25:39,  2.07s/it]"
     ]
    },
    {
     "name": "stdout",
     "output_type": "stream",
     "text": [
      "inputs\\large131.in: cost 436805.5326867209\n"
     ]
    },
    {
     "name": "stderr",
     "output_type": "stream",
     "text": [
      "  5%|▍         | 38/780 [01:24<25:47,  2.09s/it]"
     ]
    },
    {
     "name": "stdout",
     "output_type": "stream",
     "text": [
      "inputs\\large132.in: cost 797041.235025721\n"
     ]
    },
    {
     "name": "stderr",
     "output_type": "stream",
     "text": [
      "  5%|▌         | 39/780 [01:26<24:45,  2.00s/it]"
     ]
    },
    {
     "name": "stdout",
     "output_type": "stream",
     "text": [
      "inputs\\large133.in: cost 63834.31591025766\n"
     ]
    },
    {
     "name": "stderr",
     "output_type": "stream",
     "text": [
      "  5%|▌         | 40/780 [01:28<25:34,  2.07s/it]"
     ]
    },
    {
     "name": "stdout",
     "output_type": "stream",
     "text": [
      "inputs\\large134.in: cost 466619.3958734721\n"
     ]
    },
    {
     "name": "stderr",
     "output_type": "stream",
     "text": [
      "  5%|▌         | 41/780 [01:30<26:09,  2.12s/it]"
     ]
    },
    {
     "name": "stdout",
     "output_type": "stream",
     "text": [
      "inputs\\large135.in: cost 507499.50356563355\n"
     ]
    },
    {
     "name": "stderr",
     "output_type": "stream",
     "text": [
      "  5%|▌         | 42/780 [01:32<25:07,  2.04s/it]"
     ]
    },
    {
     "name": "stdout",
     "output_type": "stream",
     "text": [
      "inputs\\large136.in: cost 120375.39587347208\n"
     ]
    },
    {
     "name": "stderr",
     "output_type": "stream",
     "text": [
      "  6%|▌         | 43/780 [01:34<24:38,  2.01s/it]"
     ]
    },
    {
     "name": "stdout",
     "output_type": "stream",
     "text": [
      "inputs\\large137.in: cost 325936.8150033144\n"
     ]
    },
    {
     "name": "stderr",
     "output_type": "stream",
     "text": [
      "  6%|▌         | 44/780 [01:36<25:59,  2.12s/it]"
     ]
    },
    {
     "name": "stdout",
     "output_type": "stream",
     "text": [
      "inputs\\large138.in: cost 595847.7813531726\n"
     ]
    },
    {
     "name": "stderr",
     "output_type": "stream",
     "text": [
      "  6%|▌         | 45/780 [01:38<24:55,  2.03s/it]"
     ]
    },
    {
     "name": "stdout",
     "output_type": "stream",
     "text": [
      "inputs\\large139.in: cost 208404.47988685634\n"
     ]
    },
    {
     "name": "stderr",
     "output_type": "stream",
     "text": [
      "  6%|▌         | 46/780 [01:40<24:00,  1.96s/it]"
     ]
    },
    {
     "name": "stdout",
     "output_type": "stream",
     "text": [
      "inputs\\large14.in: cost 332929.01765425364\n"
     ]
    },
    {
     "name": "stderr",
     "output_type": "stream",
     "text": [
      "  6%|▌         | 47/780 [01:42<24:35,  2.01s/it]"
     ]
    },
    {
     "name": "stdout",
     "output_type": "stream",
     "text": [
      "inputs\\large140.in: cost 568817.0425986584\n"
     ]
    },
    {
     "name": "stderr",
     "output_type": "stream",
     "text": [
      "  6%|▌         | 48/780 [01:44<23:51,  1.96s/it]"
     ]
    },
    {
     "name": "stdout",
     "output_type": "stream",
     "text": [
      "inputs\\large141.in: cost 80993.00044834877\n"
     ]
    },
    {
     "name": "stderr",
     "output_type": "stream",
     "text": [
      "  6%|▋         | 49/780 [01:46<24:44,  2.03s/it]"
     ]
    },
    {
     "name": "stdout",
     "output_type": "stream",
     "text": [
      "inputs\\large142.in: cost 807672.492991435\n"
     ]
    },
    {
     "name": "stderr",
     "output_type": "stream",
     "text": [
      "  6%|▋         | 50/780 [01:48<23:52,  1.96s/it]"
     ]
    },
    {
     "name": "stdout",
     "output_type": "stream",
     "text": [
      "inputs\\large143.in: cost 71043.31591025766\n"
     ]
    },
    {
     "name": "stderr",
     "output_type": "stream",
     "text": [
      "  7%|▋         | 51/780 [01:50<24:48,  2.04s/it]"
     ]
    },
    {
     "name": "stdout",
     "output_type": "stream",
     "text": [
      "inputs\\large144.in: cost 416821.4501643344\n"
     ]
    },
    {
     "name": "stderr",
     "output_type": "stream",
     "text": [
      "  7%|▋         | 52/780 [01:52<23:59,  1.98s/it]"
     ]
    },
    {
     "name": "stdout",
     "output_type": "stream",
     "text": [
      "inputs\\large145.in: cost 70510.78135317254\n"
     ]
    },
    {
     "name": "stderr",
     "output_type": "stream",
     "text": [
      "  7%|▋         | 53/780 [01:54<23:54,  1.97s/it]"
     ]
    },
    {
     "name": "stdout",
     "output_type": "stream",
     "text": [
      "inputs\\large146.in: cost 757745.1099969192\n"
     ]
    },
    {
     "name": "stderr",
     "output_type": "stream",
     "text": [
      "  7%|▋         | 54/780 [01:56<24:34,  2.03s/it]"
     ]
    },
    {
     "name": "stdout",
     "output_type": "stream",
     "text": [
      "inputs\\large147.in: cost 441490.4970132897\n"
     ]
    },
    {
     "name": "stderr",
     "output_type": "stream",
     "text": [
      "  7%|▋         | 55/780 [01:58<25:06,  2.08s/it]"
     ]
    },
    {
     "name": "stdout",
     "output_type": "stream",
     "text": [
      "inputs\\large148.in: cost 247970.5267765498\n"
     ]
    },
    {
     "name": "stderr",
     "output_type": "stream",
     "text": [
      "  7%|▋         | 56/780 [02:00<24:17,  2.01s/it]"
     ]
    },
    {
     "name": "stdout",
     "output_type": "stream",
     "text": [
      "inputs\\large149.in: cost 211470.42559341178\n"
     ]
    },
    {
     "name": "stderr",
     "output_type": "stream",
     "text": [
      "  7%|▋         | 57/780 [02:02<23:36,  1.96s/it]"
     ]
    },
    {
     "name": "stdout",
     "output_type": "stream",
     "text": [
      "inputs\\large15.in: cost 81606.00044834877\n"
     ]
    },
    {
     "name": "stderr",
     "output_type": "stream",
     "text": [
      "  7%|▋         | 58/780 [02:04<24:03,  2.00s/it]"
     ]
    },
    {
     "name": "stdout",
     "output_type": "stream",
     "text": [
      "inputs\\large150.in: cost 503709.00044834876\n"
     ]
    },
    {
     "name": "stderr",
     "output_type": "stream",
     "text": [
      "  8%|▊         | 59/780 [02:06<24:32,  2.04s/it]"
     ]
    },
    {
     "name": "stdout",
     "output_type": "stream",
     "text": [
      "inputs\\large151.in: cost 333863.31591025763\n"
     ]
    },
    {
     "name": "stderr",
     "output_type": "stream",
     "text": [
      "  8%|▊         | 60/780 [02:08<24:11,  2.02s/it]"
     ]
    },
    {
     "name": "stdout",
     "output_type": "stream",
     "text": [
      "inputs\\large152.in: cost 136058.3958734721\n"
     ]
    },
    {
     "name": "stderr",
     "output_type": "stream",
     "text": [
      "  8%|▊         | 61/780 [02:10<23:43,  1.98s/it]"
     ]
    },
    {
     "name": "stdout",
     "output_type": "stream",
     "text": [
      "inputs\\large153.in: cost 380685.4501643344\n"
     ]
    },
    {
     "name": "stderr",
     "output_type": "stream",
     "text": [
      "  8%|▊         | 62/780 [02:12<23:07,  1.93s/it]"
     ]
    },
    {
     "name": "stdout",
     "output_type": "stream",
     "text": [
      "inputs\\large154.in: cost 211470.45334067105\n"
     ]
    },
    {
     "name": "stderr",
     "output_type": "stream",
     "text": [
      "  8%|▊         | 63/780 [02:14<23:55,  2.00s/it]"
     ]
    },
    {
     "name": "stdout",
     "output_type": "stream",
     "text": [
      "inputs\\large155.in: cost 699189.0004483488\n"
     ]
    },
    {
     "name": "stderr",
     "output_type": "stream",
     "text": [
      "  8%|▊         | 64/780 [02:16<24:02,  2.01s/it]"
     ]
    },
    {
     "name": "stdout",
     "output_type": "stream",
     "text": [
      "inputs\\large156.in: cost 129460.81500331442\n"
     ]
    },
    {
     "name": "stderr",
     "output_type": "stream",
     "text": [
      "  8%|▊         | 65/780 [02:19<26:09,  2.19s/it]"
     ]
    },
    {
     "name": "stdout",
     "output_type": "stream",
     "text": [
      "inputs\\large157.in: cost 445327.1444990808\n"
     ]
    },
    {
     "name": "stderr",
     "output_type": "stream",
     "text": [
      "  8%|▊         | 66/780 [02:21<27:42,  2.33s/it]"
     ]
    },
    {
     "name": "stdout",
     "output_type": "stream",
     "text": [
      "inputs\\large158.in: cost 246408.49299143502\n"
     ]
    },
    {
     "name": "stderr",
     "output_type": "stream",
     "text": [
      "  9%|▊         | 67/780 [02:23<26:38,  2.24s/it]"
     ]
    },
    {
     "name": "stdout",
     "output_type": "stream",
     "text": [
      "inputs\\large159.in: cost 332508.985745916\n"
     ]
    },
    {
     "name": "stderr",
     "output_type": "stream",
     "text": [
      "  9%|▊         | 68/780 [02:26<26:05,  2.20s/it]"
     ]
    },
    {
     "name": "stdout",
     "output_type": "stream",
     "text": [
      "inputs\\large16.in: cost 215664.49299143502\n"
     ]
    },
    {
     "name": "stderr",
     "output_type": "stream",
     "text": [
      "  9%|▉         | 69/780 [02:28<26:08,  2.21s/it]"
     ]
    },
    {
     "name": "stdout",
     "output_type": "stream",
     "text": [
      "inputs\\large160.in: cost 918842.3159102576\n"
     ]
    },
    {
     "name": "stderr",
     "output_type": "stream",
     "text": [
      "  9%|▉         | 70/780 [02:30<26:26,  2.23s/it]"
     ]
    },
    {
     "name": "stdout",
     "output_type": "stream",
     "text": [
      "inputs\\large161.in: cost 228768.0004483488\n"
     ]
    },
    {
     "name": "stderr",
     "output_type": "stream",
     "text": [
      "  9%|▉         | 71/780 [02:32<27:00,  2.29s/it]"
     ]
    },
    {
     "name": "stdout",
     "output_type": "stream",
     "text": [
      "inputs\\large162.in: cost 821478.1644600176\n"
     ]
    },
    {
     "name": "stderr",
     "output_type": "stream",
     "text": [
      "  9%|▉         | 72/780 [02:35<28:24,  2.41s/it]"
     ]
    },
    {
     "name": "stdout",
     "output_type": "stream",
     "text": [
      "inputs\\large163.in: cost 787392.1099969192\n"
     ]
    },
    {
     "name": "stderr",
     "output_type": "stream",
     "text": [
      "  9%|▉         | 73/780 [02:38<30:44,  2.61s/it]"
     ]
    },
    {
     "name": "stdout",
     "output_type": "stream",
     "text": [
      "inputs\\large164.in: cost 672664.7813531726\n"
     ]
    },
    {
     "name": "stderr",
     "output_type": "stream",
     "text": [
      "  9%|▉         | 74/780 [02:41<29:58,  2.55s/it]"
     ]
    },
    {
     "name": "stdout",
     "output_type": "stream",
     "text": [
      "inputs\\large165.in: cost 459034.3958734721\n"
     ]
    },
    {
     "name": "stderr",
     "output_type": "stream",
     "text": [
      " 10%|▉         | 75/780 [02:43<29:22,  2.50s/it]"
     ]
    },
    {
     "name": "stdout",
     "output_type": "stream",
     "text": [
      "inputs\\large166.in: cost 336731.3609956413\n"
     ]
    },
    {
     "name": "stderr",
     "output_type": "stream",
     "text": [
      " 10%|▉         | 76/780 [02:45<29:15,  2.49s/it]"
     ]
    },
    {
     "name": "stdout",
     "output_type": "stream",
     "text": [
      "inputs\\large167.in: cost 661019.8150033144\n"
     ]
    },
    {
     "name": "stderr",
     "output_type": "stream",
     "text": [
      " 10%|▉         | 77/780 [02:48<28:06,  2.40s/it]"
     ]
    },
    {
     "name": "stdout",
     "output_type": "stream",
     "text": [
      "inputs\\large168.in: cost 346201.4798868564\n"
     ]
    },
    {
     "name": "stderr",
     "output_type": "stream",
     "text": [
      " 10%|█         | 78/780 [02:50<28:13,  2.41s/it]"
     ]
    },
    {
     "name": "stdout",
     "output_type": "stream",
     "text": [
      "inputs\\large169.in: cost 499106.4798868564\n"
     ]
    },
    {
     "name": "stderr",
     "output_type": "stream",
     "text": [
      " 10%|█         | 79/780 [02:53<28:08,  2.41s/it]"
     ]
    },
    {
     "name": "stdout",
     "output_type": "stream",
     "text": [
      "inputs\\large17.in: cost 477057.4236053965\n"
     ]
    },
    {
     "name": "stderr",
     "output_type": "stream",
     "text": [
      " 10%|█         | 80/780 [02:55<26:39,  2.28s/it]"
     ]
    },
    {
     "name": "stdout",
     "output_type": "stream",
     "text": [
      "inputs\\large170.in: cost 357755.985745916\n"
     ]
    },
    {
     "name": "stderr",
     "output_type": "stream",
     "text": [
      " 10%|█         | 81/780 [02:56<25:29,  2.19s/it]"
     ]
    },
    {
     "name": "stdout",
     "output_type": "stream",
     "text": [
      "inputs\\large171.in: cost 55002.78135317254\n"
     ]
    },
    {
     "name": "stderr",
     "output_type": "stream",
     "text": [
      " 11%|█         | 82/780 [02:58<24:39,  2.12s/it]"
     ]
    },
    {
     "name": "stdout",
     "output_type": "stream",
     "text": [
      "inputs\\large172.in: cost 154626.3313314997\n"
     ]
    },
    {
     "name": "stderr",
     "output_type": "stream",
     "text": [
      " 11%|█         | 83/780 [03:00<24:14,  2.09s/it]"
     ]
    },
    {
     "name": "stdout",
     "output_type": "stream",
     "text": [
      "inputs\\large173.in: cost 327525.985745916\n"
     ]
    },
    {
     "name": "stderr",
     "output_type": "stream",
     "text": [
      " 11%|█         | 84/780 [03:03<25:22,  2.19s/it]"
     ]
    },
    {
     "name": "stdout",
     "output_type": "stream",
     "text": [
      "inputs\\large174.in: cost 603220.9489779717\n"
     ]
    },
    {
     "name": "stderr",
     "output_type": "stream",
     "text": [
      " 11%|█         | 85/780 [03:05<25:26,  2.20s/it]"
     ]
    },
    {
     "name": "stdout",
     "output_type": "stream",
     "text": [
      "inputs\\large175.in: cost 581490.0464760172\n"
     ]
    },
    {
     "name": "stderr",
     "output_type": "stream",
     "text": [
      " 11%|█         | 86/780 [03:07<24:42,  2.14s/it]"
     ]
    },
    {
     "name": "stdout",
     "output_type": "stream",
     "text": [
      "inputs\\large176.in: cost 163847.81500331443\n"
     ]
    },
    {
     "name": "stderr",
     "output_type": "stream",
     "text": [
      " 11%|█         | 87/780 [03:09<25:25,  2.20s/it]"
     ]
    },
    {
     "name": "stdout",
     "output_type": "stream",
     "text": [
      "inputs\\large177.in: cost 95695.42559341177\n"
     ]
    },
    {
     "name": "stderr",
     "output_type": "stream",
     "text": [
      " 11%|█▏        | 88/780 [03:12<25:05,  2.18s/it]"
     ]
    },
    {
     "name": "stdout",
     "output_type": "stream",
     "text": [
      "inputs\\large178.in: cost 79231.45334067105\n"
     ]
    },
    {
     "name": "stderr",
     "output_type": "stream",
     "text": [
      " 11%|█▏        | 89/780 [03:14<25:07,  2.18s/it]"
     ]
    },
    {
     "name": "stdout",
     "output_type": "stream",
     "text": [
      "inputs\\large179.in: cost 111642.31591025766\n"
     ]
    },
    {
     "name": "stderr",
     "output_type": "stream",
     "text": [
      " 12%|█▏        | 90/780 [03:16<26:20,  2.29s/it]"
     ]
    },
    {
     "name": "stdout",
     "output_type": "stream",
     "text": [
      "inputs\\large18.in: cost 537705.3159102576\n"
     ]
    },
    {
     "name": "stderr",
     "output_type": "stream",
     "text": [
      " 12%|█▏        | 91/780 [03:19<26:26,  2.30s/it]"
     ]
    },
    {
     "name": "stdout",
     "output_type": "stream",
     "text": [
      "inputs\\large180.in: cost 810326.1644600176\n"
     ]
    },
    {
     "name": "stderr",
     "output_type": "stream",
     "text": [
      " 12%|█▏        | 92/780 [03:22<28:24,  2.48s/it]"
     ]
    },
    {
     "name": "stdout",
     "output_type": "stream",
     "text": [
      "inputs\\large181.in: cost 807965.492991435\n"
     ]
    },
    {
     "name": "stderr",
     "output_type": "stream",
     "text": [
      " 12%|█▏        | 93/780 [03:24<28:58,  2.53s/it]"
     ]
    },
    {
     "name": "stdout",
     "output_type": "stream",
     "text": [
      "inputs\\large182.in: cost 1007776.7813531726\n"
     ]
    },
    {
     "name": "stderr",
     "output_type": "stream",
     "text": [
      " 12%|█▏        | 94/780 [03:26<27:20,  2.39s/it]"
     ]
    },
    {
     "name": "stdout",
     "output_type": "stream",
     "text": [
      "inputs\\large183.in: cost 674478.0789286669\n"
     ]
    },
    {
     "name": "stderr",
     "output_type": "stream",
     "text": [
      " 12%|█▏        | 95/780 [03:28<26:26,  2.32s/it]"
     ]
    },
    {
     "name": "stdout",
     "output_type": "stream",
     "text": [
      "inputs\\large184.in: cost 410097.0464760172\n"
     ]
    },
    {
     "name": "stderr",
     "output_type": "stream",
     "text": [
      " 12%|█▏        | 96/780 [03:31<26:13,  2.30s/it]"
     ]
    },
    {
     "name": "stdout",
     "output_type": "stream",
     "text": [
      "inputs\\large185.in: cost 440926.4738097386\n"
     ]
    },
    {
     "name": "stderr",
     "output_type": "stream",
     "text": [
      " 12%|█▏        | 97/780 [03:33<25:44,  2.26s/it]"
     ]
    },
    {
     "name": "stdout",
     "output_type": "stream",
     "text": [
      "inputs\\large186.in: cost 301457.31591025763\n"
     ]
    },
    {
     "name": "stderr",
     "output_type": "stream",
     "text": [
      " 13%|█▎        | 98/780 [03:35<26:01,  2.29s/it]"
     ]
    },
    {
     "name": "stdout",
     "output_type": "stream",
     "text": [
      "inputs\\large187.in: cost 555992.7813531726\n"
     ]
    },
    {
     "name": "stderr",
     "output_type": "stream",
     "text": [
      " 13%|█▎        | 99/780 [03:37<25:58,  2.29s/it]"
     ]
    },
    {
     "name": "stdout",
     "output_type": "stream",
     "text": [
      "inputs\\large188.in: cost 189643.31591025766\n"
     ]
    },
    {
     "name": "stderr",
     "output_type": "stream",
     "text": [
      " 13%|█▎        | 100/780 [03:39<24:59,  2.20s/it]"
     ]
    },
    {
     "name": "stdout",
     "output_type": "stream",
     "text": [
      "inputs\\large189.in: cost 107245.81500331442\n"
     ]
    },
    {
     "name": "stderr",
     "output_type": "stream",
     "text": [
      " 13%|█▎        | 101/780 [03:42<25:01,  2.21s/it]"
     ]
    },
    {
     "name": "stdout",
     "output_type": "stream",
     "text": [
      "inputs\\large19.in: cost 648115.5267765499\n"
     ]
    },
    {
     "name": "stderr",
     "output_type": "stream",
     "text": [
      " 13%|█▎        | 102/780 [03:44<25:14,  2.23s/it]"
     ]
    },
    {
     "name": "stdout",
     "output_type": "stream",
     "text": [
      "inputs\\large190.in: cost 1080354.8150033145\n"
     ]
    },
    {
     "name": "stderr",
     "output_type": "stream",
     "text": [
      " 13%|█▎        | 103/780 [03:46<24:34,  2.18s/it]"
     ]
    },
    {
     "name": "stdout",
     "output_type": "stream",
     "text": [
      "inputs\\large191.in: cost 538478.1644600176\n"
     ]
    },
    {
     "name": "stderr",
     "output_type": "stream",
     "text": [
      " 13%|█▎        | 104/780 [03:48<24:54,  2.21s/it]"
     ]
    },
    {
     "name": "stdout",
     "output_type": "stream",
     "text": [
      "inputs\\large192.in: cost 658512.0464760172\n"
     ]
    },
    {
     "name": "stderr",
     "output_type": "stream",
     "text": [
      " 13%|█▎        | 105/780 [03:50<24:07,  2.14s/it]"
     ]
    },
    {
     "name": "stdout",
     "output_type": "stream",
     "text": [
      "inputs\\large193.in: cost 68540.81500331442\n"
     ]
    },
    {
     "name": "stderr",
     "output_type": "stream",
     "text": [
      " 14%|█▎        | 106/780 [03:52<23:43,  2.11s/it]"
     ]
    },
    {
     "name": "stdout",
     "output_type": "stream",
     "text": [
      "inputs\\large194.in: cost 251617.57978988887\n"
     ]
    },
    {
     "name": "stderr",
     "output_type": "stream",
     "text": [
      " 14%|█▎        | 107/780 [03:55<24:33,  2.19s/it]"
     ]
    },
    {
     "name": "stdout",
     "output_type": "stream",
     "text": [
      "inputs\\large195.in: cost 468674.3952374941\n"
     ]
    },
    {
     "name": "stderr",
     "output_type": "stream",
     "text": [
      " 14%|█▍        | 108/780 [03:57<24:32,  2.19s/it]"
     ]
    },
    {
     "name": "stdout",
     "output_type": "stream",
     "text": [
      "inputs\\large196.in: cost 497048.4798868564\n"
     ]
    },
    {
     "name": "stderr",
     "output_type": "stream",
     "text": [
      " 14%|█▍        | 109/780 [03:59<24:29,  2.19s/it]"
     ]
    },
    {
     "name": "stdout",
     "output_type": "stream",
     "text": [
      "inputs\\large197.in: cost 346961.0425986584\n"
     ]
    },
    {
     "name": "stderr",
     "output_type": "stream",
     "text": [
      " 14%|█▍        | 110/780 [04:01<24:47,  2.22s/it]"
     ]
    },
    {
     "name": "stdout",
     "output_type": "stream",
     "text": [
      "inputs\\large198.in: cost 793479.8150033144\n"
     ]
    },
    {
     "name": "stderr",
     "output_type": "stream",
     "text": [
      " 14%|█▍        | 111/780 [04:03<24:27,  2.19s/it]"
     ]
    },
    {
     "name": "stdout",
     "output_type": "stream",
     "text": [
      "inputs\\large199.in: cost 248370.42360539656\n"
     ]
    },
    {
     "name": "stderr",
     "output_type": "stream",
     "text": [
      " 14%|█▍        | 112/780 [04:06<24:50,  2.23s/it]"
     ]
    },
    {
     "name": "stdout",
     "output_type": "stream",
     "text": [
      "inputs\\large2.in: cost 852846.985745916\n"
     ]
    },
    {
     "name": "stderr",
     "output_type": "stream",
     "text": [
      " 14%|█▍        | 113/780 [04:08<24:15,  2.18s/it]"
     ]
    },
    {
     "name": "stdout",
     "output_type": "stream",
     "text": [
      "inputs\\large20.in: cost 317729.5326867209\n"
     ]
    },
    {
     "name": "stderr",
     "output_type": "stream",
     "text": [
      " 15%|█▍        | 114/780 [04:10<24:06,  2.17s/it]"
     ]
    },
    {
     "name": "stdout",
     "output_type": "stream",
     "text": [
      "inputs\\large200.in: cost 236015.3958734721\n"
     ]
    },
    {
     "name": "stderr",
     "output_type": "stream",
     "text": [
      " 15%|█▍        | 115/780 [04:12<24:07,  2.18s/it]"
     ]
    },
    {
     "name": "stdout",
     "output_type": "stream",
     "text": [
      "inputs\\large201.in: cost 277967.31591025763\n"
     ]
    },
    {
     "name": "stderr",
     "output_type": "stream",
     "text": [
      " 15%|█▍        | 116/780 [04:14<24:25,  2.21s/it]"
     ]
    },
    {
     "name": "stdout",
     "output_type": "stream",
     "text": [
      "inputs\\large202.in: cost 612675.4798868564\n"
     ]
    },
    {
     "name": "stderr",
     "output_type": "stream",
     "text": [
      " 15%|█▌        | 117/780 [04:16<23:16,  2.11s/it]"
     ]
    },
    {
     "name": "stdout",
     "output_type": "stream",
     "text": [
      "inputs\\large203.in: cost 253460.81500331443\n"
     ]
    },
    {
     "name": "stderr",
     "output_type": "stream",
     "text": [
      " 15%|█▌        | 118/780 [04:18<22:51,  2.07s/it]"
     ]
    },
    {
     "name": "stdout",
     "output_type": "stream",
     "text": [
      "inputs\\large204.in: cost 525000.1891324173\n"
     ]
    },
    {
     "name": "stderr",
     "output_type": "stream",
     "text": [
      " 15%|█▌        | 119/780 [04:21<23:50,  2.16s/it]"
     ]
    },
    {
     "name": "stdout",
     "output_type": "stream",
     "text": [
      "inputs\\large205.in: cost 573788.7813531726\n"
     ]
    },
    {
     "name": "stderr",
     "output_type": "stream",
     "text": [
      " 15%|█▌        | 120/780 [04:23<23:53,  2.17s/it]"
     ]
    },
    {
     "name": "stdout",
     "output_type": "stream",
     "text": [
      "inputs\\large206.in: cost 122540.39523749404\n"
     ]
    },
    {
     "name": "stderr",
     "output_type": "stream",
     "text": [
      " 16%|█▌        | 121/780 [04:25<24:44,  2.25s/it]"
     ]
    },
    {
     "name": "stdout",
     "output_type": "stream",
     "text": [
      "inputs\\large207.in: cost 147336.45423265288\n"
     ]
    },
    {
     "name": "stderr",
     "output_type": "stream",
     "text": [
      " 16%|█▌        | 122/780 [04:28<25:05,  2.29s/it]"
     ]
    },
    {
     "name": "stdout",
     "output_type": "stream",
     "text": [
      "inputs\\large208.in: cost 337589.0464760172\n"
     ]
    },
    {
     "name": "stderr",
     "output_type": "stream",
     "text": [
      " 16%|█▌        | 123/780 [04:30<24:06,  2.20s/it]"
     ]
    },
    {
     "name": "stdout",
     "output_type": "stream",
     "text": [
      "inputs\\large209.in: cost 115111.31591025766\n"
     ]
    },
    {
     "name": "stderr",
     "output_type": "stream",
     "text": [
      " 16%|█▌        | 124/780 [04:32<23:28,  2.15s/it]"
     ]
    },
    {
     "name": "stdout",
     "output_type": "stream",
     "text": [
      "inputs\\large21.in: cost 85531.00044834877\n"
     ]
    },
    {
     "name": "stderr",
     "output_type": "stream",
     "text": [
      " 16%|█▌        | 125/780 [04:34<23:29,  2.15s/it]"
     ]
    },
    {
     "name": "stdout",
     "output_type": "stream",
     "text": [
      "inputs\\large210.in: cost 329218.01765425364\n"
     ]
    },
    {
     "name": "stderr",
     "output_type": "stream",
     "text": [
      " 16%|█▌        | 126/780 [04:37<25:19,  2.32s/it]"
     ]
    },
    {
     "name": "stdout",
     "output_type": "stream",
     "text": [
      "inputs\\large211.in: cost 463535.4255934118\n"
     ]
    },
    {
     "name": "stderr",
     "output_type": "stream",
     "text": [
      " 16%|█▋        | 127/780 [04:39<26:33,  2.44s/it]"
     ]
    },
    {
     "name": "stdout",
     "output_type": "stream",
     "text": [
      "inputs\\large212.in: cost 378290.31591025763\n"
     ]
    },
    {
     "name": "stderr",
     "output_type": "stream",
     "text": [
      " 16%|█▋        | 128/780 [04:42<26:21,  2.43s/it]"
     ]
    },
    {
     "name": "stdout",
     "output_type": "stream",
     "text": [
      "inputs\\large213.in: cost 801767.2125794956\n"
     ]
    },
    {
     "name": "stderr",
     "output_type": "stream",
     "text": [
      " 17%|█▋        | 129/780 [04:44<26:12,  2.42s/it]"
     ]
    },
    {
     "name": "stdout",
     "output_type": "stream",
     "text": [
      "inputs\\large214.in: cost 716866.4255934118\n"
     ]
    },
    {
     "name": "stderr",
     "output_type": "stream",
     "text": [
      " 17%|█▋        | 130/780 [04:46<25:35,  2.36s/it]"
     ]
    },
    {
     "name": "stdout",
     "output_type": "stream",
     "text": [
      "inputs\\large215.in: cost 648085.2566357988\n"
     ]
    },
    {
     "name": "stderr",
     "output_type": "stream",
     "text": [
      " 17%|█▋        | 131/780 [04:48<24:26,  2.26s/it]"
     ]
    },
    {
     "name": "stdout",
     "output_type": "stream",
     "text": [
      "inputs\\large216.in: cost 526278.1382425799\n"
     ]
    },
    {
     "name": "stderr",
     "output_type": "stream",
     "text": [
      " 17%|█▋        | 132/780 [04:51<24:39,  2.28s/it]"
     ]
    },
    {
     "name": "stdout",
     "output_type": "stream",
     "text": [
      "inputs\\large217.in: cost 490584.45423265285\n"
     ]
    },
    {
     "name": "stderr",
     "output_type": "stream",
     "text": [
      " 17%|█▋        | 133/780 [04:53<23:59,  2.23s/it]"
     ]
    },
    {
     "name": "stdout",
     "output_type": "stream",
     "text": [
      "inputs\\large218.in: cost 74344.00044834877\n"
     ]
    },
    {
     "name": "stderr",
     "output_type": "stream",
     "text": [
      " 17%|█▋        | 134/780 [04:55<24:03,  2.23s/it]"
     ]
    },
    {
     "name": "stdout",
     "output_type": "stream",
     "text": [
      "inputs\\large219.in: cost 655533.0004483488\n"
     ]
    },
    {
     "name": "stderr",
     "output_type": "stream",
     "text": [
      " 17%|█▋        | 135/780 [04:57<23:31,  2.19s/it]"
     ]
    },
    {
     "name": "stdout",
     "output_type": "stream",
     "text": [
      "inputs\\large22.in: cost 331808.01765425364\n"
     ]
    },
    {
     "name": "stderr",
     "output_type": "stream",
     "text": [
      " 17%|█▋        | 136/780 [04:59<23:44,  2.21s/it]"
     ]
    },
    {
     "name": "stdout",
     "output_type": "stream",
     "text": [
      "inputs\\large220.in: cost 614584.0176542536\n"
     ]
    },
    {
     "name": "stderr",
     "output_type": "stream",
     "text": [
      " 18%|█▊        | 137/780 [05:02<23:34,  2.20s/it]"
     ]
    },
    {
     "name": "stdout",
     "output_type": "stream",
     "text": [
      "inputs\\large221.in: cost 364057.44943837204\n"
     ]
    },
    {
     "name": "stderr",
     "output_type": "stream",
     "text": [
      " 18%|█▊        | 138/780 [05:04<24:21,  2.28s/it]"
     ]
    },
    {
     "name": "stdout",
     "output_type": "stream",
     "text": [
      "inputs\\large222.in: cost 774805.5797898889\n"
     ]
    },
    {
     "name": "stderr",
     "output_type": "stream",
     "text": [
      " 18%|█▊        | 139/780 [05:07<25:39,  2.40s/it]"
     ]
    },
    {
     "name": "stdout",
     "output_type": "stream",
     "text": [
      "inputs\\large223.in: cost 549573.1891324173\n"
     ]
    },
    {
     "name": "stderr",
     "output_type": "stream",
     "text": [
      " 18%|█▊        | 140/780 [05:09<26:26,  2.48s/it]"
     ]
    },
    {
     "name": "stdout",
     "output_type": "stream",
     "text": [
      "inputs\\large224.in: cost 463608.985745916\n"
     ]
    },
    {
     "name": "stderr",
     "output_type": "stream",
     "text": [
      " 18%|█▊        | 141/780 [05:12<26:31,  2.49s/it]"
     ]
    },
    {
     "name": "stdout",
     "output_type": "stream",
     "text": [
      "inputs\\large225.in: cost 139575.45423265288\n"
     ]
    },
    {
     "name": "stderr",
     "output_type": "stream",
     "text": [
      " 18%|█▊        | 142/780 [05:14<25:26,  2.39s/it]"
     ]
    },
    {
     "name": "stdout",
     "output_type": "stream",
     "text": [
      "inputs\\large226.in: cost 93143.04259865842\n"
     ]
    },
    {
     "name": "stderr",
     "output_type": "stream",
     "text": [
      " 18%|█▊        | 143/780 [05:16<23:57,  2.26s/it]"
     ]
    },
    {
     "name": "stdout",
     "output_type": "stream",
     "text": [
      "inputs\\large227.in: cost 70509.78135317254\n"
     ]
    },
    {
     "name": "stderr",
     "output_type": "stream",
     "text": [
      " 18%|█▊        | 144/780 [05:19<24:51,  2.35s/it]"
     ]
    },
    {
     "name": "stdout",
     "output_type": "stream",
     "text": [
      "inputs\\large228.in: cost 69306.47918519055\n"
     ]
    },
    {
     "name": "stderr",
     "output_type": "stream",
     "text": [
      " 19%|█▊        | 145/780 [05:21<24:08,  2.28s/it]"
     ]
    },
    {
     "name": "stdout",
     "output_type": "stream",
     "text": [
      "inputs\\large229.in: cost 97044.00044834877\n"
     ]
    },
    {
     "name": "stderr",
     "output_type": "stream",
     "text": [
      " 19%|█▊        | 146/780 [05:23<23:27,  2.22s/it]"
     ]
    },
    {
     "name": "stdout",
     "output_type": "stream",
     "text": [
      "inputs\\large23.in: cost 106892.00044834877\n"
     ]
    },
    {
     "name": "stderr",
     "output_type": "stream",
     "text": [
      " 19%|█▉        | 147/780 [05:25<23:24,  2.22s/it]"
     ]
    },
    {
     "name": "stdout",
     "output_type": "stream",
     "text": [
      "inputs\\large230.in: cost 77432.81500331442\n"
     ]
    },
    {
     "name": "stderr",
     "output_type": "stream",
     "text": [
      " 19%|█▉        | 148/780 [05:27<22:55,  2.18s/it]"
     ]
    },
    {
     "name": "stdout",
     "output_type": "stream",
     "text": [
      "inputs\\large231.in: cost 73936.45334067105\n"
     ]
    },
    {
     "name": "stderr",
     "output_type": "stream",
     "text": [
      " 19%|█▉        | 149/780 [05:29<23:02,  2.19s/it]"
     ]
    },
    {
     "name": "stdout",
     "output_type": "stream",
     "text": [
      "inputs\\large232.in: cost 318172.4798868564\n"
     ]
    },
    {
     "name": "stderr",
     "output_type": "stream",
     "text": [
      " 19%|█▉        | 150/780 [05:32<23:50,  2.27s/it]"
     ]
    },
    {
     "name": "stdout",
     "output_type": "stream",
     "text": [
      "inputs\\large233.in: cost 450090.492991435\n"
     ]
    },
    {
     "name": "stderr",
     "output_type": "stream",
     "text": [
      " 19%|█▉        | 151/780 [05:34<24:22,  2.33s/it]"
     ]
    },
    {
     "name": "stdout",
     "output_type": "stream",
     "text": [
      "inputs\\large234.in: cost 750141.4798868564\n"
     ]
    },
    {
     "name": "stderr",
     "output_type": "stream",
     "text": [
      " 19%|█▉        | 152/780 [05:36<23:19,  2.23s/it]"
     ]
    },
    {
     "name": "stdout",
     "output_type": "stream",
     "text": [
      "inputs\\large235.in: cost 280805.4798868564\n"
     ]
    },
    {
     "name": "stderr",
     "output_type": "stream",
     "text": [
      " 20%|█▉        | 153/780 [05:38<22:35,  2.16s/it]"
     ]
    },
    {
     "name": "stdout",
     "output_type": "stream",
     "text": [
      "inputs\\large236.in: cost 147842.52604551445\n"
     ]
    },
    {
     "name": "stderr",
     "output_type": "stream",
     "text": [
      " 20%|█▉        | 154/780 [05:40<22:48,  2.19s/it]"
     ]
    },
    {
     "name": "stdout",
     "output_type": "stream",
     "text": [
      "inputs\\large237.in: cost 462178.4255934118\n"
     ]
    },
    {
     "name": "stderr",
     "output_type": "stream",
     "text": [
      " 20%|█▉        | 155/780 [05:43<22:19,  2.14s/it]"
     ]
    },
    {
     "name": "stdout",
     "output_type": "stream",
     "text": [
      "inputs\\large238.in: cost 70922.81500331442\n"
     ]
    },
    {
     "name": "stderr",
     "output_type": "stream",
     "text": [
      " 20%|██        | 156/780 [05:44<21:33,  2.07s/it]"
     ]
    },
    {
     "name": "stdout",
     "output_type": "stream",
     "text": [
      "inputs\\large239.in: cost 149644.49299143502\n"
     ]
    },
    {
     "name": "stderr",
     "output_type": "stream",
     "text": [
      " 20%|██        | 157/780 [05:47<22:08,  2.13s/it]"
     ]
    },
    {
     "name": "stdout",
     "output_type": "stream",
     "text": [
      "inputs\\large24.in: cost 595838.7813531726\n"
     ]
    },
    {
     "name": "stderr",
     "output_type": "stream",
     "text": [
      " 20%|██        | 158/780 [05:49<22:38,  2.18s/it]"
     ]
    },
    {
     "name": "stdout",
     "output_type": "stream",
     "text": [
      "inputs\\large240.in: cost 486916.0425986584\n"
     ]
    },
    {
     "name": "stderr",
     "output_type": "stream",
     "text": [
      " 20%|██        | 159/780 [05:51<22:18,  2.16s/it]"
     ]
    },
    {
     "name": "stdout",
     "output_type": "stream",
     "text": [
      "inputs\\large241.in: cost 164462.49299143502\n"
     ]
    },
    {
     "name": "stderr",
     "output_type": "stream",
     "text": [
      " 21%|██        | 160/780 [05:53<22:36,  2.19s/it]"
     ]
    },
    {
     "name": "stdout",
     "output_type": "stream",
     "text": [
      "inputs\\large242.in: cost 625909.985745916\n"
     ]
    },
    {
     "name": "stderr",
     "output_type": "stream",
     "text": [
      " 21%|██        | 161/780 [05:55<22:07,  2.14s/it]"
     ]
    },
    {
     "name": "stdout",
     "output_type": "stream",
     "text": [
      "inputs\\large243.in: cost 70642.31591025766\n"
     ]
    },
    {
     "name": "stderr",
     "output_type": "stream",
     "text": [
      " 21%|██        | 162/780 [05:58<22:11,  2.15s/it]"
     ]
    },
    {
     "name": "stdout",
     "output_type": "stream",
     "text": [
      "inputs\\large244.in: cost 341743.8150033144\n"
     ]
    },
    {
     "name": "stderr",
     "output_type": "stream",
     "text": [
      " 21%|██        | 163/780 [06:00<21:27,  2.09s/it]"
     ]
    },
    {
     "name": "stdout",
     "output_type": "stream",
     "text": [
      "inputs\\large245.in: cost 66390.42559341177\n"
     ]
    },
    {
     "name": "stderr",
     "output_type": "stream",
     "text": [
      " 21%|██        | 164/780 [06:01<21:03,  2.05s/it]"
     ]
    },
    {
     "name": "stdout",
     "output_type": "stream",
     "text": [
      "inputs\\large246.in: cost 81868.81500331442\n"
     ]
    },
    {
     "name": "stderr",
     "output_type": "stream",
     "text": [
      " 21%|██        | 165/780 [06:04<21:16,  2.08s/it]"
     ]
    },
    {
     "name": "stdout",
     "output_type": "stream",
     "text": [
      "inputs\\large247.in: cost 163671.42559341178\n"
     ]
    },
    {
     "name": "stderr",
     "output_type": "stream",
     "text": [
      " 21%|██▏       | 166/780 [06:06<21:57,  2.15s/it]"
     ]
    },
    {
     "name": "stdout",
     "output_type": "stream",
     "text": [
      "inputs\\large248.in: cost 478935.4533406711\n"
     ]
    },
    {
     "name": "stderr",
     "output_type": "stream",
     "text": [
      " 21%|██▏       | 167/780 [06:08<21:27,  2.10s/it]"
     ]
    },
    {
     "name": "stdout",
     "output_type": "stream",
     "text": [
      "inputs\\large249.in: cost 95112.78135317254\n"
     ]
    },
    {
     "name": "stderr",
     "output_type": "stream",
     "text": [
      " 22%|██▏       | 168/780 [06:10<21:27,  2.10s/it]"
     ]
    },
    {
     "name": "stdout",
     "output_type": "stream",
     "text": [
      "inputs\\large25.in: cost 105483.04259865842\n"
     ]
    },
    {
     "name": "stderr",
     "output_type": "stream",
     "text": [
      " 22%|██▏       | 169/780 [06:12<22:12,  2.18s/it]"
     ]
    },
    {
     "name": "stdout",
     "output_type": "stream",
     "text": [
      "inputs\\large250.in: cost 531083.395237494\n"
     ]
    },
    {
     "name": "stderr",
     "output_type": "stream",
     "text": [
      " 22%|██▏       | 170/780 [06:15<22:54,  2.25s/it]"
     ]
    },
    {
     "name": "stdout",
     "output_type": "stream",
     "text": [
      "inputs\\large251.in: cost 122497.5816074888\n"
     ]
    },
    {
     "name": "stderr",
     "output_type": "stream",
     "text": [
      " 22%|██▏       | 171/780 [06:17<23:17,  2.30s/it]"
     ]
    },
    {
     "name": "stdout",
     "output_type": "stream",
     "text": [
      "inputs\\large252.in: cost 477558.45423265285\n"
     ]
    },
    {
     "name": "stderr",
     "output_type": "stream",
     "text": [
      " 22%|██▏       | 172/780 [06:19<22:56,  2.26s/it]"
     ]
    },
    {
     "name": "stdout",
     "output_type": "stream",
     "text": [
      "inputs\\large253.in: cost 446072.492991435\n"
     ]
    },
    {
     "name": "stderr",
     "output_type": "stream",
     "text": [
      " 22%|██▏       | 173/780 [06:22<22:35,  2.23s/it]"
     ]
    },
    {
     "name": "stdout",
     "output_type": "stream",
     "text": [
      "inputs\\large254.in: cost 677355.985745916\n"
     ]
    },
    {
     "name": "stderr",
     "output_type": "stream",
     "text": [
      " 22%|██▏       | 174/780 [06:24<22:23,  2.22s/it]"
     ]
    },
    {
     "name": "stdout",
     "output_type": "stream",
     "text": [
      "inputs\\large255.in: cost 351357.31591025763\n"
     ]
    },
    {
     "name": "stderr",
     "output_type": "stream",
     "text": [
      " 22%|██▏       | 175/780 [06:26<21:59,  2.18s/it]"
     ]
    },
    {
     "name": "stdout",
     "output_type": "stream",
     "text": [
      "inputs\\large256.in: cost 444842.31591025763\n"
     ]
    },
    {
     "name": "stderr",
     "output_type": "stream",
     "text": [
      " 23%|██▎       | 176/780 [06:28<22:10,  2.20s/it]"
     ]
    },
    {
     "name": "stdout",
     "output_type": "stream",
     "text": [
      "inputs\\large257.in: cost 541528.3159102576\n"
     ]
    },
    {
     "name": "stderr",
     "output_type": "stream",
     "text": [
      " 23%|██▎       | 177/780 [06:31<22:54,  2.28s/it]"
     ]
    },
    {
     "name": "stdout",
     "output_type": "stream",
     "text": [
      "inputs\\large258.in: cost 833515.4738097385\n"
     ]
    },
    {
     "name": "stderr",
     "output_type": "stream",
     "text": [
      " 23%|██▎       | 178/780 [06:33<22:09,  2.21s/it]"
     ]
    },
    {
     "name": "stdout",
     "output_type": "stream",
     "text": [
      "inputs\\large259.in: cost 444727.5260455144\n"
     ]
    },
    {
     "name": "stderr",
     "output_type": "stream",
     "text": [
      " 23%|██▎       | 179/780 [06:35<23:03,  2.30s/it]"
     ]
    },
    {
     "name": "stdout",
     "output_type": "stream",
     "text": [
      "inputs\\large26.in: cost 454384.3958734721\n"
     ]
    },
    {
     "name": "stderr",
     "output_type": "stream",
     "text": [
      " 23%|██▎       | 179/780 [06:36<22:12,  2.22s/it]\n"
     ]
    },
    {
     "ename": "KeyboardInterrupt",
     "evalue": "",
     "output_type": "error",
     "traceback": [
      "\u001b[1;31m---------------------------------------------------------------------------\u001b[0m",
      "\u001b[1;31mKeyboardInterrupt\u001b[0m                         Traceback (most recent call last)",
      "\u001b[1;32mc:\\Users\\brand\\Documents\\cs170\\170-proj\\main.ipynb Cell 13\u001b[0m in \u001b[0;36m<cell line: 1>\u001b[1;34m()\u001b[0m\n\u001b[1;32m----> <a href='vscode-notebook-cell:/c%3A/Users/brand/Documents/cs170/170-proj/main.ipynb#X15sZmlsZQ%3D%3D?line=0'>1</a>\u001b[0m run_all(solve, \u001b[39m'\u001b[39;49m\u001b[39minputs\u001b[39;49m\u001b[39m'\u001b[39;49m, \u001b[39m'\u001b[39;49m\u001b[39moutputs\u001b[39;49m\u001b[39m'\u001b[39;49m, overwrite\u001b[39m=\u001b[39;49m\u001b[39mTrue\u001b[39;49;00m)\n\u001b[0;32m      <a href='vscode-notebook-cell:/c%3A/Users/brand/Documents/cs170/170-proj/main.ipynb#X15sZmlsZQ%3D%3D?line=1'>2</a>\u001b[0m tar(\u001b[39m'\u001b[39m\u001b[39moutputs\u001b[39m\u001b[39m'\u001b[39m)\n",
      "File \u001b[1;32mc:\\Users\\brand\\Documents\\cs170\\170-proj\\starter.py:148\u001b[0m, in \u001b[0;36mrun_all\u001b[1;34m(solver, in_dir, out_dir, overwrite)\u001b[0m\n\u001b[0;32m    146\u001b[0m \u001b[39mdef\u001b[39;00m \u001b[39mrun_all\u001b[39m(solver, in_dir, out_dir, overwrite: \u001b[39mbool\u001b[39m\u001b[39m=\u001b[39m\u001b[39mFalse\u001b[39;00m):\n\u001b[0;32m    147\u001b[0m     \u001b[39mfor\u001b[39;00m file \u001b[39min\u001b[39;00m tqdm([x \u001b[39mfor\u001b[39;00m x \u001b[39min\u001b[39;00m os\u001b[39m.\u001b[39mlistdir(in_dir) \u001b[39mif\u001b[39;00m x\u001b[39m.\u001b[39mendswith(\u001b[39m'\u001b[39m\u001b[39m.in\u001b[39m\u001b[39m'\u001b[39m)]):\n\u001b[1;32m--> 148\u001b[0m         run(solver, \u001b[39mstr\u001b[39;49m(Path(in_dir) \u001b[39m/\u001b[39;49m file), \u001b[39mstr\u001b[39;49m(Path(out_dir) \u001b[39m/\u001b[39;49m \u001b[39mf\u001b[39;49m\u001b[39m\"\u001b[39;49m\u001b[39m{\u001b[39;49;00mfile[:\u001b[39m-\u001b[39;49m\u001b[39mlen\u001b[39;49m(\u001b[39m'\u001b[39;49m\u001b[39m.in\u001b[39;49m\u001b[39m'\u001b[39;49m)]\u001b[39m}\u001b[39;49;00m\u001b[39m.out\u001b[39;49m\u001b[39m\"\u001b[39;49m), overwrite)\n",
      "File \u001b[1;32mc:\\Users\\brand\\Documents\\cs170\\170-proj\\starter.py:139\u001b[0m, in \u001b[0;36mrun\u001b[1;34m(solver, in_file, out_file, overwrite)\u001b[0m\n\u001b[0;32m    137\u001b[0m \u001b[39mdef\u001b[39;00m \u001b[39mrun\u001b[39m(solver, in_file: \u001b[39mstr\u001b[39m, out_file: \u001b[39mstr\u001b[39m, overwrite: \u001b[39mbool\u001b[39m\u001b[39m=\u001b[39m\u001b[39mFalse\u001b[39;00m):\n\u001b[0;32m    138\u001b[0m     instance \u001b[39m=\u001b[39m read_input(in_file)\n\u001b[1;32m--> 139\u001b[0m     output \u001b[39m=\u001b[39m solver(instance)\n\u001b[0;32m    140\u001b[0m     \u001b[39mif\u001b[39;00m output:\n\u001b[0;32m    141\u001b[0m         instance \u001b[39m=\u001b[39m output\n",
      "\u001b[1;32mc:\\Users\\brand\\Documents\\cs170\\170-proj\\main.ipynb Cell 13\u001b[0m in \u001b[0;36msolve\u001b[1;34m(G)\u001b[0m\n\u001b[0;32m     <a href='vscode-notebook-cell:/c%3A/Users/brand/Documents/cs170/170-proj/main.ipynb#X15sZmlsZQ%3D%3D?line=71'>72</a>\u001b[0m \u001b[39mfor\u001b[39;00m i \u001b[39min\u001b[39;00m \u001b[39mrange\u001b[39m(\u001b[39m5\u001b[39m):\n\u001b[0;32m     <a href='vscode-notebook-cell:/c%3A/Users/brand/Documents/cs170/170-proj/main.ipynb#X15sZmlsZQ%3D%3D?line=72'>73</a>\u001b[0m     Gcopy \u001b[39m=\u001b[39m copy\u001b[39m.\u001b[39mcopy(G)\n\u001b[1;32m---> <a href='vscode-notebook-cell:/c%3A/Users/brand/Documents/cs170/170-proj/main.ipynb#X15sZmlsZQ%3D%3D?line=73'>74</a>\u001b[0m     simulated_annealing(Gcopy, k)\n\u001b[0;32m     <a href='vscode-notebook-cell:/c%3A/Users/brand/Documents/cs170/170-proj/main.ipynb#X15sZmlsZQ%3D%3D?line=74'>75</a>\u001b[0m     \u001b[39mif\u001b[39;00m score(Gcopy) \u001b[39m<\u001b[39m score(G):\n\u001b[0;32m     <a href='vscode-notebook-cell:/c%3A/Users/brand/Documents/cs170/170-proj/main.ipynb#X15sZmlsZQ%3D%3D?line=75'>76</a>\u001b[0m         G \u001b[39m=\u001b[39m Gcopy\n",
      "\u001b[1;32mc:\\Users\\brand\\Documents\\cs170\\170-proj\\main.ipynb Cell 13\u001b[0m in \u001b[0;36msimulated_annealing\u001b[1;34m(G, k)\u001b[0m\n\u001b[0;32m     <a href='vscode-notebook-cell:/c%3A/Users/brand/Documents/cs170/170-proj/main.ipynb#X15sZmlsZQ%3D%3D?line=12'>13</a>\u001b[0m current_solution \u001b[39m=\u001b[39m randomTeamSample(G, currentTeamCount)\n\u001b[0;32m     <a href='vscode-notebook-cell:/c%3A/Users/brand/Documents/cs170/170-proj/main.ipynb#X15sZmlsZQ%3D%3D?line=16'>17</a>\u001b[0m \u001b[39mwhile\u001b[39;00m currentTemp \u001b[39m>\u001b[39m finalTemp:\n\u001b[0;32m     <a href='vscode-notebook-cell:/c%3A/Users/brand/Documents/cs170/170-proj/main.ipynb#X15sZmlsZQ%3D%3D?line=17'>18</a>\u001b[0m     \u001b[39m# choose a random solution from the neighborhood of the current solution\u001b[39;00m\n\u001b[0;32m     <a href='vscode-notebook-cell:/c%3A/Users/brand/Documents/cs170/170-proj/main.ipynb#X15sZmlsZQ%3D%3D?line=18'>19</a>\u001b[0m     \u001b[39m# print(\"Current Team Count: \" + str(currentTeamCount))\u001b[39;00m\n\u001b[1;32m---> <a href='vscode-notebook-cell:/c%3A/Users/brand/Documents/cs170/170-proj/main.ipynb#X15sZmlsZQ%3D%3D?line=19'>20</a>\u001b[0m     neighbors \u001b[39m=\u001b[39m getNeighbors(current_solution, currentTeamCount)\n\u001b[0;32m     <a href='vscode-notebook-cell:/c%3A/Users/brand/Documents/cs170/170-proj/main.ipynb#X15sZmlsZQ%3D%3D?line=20'>21</a>\u001b[0m     next_solution \u001b[39m=\u001b[39m random\u001b[39m.\u001b[39msample(neighbors, \u001b[39m1\u001b[39m)\n\u001b[0;32m     <a href='vscode-notebook-cell:/c%3A/Users/brand/Documents/cs170/170-proj/main.ipynb#X15sZmlsZQ%3D%3D?line=21'>22</a>\u001b[0m     \u001b[39m# print(next_solution == current_solution)\u001b[39;00m\n",
      "\u001b[1;32mc:\\Users\\brand\\Documents\\cs170\\170-proj\\main.ipynb Cell 13\u001b[0m in \u001b[0;36mgetNeighbors\u001b[1;34m(G, currentTeamCount)\u001b[0m\n\u001b[0;32m     <a href='vscode-notebook-cell:/c%3A/Users/brand/Documents/cs170/170-proj/main.ipynb#X15sZmlsZQ%3D%3D?line=49'>50</a>\u001b[0m             \u001b[39m#print(\"Swapping \" + str(v) + \"from team \" + str(team1) + \" with \" + str(otherVert) + \" from team \" + str(team2))\u001b[39;00m\n\u001b[0;32m     <a href='vscode-notebook-cell:/c%3A/Users/brand/Documents/cs170/170-proj/main.ipynb#X15sZmlsZQ%3D%3D?line=50'>51</a>\u001b[0m         neighbors\u001b[39m.\u001b[39mappend(copyG)\n\u001b[1;32m---> <a href='vscode-notebook-cell:/c%3A/Users/brand/Documents/cs170/170-proj/main.ipynb#X15sZmlsZQ%3D%3D?line=52'>53</a>\u001b[0m oneMore \u001b[39m=\u001b[39m randomTeamSample(G, currentTeamCount \u001b[39m+\u001b[39;49m \u001b[39m1\u001b[39;49m)\n\u001b[0;32m     <a href='vscode-notebook-cell:/c%3A/Users/brand/Documents/cs170/170-proj/main.ipynb#X15sZmlsZQ%3D%3D?line=53'>54</a>\u001b[0m \u001b[39mfor\u001b[39;00m v \u001b[39min\u001b[39;00m oneMore\u001b[39m.\u001b[39mnodes():\n\u001b[0;32m     <a href='vscode-notebook-cell:/c%3A/Users/brand/Documents/cs170/170-proj/main.ipynb#X15sZmlsZQ%3D%3D?line=54'>55</a>\u001b[0m     otherVert \u001b[39m=\u001b[39m random\u001b[39m.\u001b[39msample(oneMore\u001b[39m.\u001b[39mnodes(), \u001b[39m1\u001b[39m)\n",
      "\u001b[1;32mc:\\Users\\brand\\Documents\\cs170\\170-proj\\main.ipynb Cell 13\u001b[0m in \u001b[0;36mrandomTeamSample\u001b[1;34m(G, teamCount)\u001b[0m\n\u001b[0;32m     <a href='vscode-notebook-cell:/c%3A/Users/brand/Documents/cs170/170-proj/main.ipynb#X15sZmlsZQ%3D%3D?line=12'>13</a>\u001b[0m \u001b[39m#print(\"Team Size: \" + str(teamSize))\u001b[39;00m\n\u001b[0;32m     <a href='vscode-notebook-cell:/c%3A/Users/brand/Documents/cs170/170-proj/main.ipynb#X15sZmlsZQ%3D%3D?line=13'>14</a>\u001b[0m \u001b[39mfor\u001b[39;00m teamNum \u001b[39min\u001b[39;00m \u001b[39mrange\u001b[39m(\u001b[39m1\u001b[39m, teamCount \u001b[39m+\u001b[39m \u001b[39m1\u001b[39m):\n\u001b[1;32m---> <a href='vscode-notebook-cell:/c%3A/Users/brand/Documents/cs170/170-proj/main.ipynb#X15sZmlsZQ%3D%3D?line=14'>15</a>\u001b[0m     verts \u001b[39m=\u001b[39m random\u001b[39m.\u001b[39;49msample(nodes, teamSize)\n\u001b[0;32m     <a href='vscode-notebook-cell:/c%3A/Users/brand/Documents/cs170/170-proj/main.ipynb#X15sZmlsZQ%3D%3D?line=15'>16</a>\u001b[0m     nodes \u001b[39m=\u001b[39m removeNodes(nodes, verts)\n\u001b[0;32m     <a href='vscode-notebook-cell:/c%3A/Users/brand/Documents/cs170/170-proj/main.ipynb#X15sZmlsZQ%3D%3D?line=16'>17</a>\u001b[0m     \u001b[39mfor\u001b[39;00m v \u001b[39min\u001b[39;00m verts:\n",
      "File \u001b[1;32mC:\\Program Files\\WindowsApps\\PythonSoftwareFoundation.Python.3.9_3.9.3568.0_x64__qbz5n2kfra8p0\\lib\\random.py:458\u001b[0m, in \u001b[0;36mRandom.sample\u001b[1;34m(self, population, k, counts)\u001b[0m\n\u001b[0;32m    454\u001b[0m \u001b[39mif\u001b[39;00m n \u001b[39m<\u001b[39m\u001b[39m=\u001b[39m setsize:\n\u001b[0;32m    455\u001b[0m     \u001b[39m# An n-length list is smaller than a k-length set.\u001b[39;00m\n\u001b[0;32m    456\u001b[0m     \u001b[39m# Invariant:  non-selected at pool[0 : n-i]\u001b[39;00m\n\u001b[0;32m    457\u001b[0m     pool \u001b[39m=\u001b[39m \u001b[39mlist\u001b[39m(population)\n\u001b[1;32m--> 458\u001b[0m     \u001b[39mfor\u001b[39;00m i \u001b[39min\u001b[39;00m \u001b[39mrange\u001b[39;49m(k):\n\u001b[0;32m    459\u001b[0m         j \u001b[39m=\u001b[39m randbelow(n \u001b[39m-\u001b[39m i)\n\u001b[0;32m    460\u001b[0m         result[i] \u001b[39m=\u001b[39m pool[j]\n",
      "\u001b[1;31mKeyboardInterrupt\u001b[0m: "
     ]
    }
   ],
   "source": [
    "run_all(solve, 'inputs', 'outputs', overwrite=True)\n",
    "tar('outputs')"
   ]
  },
  {
   "cell_type": "code",
   "execution_count": null,
   "metadata": {},
   "outputs": [],
   "source": []
  }
 ],
 "metadata": {
  "kernelspec": {
   "display_name": "Python 3.9.13 64-bit (microsoft store)",
   "language": "python",
   "name": "python3"
  },
  "language_info": {
   "codemirror_mode": {
    "name": "ipython",
    "version": 3
   },
   "file_extension": ".py",
   "mimetype": "text/x-python",
   "name": "python",
   "nbconvert_exporter": "python",
   "pygments_lexer": "ipython3",
   "version": "3.9.13"
  },
  "vscode": {
   "interpreter": {
    "hash": "8a6d694099775d51971b60adbdb32959f530db667179b28aeaf67c215fea7e22"
   }
  }
 },
 "nbformat": 4,
 "nbformat_minor": 1
}
